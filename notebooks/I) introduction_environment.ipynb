{
 "cells": [
  {
   "cell_type": "code",
   "execution_count": 6,
   "metadata": {},
   "outputs": [],
   "source": [
    "import seaborn as sns\n",
    "import numpy as np\n",
    "from time import sleep\n",
    "import matplotlib.pyplot as plt\n",
    "import tensorflow as tf\n",
    "import gym\n",
    "from time import time,sleep\n",
    "sns.set_style(\"darkgrid\")"
   ]
  },
  {
   "cell_type": "markdown",
   "metadata": {},
   "source": [
    "# ENVIRONMENT - AGENT"
   ]
  },
  {
   "cell_type": "markdown",
   "metadata": {},
   "source": [
    "The environment encapsules the rules/transition model ($\\mathbb{P}(S_{t+1},R_{t+1}|S_t,A_t)$) that gives feedback to the agent.\n",
    "\n",
    "Science of environments is complex, particulary for real problems simulation (e.g for autonomous vehicules).\n",
    "\n",
    "It is easiest when then environment is already completly defined (e.g Videos Games)."
   ]
  },
  {
   "cell_type": "markdown",
   "metadata": {},
   "source": [
    "### Minimal environment class\n",
    "The main part of a virtual environment is the <b>step</b> function. It takes the <b>action</b> and return a new <b>state</b>, the associated <b>reward</b>, a boolean (<b>done</b>) to inticate if it is a final step, and eventually some <b>info</b>."
   ]
  },
  {
   "cell_type": "code",
   "execution_count": 8,
   "metadata": {},
   "outputs": [],
   "source": [
    "class Env:\n",
    "    def __init__(self):\n",
    "        self.state = 0\n",
    "        self.done = False\n",
    "        \n",
    "    def step(self, action):\n",
    "        ...\n",
    "        return state, reward, done, info\n",
    "        \n",
    "        \n",
    "    def reset(self):\n",
    "        self.__init__()\n",
    "        return self.state"
   ]
  },
  {
   "cell_type": "markdown",
   "metadata": {},
   "source": [
    "### Exemple of environment\n",
    "\n",
    "Environment generate a random state number. If the action is the same parity, reward is $1$, otherwise reward is $-1$"
   ]
  },
  {
   "cell_type": "code",
   "execution_count": 9,
   "metadata": {},
   "outputs": [],
   "source": [
    "class Env_odd_even(Env):\n",
    "    def step(self, action):\n",
    "        if (action % 2 == 0 and self.state % 2 == 0) or (action % 2 == 1 and self.state % 2 == 1):\n",
    "            reward = 1\n",
    "        else:\n",
    "            reward = -1\n",
    "        self.state = np.random.randint(2)\n",
    "        return self.state, reward, self.done, {}"
   ]
  },
  {
   "cell_type": "markdown",
   "metadata": {},
   "source": [
    "### Minimal agent class"
   ]
  },
  {
   "cell_type": "markdown",
   "metadata": {},
   "source": [
    "The <b>act</b> function return an <b>action</b> for a <b>state</b> according to the agent policy.\n",
    "A smart agent may learn and update its policy."
   ]
  },
  {
   "cell_type": "code",
   "execution_count": 10,
   "metadata": {},
   "outputs": [],
   "source": [
    "class Agent:\n",
    "    def __init__(self, env):\n",
    "        self.env = env\n",
    "    def act(self, state):\n",
    "        return action\n",
    "    def learn():\n",
    "        pass"
   ]
  },
  {
   "cell_type": "markdown",
   "metadata": {},
   "source": [
    "### Random agent\n",
    "It acts randomly. It is useful as lower bound for benchmark."
   ]
  },
  {
   "cell_type": "code",
   "execution_count": 11,
   "metadata": {},
   "outputs": [],
   "source": [
    "class MyRandomAgent(Agent):\n",
    "    def act(self, state):\n",
    "        action = np.random.randint(2)\n",
    "        return action"
   ]
  },
  {
   "cell_type": "markdown",
   "metadata": {},
   "source": [
    "### Super agent\n",
    "When we know the best policy. It serves as higher bound for the benchmark and it allows to compute the regret."
   ]
  },
  {
   "cell_type": "code",
   "execution_count": 12,
   "metadata": {},
   "outputs": [],
   "source": [
    "class MySuperAgent(Agent):\n",
    "    def act(self, state):\n",
    "        if state % 2 == 0:\n",
    "            action = 0\n",
    "        else:\n",
    "            action = 1\n",
    "        return action"
   ]
  },
  {
   "cell_type": "markdown",
   "metadata": {},
   "source": [
    "### Compute rewards in agent-environment interaction "
   ]
  },
  {
   "cell_type": "markdown",
   "metadata": {},
   "source": [
    "Now, we want to compare the performance of our agents. The empirical way to do it is to observe the cumulative reward (following the agent policy)."
   ]
  },
  {
   "cell_type": "code",
   "execution_count": 13,
   "metadata": {},
   "outputs": [],
   "source": [
    "def run_experiment(env, agent, nb_step):\n",
    "    states = np.zeros(nb_step)\n",
    "    actions = np.zeros(nb_step)\n",
    "    rewards = np.zeros(nb_step)\n",
    "    state = env.reset()\n",
    "    for i in range(nb_step):\n",
    "        action = agent.act(state)\n",
    "        state, reward, done, info = env.step(action)\n",
    "        rewards[i] = reward\n",
    "        states[i] = state\n",
    "        actions[i] = action\n",
    "    return states, actions, rewards"
   ]
  },
  {
   "cell_type": "code",
   "execution_count": 14,
   "metadata": {},
   "outputs": [],
   "source": [
    "nb_step = 100"
   ]
  },
  {
   "cell_type": "code",
   "execution_count": 15,
   "metadata": {},
   "outputs": [
    {
     "data": {
      "text/plain": [
       "Text(0.5, 1.0, 'cumulative reward - random_agent')"
      ]
     },
     "execution_count": 15,
     "metadata": {},
     "output_type": "execute_result"
    },
    {
     "data": {
      "image/png": "[encoded data removed]",
      "text/plain": [
       "<Figure size 432x288 with 1 Axes>"
      ]
     },
     "metadata": {},
     "output_type": "display_data"
    }
   ],
   "source": [
    "env = Env_odd_even()\n",
    "my_random_agent = MyRandomAgent(env)\n",
    "_, _, rewards = run_experiment(env, my_random_agent, nb_step)\n",
    "plt.plot(rewards.cumsum())\n",
    "plt.title('cumulative reward - random_agent')"
   ]
  },
  {
   "cell_type": "code",
   "execution_count": 16,
   "metadata": {},
   "outputs": [
    {
     "data": {
      "text/plain": [
       "Text(0.5, 1.0, 'cumulative reward - super_agent')"
      ]
     },
     "execution_count": 16,
     "metadata": {},
     "output_type": "execute_result"
    },
    {
     "data": {
      "image/png": "[encoded data removed]",
      "text/plain": [
       "<Figure size 432x288 with 1 Axes>"
      ]
     },
     "metadata": {},
     "output_type": "display_data"
    }
   ],
   "source": [
    "env = Env_odd_even()\n",
    "my_super_agent = MyRandomAgent(env)\n",
    "_, _, rewards = run_experiment(env, my_super_agent, nb_step)\n",
    "plt.plot(rewards.cumsum())\n",
    "plt.title('cumulative reward - super_agent')"
   ]
  },
  {
   "cell_type": "markdown",
   "metadata": {},
   "source": [
    "### Exemple of environment with episode end\n",
    "Environment generate a random state number. If the action is the same parity, reward is $1$, otherwise reward is $-1$. If the agent wins 3 consectives times, the episode ends. After 500 iterations, episode ends."
   ]
  },
  {
   "cell_type": "code",
   "execution_count": 17,
   "metadata": {},
   "outputs": [],
   "source": [
    "class Env_odd_even2(Env):\n",
    "    def __init__(self):\n",
    "        self.state = 0\n",
    "        self.done = False\n",
    "        self.nb_win = 0\n",
    "        self.limit_game = 500\n",
    "    def step(self, action):\n",
    "        if (action % 2 == 0 and self.state % 2 == 0) or (action % 2 == 1 and self.state % 2 == 1):\n",
    "            self.nb_win += 1\n",
    "            reward = 1\n",
    "        else:\n",
    "            self.nb_win = 0\n",
    "            reward = -1\n",
    "        self.state = np.random.randint(2)\n",
    "        if self.nb_win == 3 or self.limit_game == 0:\n",
    "            self.done = True\n",
    "        self.limit_game -= 1\n",
    "        return self.state, reward, self.done, {}"
   ]
  },
  {
   "cell_type": "markdown",
   "metadata": {},
   "source": [
    "Now, we observe the cumulative reward through trajectories (following the agent policy)."
   ]
  },
  {
   "cell_type": "code",
   "execution_count": 18,
   "metadata": {},
   "outputs": [],
   "source": [
    "def run_experiment_episode(env, agent, nb_episode):\n",
    "    rewards = np.zeros(nb_episode)\n",
    "    for i in range(nb_episode):\n",
    "        state = env.reset()\n",
    "        done = False\n",
    "        rews = []\n",
    "        while done is False:\n",
    "            action = agent.act(state)\n",
    "            state, reward, done, info = env.step(action)\n",
    "            rews.append(reward)\n",
    "        rewards[i] = sum(rews)\n",
    "    return rewards"
   ]
  },
  {
   "cell_type": "code",
   "execution_count": 19,
   "metadata": {},
   "outputs": [
    {
     "data": {
      "text/plain": [
       "Text(0.5, 1.0, 'cumulative reward per episode - random_agent')"
      ]
     },
     "execution_count": 19,
     "metadata": {},
     "output_type": "execute_result"
    },
    {
     "data": {
      "image/png": "[encoded data removed]",
      "text/plain": [
       "<Figure size 432x288 with 1 Axes>"
      ]
     },
     "metadata": {},
     "output_type": "display_data"
    }
   ],
   "source": [
    "env = Env_odd_even2()\n",
    "rewards = run_experiment_episode(env, my_random_agent, 20)\n",
    "plt.plot(rewards)\n",
    "plt.title('cumulative reward per episode - random_agent')"
   ]
  },
  {
   "cell_type": "code",
   "execution_count": 20,
   "metadata": {},
   "outputs": [
    {
     "data": {
      "text/plain": [
       "Text(0.5, 1.0, 'cumulative reward per episode - super_agent')"
      ]
     },
     "execution_count": 20,
     "metadata": {},
     "output_type": "execute_result"
    },
    {
     "data": {
      "image/png": "[encoded data removed]",
      "text/plain": [
       "<Figure size 432x288 with 1 Axes>"
      ]
     },
     "metadata": {},
     "output_type": "display_data"
    }
   ],
   "source": [
    "env = Env_odd_even2()\n",
    "rewards = run_experiment_episode(env, my_super_agent, 20)\n",
    "plt.plot(rewards)\n",
    "plt.title('cumulative reward per episode - super_agent')"
   ]
  },
  {
   "cell_type": "markdown",
   "metadata": {},
   "source": [
    "# ENVIRONMENT FROM OPENAI\n",
    "https://gym.openai.com/envs/#atari"
   ]
  },
  {
   "cell_type": "markdown",
   "metadata": {},
   "source": [
    "## Discrete state action environment"
   ]
  },
  {
   "cell_type": "markdown",
   "metadata": {},
   "source": [
    "### NChain"
   ]
  },
  {
   "cell_type": "markdown",
   "metadata": {},
   "source": [
    "<img src=\"images/NChain-illustration.png\">"
   ]
  },
  {
   "cell_type": "code",
   "execution_count": 21,
   "metadata": {},
   "outputs": [
    {
     "name": "stdout",
     "output_type": "stream",
     "text": [
      "description action space: Discrete(2)\n",
      "description observation space: Discrete(5)\n",
      "run some random iteration:\n",
      "\n",
      "action: \n",
      "0\n",
      "state: \n",
      "1\n",
      "reward: \n",
      "0\n",
      "\n",
      "action: \n",
      "1\n",
      "state: \n",
      "0\n",
      "reward: \n",
      "2\n",
      "\n",
      "action: \n",
      "1\n",
      "state: \n",
      "0\n",
      "reward: \n",
      "2\n"
     ]
    }
   ],
   "source": [
    "env = gym.make('NChain-v0')\n",
    "print('description action space:', env.action_space)\n",
    "print('description observation space:', env.observation_space)\n",
    "print('run some random iteration:')\n",
    "env.reset()\n",
    "for _ in range(3):\n",
    "    print()\n",
    "    action = env.action_space.sample()\n",
    "    print('action: ')\n",
    "    print(action)\n",
    "    state, reward, done, info = env.step(action)\n",
    "    print('state: ')\n",
    "    print(state)\n",
    "    print('reward: ')\n",
    "    print(reward)"
   ]
  },
  {
   "cell_type": "markdown",
   "metadata": {},
   "source": [
    "## Discrete action continuous space environment"
   ]
  },
  {
   "cell_type": "markdown",
   "metadata": {},
   "source": [
    "### CartPole\n",
    "A pole is attached by an un-actuated joint to a cart, which moves along a frictionless track. The system is controlled by applying a force of +1 or -1 to the cart. The pendulum starts upright, and the goal is to prevent it from falling over. A reward of +1 is provided for every timestep that the pole remains upright. The episode ends when the pole is more than 15 degrees from vertical, or the cart moves more than 2.4 units from the center.\n",
    "<img src=\"images/CartPole-v1.png\">\n",
    "observations: position of cart, velocity of cart, angle of pole, rotation rate of pole"
   ]
  },
  {
   "cell_type": "code",
   "execution_count": 22,
   "metadata": {},
   "outputs": [
    {
     "name": "stdout",
     "output_type": "stream",
     "text": [
      "description action space: Discrete(2)\n",
      "description observation space: Box(4,)\n",
      "run some random iteration:\n",
      "\n",
      "action: \n",
      "1\n",
      "state: \n",
      "[-0.03817117  0.21068874  0.00732916 -0.32564283]\n",
      "reward: \n",
      "1.0\n",
      "\n",
      "action: \n",
      "0\n",
      "state: \n",
      "[-0.0339574   0.01546321  0.0008163  -0.03065765]\n",
      "reward: \n",
      "1.0\n",
      "\n",
      "action: \n",
      "0\n",
      "state: \n",
      "[-3.36481353e-02 -1.79670443e-01  2.03147889e-04  2.62282720e-01]\n",
      "reward: \n",
      "1.0\n"
     ]
    }
   ],
   "source": [
    "env = gym.make('CartPole-v0')\n",
    "env.reset()\n",
    "print('description action space:', env.action_space)\n",
    "print('description observation space:', env.observation_space)\n",
    "print('run some random iteration:')\n",
    "for _ in range(3):\n",
    "    print()\n",
    "    action = env.action_space.sample()\n",
    "    print('action: ')\n",
    "    print(action)\n",
    "    state, reward, done, info = env.step(action)\n",
    "    print('state: ')\n",
    "    print(state)\n",
    "    print('reward: ')\n",
    "    print(reward)"
   ]
  },
  {
   "cell_type": "markdown",
   "metadata": {},
   "source": [
    "Most of the environments are provide with a render:"
   ]
  },
  {
   "cell_type": "code",
   "execution_count": 24,
   "metadata": {},
   "outputs": [
    {
     "name": "stdout",
     "output_type": "stream",
     "text": [
      "reset\n",
      "reset\n",
      "reset\n",
      "reset\n",
      "reset\n"
     ]
    }
   ],
   "source": [
    "time_steps = 50\n",
    "state = env.reset()\n",
    "for _ in range(time_steps):\n",
    "    action = env.action_space.sample()\n",
    "    _, _, done, _ = env.step(action)\n",
    "    if done is True:\n",
    "        state = env.reset()\n",
    "        print('reset')\n",
    "    env.render()\n",
    "    sleep(0.1)\n",
    "env.close()"
   ]
  },
  {
   "cell_type": "markdown",
   "metadata": {},
   "source": [
    "## Continuous action-space environment"
   ]
  },
  {
   "cell_type": "markdown",
   "metadata": {},
   "source": [
    "### MountainCarContinuous\n",
    "An underpowered car must climb a one-dimensional hill to reach a target. Unlike MountainCar v0, the action (engine force applied) is allowed to be a continuous value.\n",
    "\n",
    "The target is on top of a hill on the right-hand side of the car. If the car reaches it or goes beyond, the episode terminates.\n",
    "\n",
    "On the left-hand side, there is another hill. Climbing this hill can be used to gain potential energy and accelerate towards the target. On top of this second hill, the car cannot go further than a position equal to -1, as if there was a wall. Hitting this limit does not generate a penalty (it might in a more challenging version).\n",
    "<img src=\"images/MountainCarContinuous-v0.png\">"
   ]
  },
  {
   "cell_type": "code",
   "execution_count": 25,
   "metadata": {},
   "outputs": [
    {
     "name": "stdout",
     "output_type": "stream",
     "text": [
      "description action space: Box(1,)\n",
      "description observation space: Box(2,)\n",
      "run some random iteration:\n",
      "\n",
      "action: \n",
      "[-0.27496302]\n",
      "state: \n",
      "[-5.45765604e-01 -2.48173056e-04]\n",
      "reward: \n",
      "-0.00756046630705356\n",
      "\n",
      "action: \n",
      "[-0.20149921]\n",
      "state: \n",
      "[-5.46149897e-01 -3.84293164e-04]\n",
      "reward: \n",
      "-0.004060193115022793\n",
      "\n",
      "action: \n",
      "[0.14933644]\n",
      "state: \n",
      "[-5.46141181e-01  8.71592219e-06]\n",
      "reward: \n",
      "-0.0022301373014155467\n"
     ]
    }
   ],
   "source": [
    "env = gym.make('MountainCarContinuous-v0')\n",
    "env.reset()\n",
    "print('description action space:', env.action_space)\n",
    "print('description observation space:', env.observation_space)\n",
    "print('run some random iteration:')\n",
    "for _ in range(3):\n",
    "    print()\n",
    "    action = env.action_space.sample()\n",
    "    print('action: ')\n",
    "    print(action)\n",
    "    state, reward, done, info = env.step(action)\n",
    "    print('state: ')\n",
    "    print(state)\n",
    "    print('reward: ')\n",
    "    print(reward)"
   ]
  },
  {
   "cell_type": "code",
   "execution_count": 29,
   "metadata": {},
   "outputs": [],
   "source": [
    "time_steps = 500\n",
    "state = env.reset()\n",
    "for _ in range(time_steps):\n",
    "    action = env.action_space.sample()\n",
    "    _, _, done, _ = env.step(action)\n",
    "    if done is True:\n",
    "        state = env.reset()\n",
    "        print('reset')\n",
    "    env.render()\n",
    "    sleep(0.01)\n",
    "env.close()"
   ]
  },
  {
   "cell_type": "markdown",
   "metadata": {},
   "source": [
    "### LunarLanderContinuous\n",
    "Landing pad is always at coordinates (0,0). Coordinates are the first two numbers in state vector. Reward for moving from the top of the screen to landing pad and zero speed is about 100..140 points. If lander moves away from landing pad it loses reward back. Episode finishes if the lander crashes or comes to rest, receiving additional -100 or +100 points. Each leg ground contact is +10. Firing main engine is -0.3 points each frame. Solved is 200 points. Landing outside landing pad is possible. Fuel is infinite, so an agent can learn to fly and then land on its first attempt. Action is two real values vector from -1 to +1. First controls main engine, -1..0 off, 0..+1 throttle from 50% to 100% power. Engine can't work with less than 50% power. Second value -1.0..-0.5 fire left engine, +0.5..+1.0 fire right engine, -0.5..0.5 off.\n",
    "<img src=\"images/LunarLanderContinuous-v2.png\">"
   ]
  },
  {
   "cell_type": "code",
   "execution_count": 30,
   "metadata": {},
   "outputs": [
    {
     "name": "stdout",
     "output_type": "stream",
     "text": [
      "description action space: Box(2,)\n",
      "description observation space: Box(8,)\n",
      "run some random iteration:\n",
      "\n",
      "action: \n",
      "[ 0.24919632 -0.63060945]\n",
      "state: \n",
      "[ 0.00297461  1.4274199   0.14481987  0.36571872 -0.00233542 -0.011335\n",
      "  0.          0.        ]\n",
      "reward: \n",
      "-0.5194211995216438\n",
      "action: \n",
      "[0.7910706  0.06115605]\n",
      "state: \n",
      "[ 0.00449276  1.4363046   0.15203543  0.39488018 -0.00254732 -0.00423825\n",
      "  0.          0.        ]\n",
      "reward: \n",
      "-4.157601998815534\n",
      "action: \n",
      "[0.93030185 0.4675539 ]\n",
      "state: \n",
      "[ 0.00590506  1.4453889   0.1419628   0.40374956 -0.00327372 -0.0145295\n",
      "  0.          0.        ]\n",
      "reward: \n",
      "-1.7554283182360506\n"
     ]
    }
   ],
   "source": [
    "env = gym.make('LunarLanderContinuous-v2')\n",
    "env.reset()\n",
    "print('description action space:', env.action_space)\n",
    "print('description observation space:', env.observation_space)\n",
    "print('run some random iteration:')\n",
    "print()\n",
    "for _ in range(3):\n",
    "    action = env.action_space.sample()\n",
    "    print('action: ')\n",
    "    print(action)\n",
    "    state, reward, done, info = env.step(action)\n",
    "    print('state: ')\n",
    "    print(state)\n",
    "    print('reward: ')\n",
    "    print(reward)"
   ]
  },
  {
   "cell_type": "code",
   "execution_count": 33,
   "metadata": {},
   "outputs": [
    {
     "name": "stdout",
     "output_type": "stream",
     "text": [
      "reset\n",
      "reset\n",
      "reset\n"
     ]
    }
   ],
   "source": [
    "time_steps = 500\n",
    "state = env.reset()\n",
    "for _ in range(time_steps):\n",
    "    action = env.action_space.sample()\n",
    "    _, _, done, _ = env.step(action)\n",
    "    if done is True:\n",
    "        state = env.reset()\n",
    "        print('reset')\n",
    "    env.render()\n",
    "    sleep(0.01)\n",
    "env.close()"
   ]
  },
  {
   "cell_type": "markdown",
   "metadata": {},
   "source": [
    "## High space dimension environment"
   ]
  },
  {
   "cell_type": "markdown",
   "metadata": {},
   "source": [
    "### Atari games\n"
   ]
  },
  {
   "cell_type": "code",
   "execution_count": 52,
   "metadata": {},
   "outputs": [
    {
     "name": "stdout",
     "output_type": "stream",
     "text": [
      "description action space: Discrete(6)\n",
      "description observation space: Box(210, 160, 3)\n",
      "run some random iteration:\n",
      "\n",
      "action: \n",
      "4\n",
      "state: \n",
      "[[[  0   0   0]\n",
      "  [  0   0   0]\n",
      "  [  0   0   0]\n",
      "  ...\n",
      "  [144  72  17]\n",
      "  [144  72  17]\n",
      "  [144  72  17]]\n",
      "\n",
      " [[144  72  17]\n",
      "  [144  72  17]\n",
      "  [144  72  17]\n",
      "  ...\n",
      "  [144  72  17]\n",
      "  [144  72  17]\n",
      "  [144  72  17]]\n",
      "\n",
      " [[144  72  17]\n",
      "  [144  72  17]\n",
      "  [144  72  17]\n",
      "  ...\n",
      "  [144  72  17]\n",
      "  [144  72  17]\n",
      "  [144  72  17]]\n",
      "\n",
      " ...\n",
      "\n",
      " [[236 236 236]\n",
      "  [236 236 236]\n",
      "  [236 236 236]\n",
      "  ...\n",
      "  [236 236 236]\n",
      "  [236 236 236]\n",
      "  [236 236 236]]\n",
      "\n",
      " [[236 236 236]\n",
      "  [236 236 236]\n",
      "  [236 236 236]\n",
      "  ...\n",
      "  [236 236 236]\n",
      "  [236 236 236]\n",
      "  [236 236 236]]\n",
      "\n",
      " [[236 236 236]\n",
      "  [236 236 236]\n",
      "  [236 236 236]\n",
      "  ...\n",
      "  [236 236 236]\n",
      "  [236 236 236]\n",
      "  [236 236 236]]]\n",
      "reward: \n",
      "0.0\n",
      "action: \n",
      "2\n",
      "state: \n",
      "[[[  0   0   0]\n",
      "  [  0   0   0]\n",
      "  [  0   0   0]\n",
      "  ...\n",
      "  [144  72  17]\n",
      "  [144  72  17]\n",
      "  [144  72  17]]\n",
      "\n",
      " [[144  72  17]\n",
      "  [144  72  17]\n",
      "  [144  72  17]\n",
      "  ...\n",
      "  [144  72  17]\n",
      "  [144  72  17]\n",
      "  [144  72  17]]\n",
      "\n",
      " [[144  72  17]\n",
      "  [144  72  17]\n",
      "  [144  72  17]\n",
      "  ...\n",
      "  [144  72  17]\n",
      "  [144  72  17]\n",
      "  [144  72  17]]\n",
      "\n",
      " ...\n",
      "\n",
      " [[236 236 236]\n",
      "  [236 236 236]\n",
      "  [236 236 236]\n",
      "  ...\n",
      "  [236 236 236]\n",
      "  [236 236 236]\n",
      "  [236 236 236]]\n",
      "\n",
      " [[236 236 236]\n",
      "  [236 236 236]\n",
      "  [236 236 236]\n",
      "  ...\n",
      "  [236 236 236]\n",
      "  [236 236 236]\n",
      "  [236 236 236]]\n",
      "\n",
      " [[236 236 236]\n",
      "  [236 236 236]\n",
      "  [236 236 236]\n",
      "  ...\n",
      "  [236 236 236]\n",
      "  [236 236 236]\n",
      "  [236 236 236]]]\n",
      "reward: \n",
      "0.0\n",
      "action: \n",
      "0\n",
      "state: \n",
      "[[[  0   0   0]\n",
      "  [  0   0   0]\n",
      "  [  0   0   0]\n",
      "  ...\n",
      "  [144  72  17]\n",
      "  [144  72  17]\n",
      "  [144  72  17]]\n",
      "\n",
      " [[144  72  17]\n",
      "  [144  72  17]\n",
      "  [144  72  17]\n",
      "  ...\n",
      "  [144  72  17]\n",
      "  [144  72  17]\n",
      "  [144  72  17]]\n",
      "\n",
      " [[144  72  17]\n",
      "  [144  72  17]\n",
      "  [144  72  17]\n",
      "  ...\n",
      "  [144  72  17]\n",
      "  [144  72  17]\n",
      "  [144  72  17]]\n",
      "\n",
      " ...\n",
      "\n",
      " [[236 236 236]\n",
      "  [236 236 236]\n",
      "  [236 236 236]\n",
      "  ...\n",
      "  [236 236 236]\n",
      "  [236 236 236]\n",
      "  [236 236 236]]\n",
      "\n",
      " [[236 236 236]\n",
      "  [236 236 236]\n",
      "  [236 236 236]\n",
      "  ...\n",
      "  [236 236 236]\n",
      "  [236 236 236]\n",
      "  [236 236 236]]\n",
      "\n",
      " [[236 236 236]\n",
      "  [236 236 236]\n",
      "  [236 236 236]\n",
      "  ...\n",
      "  [236 236 236]\n",
      "  [236 236 236]\n",
      "  [236 236 236]]]\n",
      "reward: \n",
      "0.0\n"
     ]
    }
   ],
   "source": [
    "env = gym.make('Pong-v0')\n",
    "env.reset()\n",
    "print('description action space:', env.action_space)\n",
    "print('description observation space:', env.observation_space)\n",
    "print('run some random iteration:')\n",
    "print()\n",
    "for _ in range(3):\n",
    "    action = env.action_space.sample()\n",
    "    print('action: ')\n",
    "    print(action)\n",
    "    state, reward, done, info = env.step(action)\n",
    "    print('state: ')\n",
    "    print(state)\n",
    "    print('reward: ')\n",
    "    print(reward)"
   ]
  },
  {
   "cell_type": "code",
   "execution_count": 55,
   "metadata": {},
   "outputs": [],
   "source": [
    "time_steps = 1000\n",
    "state = env.reset()\n",
    "for _ in range(time_steps):\n",
    "    action = env.action_space.sample()\n",
    "    _, _, done, _ = env.step(action)\n",
    "    if done is True:\n",
    "        state = env.reset()\n",
    "        print('reset')\n",
    "    env.render()\n",
    "    sleep(0.004)\n",
    "env.close()"
   ]
  },
  {
   "cell_type": "markdown",
   "metadata": {},
   "source": [
    "# Evaluate Random agent in open ai gym"
   ]
  },
  {
   "cell_type": "code",
   "execution_count": 56,
   "metadata": {},
   "outputs": [],
   "source": [
    "env = gym.make('Pong-v0')"
   ]
  },
  {
   "cell_type": "code",
   "execution_count": 57,
   "metadata": {},
   "outputs": [],
   "source": [
    "class RandomAgent(Agent):\n",
    "    def act(self, state):\n",
    "            return self.env.action_space.sample()"
   ]
  },
  {
   "cell_type": "code",
   "execution_count": 58,
   "metadata": {},
   "outputs": [
    {
     "data": {
      "text/plain": [
       "Text(0.5, 1.0, 'cumulative reward per episode - rand_agent')"
      ]
     },
     "execution_count": 58,
     "metadata": {},
     "output_type": "execute_result"
    },
    {
     "data": {
      "image/png": "[encoded data removed]",
      "text/plain": [
       "<Figure size 432x288 with 1 Axes>"
      ]
     },
     "metadata": {},
     "output_type": "display_data"
    }
   ],
   "source": [
    "rand_agent = RandomAgent(env)\n",
    "rewards = run_experiment_episode(env, rand_agent, 200)\n",
    "plt.plot(rewards)\n",
    "plt.title('cumulative reward per episode - rand_agent')"
   ]
  },
  {
   "cell_type": "markdown",
   "metadata": {},
   "source": [
    "# TODO add example of bandit env"
   ]
  },
  {
   "cell_type": "code",
   "execution_count": null,
   "metadata": {},
   "outputs": [],
   "source": []
  }
 ],
 "metadata": {
  "kernelspec": {
   "display_name": "Python 3",
   "language": "python",
   "name": "python3"
  },
  "language_info": {
   "codemirror_mode": {
    "name": "ipython",
    "version": 3
   },
   "file_extension": ".py",
   "mimetype": "text/x-python",
   "name": "python",
   "nbconvert_exporter": "python",
   "pygments_lexer": "ipython3",
   "version": "3.6.9"
  }
 },
 "nbformat": 4,
 "nbformat_minor": 2
}
