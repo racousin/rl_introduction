{
 "cells": [
  {
   "cell_type": "code",
   "execution_count": 1,
   "metadata": {},
   "outputs": [
    {
     "name": "stderr",
     "output_type": "stream",
     "text": [
      "/home/raphael/rl_introduction/venv/lib/python3.6/site-packages/pandas/compat/__init__.py:85: UserWarning: Could not import the lzma module. Your installed Python is incomplete. Attempting to use lzma compression will result in a RuntimeError.\n",
      "  warnings.warn(msg)\n"
     ]
    }
   ],
   "source": [
    "import seaborn as sns\n",
    "import pandas as pd\n",
    "import numpy as np\n",
    "import matplotlib.pyplot as plt\n",
    "import tensorflow as tf\n",
    "from tensorflow.keras.layers import Input, Dense, concatenate, Dropout\n",
    "from tensorflow.keras.models import Model\n",
    "import gym\n",
    "from time import time,sleep\n",
    "sns.set_style(\"darkgrid\")"
   ]
  },
  {
   "cell_type": "code",
   "execution_count": 2,
   "metadata": {},
   "outputs": [],
   "source": [
    "env = gym.make('FrozenLake-v0')"
   ]
  },
  {
   "cell_type": "code",
   "execution_count": 3,
   "metadata": {},
   "outputs": [],
   "source": [
    "class Agent:\n",
    "    def __init__(self, env):\n",
    "        self.env = env\n",
    "    def act(self, state):\n",
    "        pass\n",
    "    def train(self, next_state, reward, done): \n",
    "        pass"
   ]
  },
  {
   "cell_type": "code",
   "execution_count": 4,
   "metadata": {},
   "outputs": [],
   "source": [
    "class AgentRandom(Agent):\n",
    "    def act(self, state):\n",
    "        return self.env.action_space.sample()"
   ]
  },
  {
   "cell_type": "code",
   "execution_count": 5,
   "metadata": {},
   "outputs": [],
   "source": [
    "class RunAgentEnv:\n",
    "    def __init__(self, agent, env, nb_step):\n",
    "        self.agent = agent\n",
    "        self.env = env\n",
    "        self.nb_step = nb_step\n",
    "        self.rewards = np.zeros(nb_step)\n",
    "        self.cum_reward_per_episode = [[]]\n",
    "        self.actions = np.zeros(nb_step)\n",
    "    def run_experiment(self, is_train=True):\n",
    "        state = self.env.reset()\n",
    "        for i in range(self.nb_step):\n",
    "            action = self.agent.act(state)\n",
    "            state, reward, done, info = self.env.step(action)\n",
    "            if is_train == True:\n",
    "                self.agent.train(state, reward, done)\n",
    "            if done is True:\n",
    "                state = self.env.reset()\n",
    "                self.cum_reward_per_episode.append([])\n",
    "                \n",
    "            self.actions[i] = action\n",
    "            self.rewards[i] = reward\n",
    "            self.cum_reward_per_episode[-1].append(reward)\n",
    "        episode_rewards = [sum(ep) for ep in run.cum_reward_per_episode]\n",
    "        return self.rewards, episode_rewards"
   ]
  },
  {
   "cell_type": "code",
   "execution_count": 6,
   "metadata": {},
   "outputs": [],
   "source": [
    "agent_rand = AgentRandom(env)"
   ]
  },
  {
   "cell_type": "code",
   "execution_count": 7,
   "metadata": {},
   "outputs": [],
   "source": [
    "run = RunAgentEnv(agent_rand, env, 1000)"
   ]
  },
  {
   "cell_type": "code",
   "execution_count": 8,
   "metadata": {},
   "outputs": [],
   "source": [
    "rewards, ep_rewards = run.run_experiment()"
   ]
  },
  {
   "cell_type": "code",
   "execution_count": 9,
   "metadata": {},
   "outputs": [
    {
     "data": {
      "text/plain": [
       "[<matplotlib.lines.Line2D at 0x7f5aa2883b70>]"
      ]
     },
     "execution_count": 9,
     "metadata": {},
     "output_type": "execute_result"
    },
    {
     "data": {
      "image/png": "[encoded data removed]",
      "text/plain": [
       "<Figure size 432x288 with 1 Axes>"
      ]
     },
     "metadata": {},
     "output_type": "display_data"
    }
   ],
   "source": [
    "plt.plot(ep_rewards)"
   ]
  },
  {
   "cell_type": "code",
   "execution_count": 10,
   "metadata": {},
   "outputs": [],
   "source": [
    "class AgentDeepQ(Agent):\n",
    "    def __init__(self, env):\n",
    "        super(AgentDeepQ, self).__init__(env)\n",
    "        self.gamma = 0.95    # discount rate\n",
    "        self.action_shape = env.action_space.n\n",
    "        self.state_shape = env.observation_space.shape[0]\n",
    "        self.model = self._build_model()\n",
    "        \n",
    "        self.state = None\n",
    "        self.action = None\n",
    "        self.predicted_Q = None\n",
    "        \n",
    "    def _build_model(self):\n",
    "        input_state = Input(name='input_state', shape=(self.state_shape,), dtype='float32')\n",
    "        input_action = Input(name='input_action', shape=(self.action_shape,), dtype='float32')\n",
    "        x = concatenate([input_state, input_action])\n",
    "        x = Dense(4, activation='relu')(x)\n",
    "        x = Dense(1, activation='linear')(x)\n",
    "        model = Model(inputs=[input_state, input_action], outputs=x)\n",
    "        model.compile(loss='mse')\n",
    "        return model\n",
    "    \n",
    "    def act(self, state):\n",
    "        self.state = state\n",
    "        _state = np.tile(state, (self.action_shape,1))\n",
    "        _action = np.identity(self.action_shape)\n",
    "        predicted_Qs = self.model.predict([_state, _action])\n",
    "        self.action = np.argmax(self.model.predict) \n",
    "        self.predicted_Q = predicted_Qs[self.action]\n",
    "        return self.action\n",
    "    \n",
    "    def train(self, next_state, reward, done):\n",
    "        _next_state = np.tile(next_state, (self.action_shape,1))\n",
    "        _next_action = np.identity(self.action_shape)\n",
    "        predicted_Qs_next_state = self.model.predict([_next_state, _next_action])\n",
    "        predicted_Q_next_state = np.max(predicted_Qs_next_state)\n",
    "        if done is True:\n",
    "            target = reward\n",
    "        else:\n",
    "            target = reward + self.gamma * predicted_Q_next_state\n",
    "        _action = np.zeros(self.action_shape)\n",
    "        _action[self.action] = 1\n",
    "        self.model.fit([self.state.reshape(1,-1),_action.reshape(1,-1)], np.array([target]))"
   ]
  },
  {
   "cell_type": "code",
   "execution_count": 11,
   "metadata": {},
   "outputs": [
    {
     "data": {
      "text/plain": [
       "Discrete(16)"
      ]
     },
     "execution_count": 11,
     "metadata": {},
     "output_type": "execute_result"
    }
   ],
   "source": [
    "env.observation_space"
   ]
  },
  {
   "cell_type": "code",
   "execution_count": 12,
   "metadata": {},
   "outputs": [],
   "source": [
    "class AgentDeepQEpsilon(Agent):\n",
    "    def __init__(self, env, eps = 0.1):\n",
    "        super(AgentDeepQEpsilon, self).__init__(env)\n",
    "        self.gamma = 0.99    # discount rate\n",
    "        self.eps = eps\n",
    "        self.action_shape = env.action_space.n\n",
    "        self.state_shape = env.observation_space.shape[0]\n",
    "        self.model = self._build_model()\n",
    "        \n",
    "        self.state = None\n",
    "        self.action = None\n",
    "        self.predicted_Q = None\n",
    "        \n",
    "    def _build_model(self):\n",
    "        input_state = Input(name='input_state', shape=(self.state_shape,), dtype='float32')\n",
    "        input_action = Input(name='input_action', shape=(self.action_shape,), dtype='float32')\n",
    "        x = concatenate([input_state, input_action])\n",
    "        x = Dense(8, activation='relu')(x)\n",
    "        x = Dense(8, activation='relu')(x)\n",
    "        x = Dense(4, activation='relu')(x)\n",
    "        x = Dense(1, activation='linear')(x)\n",
    "        model = Model(inputs=[input_state, input_action], outputs=x)\n",
    "        model.compile(loss='mse')\n",
    "        return model\n",
    "    \n",
    "    def act(self, state):\n",
    "        self.state = state\n",
    "        if np.random.rand() < self.eps:\n",
    "            self.action = np.random.randint(self.action_shape)\n",
    "            return self.action\n",
    "        _state = np.tile(state, (self.action_shape,1))\n",
    "        _action = np.identity(self.action_shape)\n",
    "        predicted_Qs = self.model.predict([_state, _action])\n",
    "        self.action = np.argmax(predicted_Qs) \n",
    "        self.predicted_Q = predicted_Qs[self.action]\n",
    "        return self.action\n",
    "    \n",
    "    def train(self, next_state, reward, done):\n",
    "        _next_state = np.tile(next_state, (self.action_shape,1))\n",
    "        _next_action = np.identity(self.action_shape)\n",
    "        predicted_Qs_next_state = self.model.predict([_next_state, _next_action])\n",
    "        predicted_Q_next_state = np.max(predicted_Qs_next_state)\n",
    "        if done is True:\n",
    "            target = reward\n",
    "        else:\n",
    "            target = reward + self.gamma * predicted_Q_next_state\n",
    "        _action = np.zeros(self.action_shape)\n",
    "        _action[self.action] = 1\n",
    "        self.model.fit([self.state.reshape(1,-1),_action.reshape(1,-1)], np.array([target]), batch_size=1, verbose=0, shuffle=False)"
   ]
  },
  {
   "cell_type": "code",
   "execution_count": 13,
   "metadata": {},
   "outputs": [],
   "source": [
    "class AgentDeepQEpsilonReplayMemory(Agent):\n",
    "    def __init__(self, env, eps = 0.1, len_memory=500):\n",
    "        super(AgentDeepQEpsilon, self).__init__(env)\n",
    "        self.gamma = 0.99    # discount rate\n",
    "        self.eps = eps\n",
    "        self.action_shape = env.action_space.n\n",
    "        self.state_shape = env.observation_space.shape[0]\n",
    "        self.model = self._build_model()\n",
    "        self.len_memory = len_memory\n",
    "        self.memory = np.zeros(())\n",
    "        \n",
    "        self.state = None\n",
    "        self.action = None\n",
    "        self.predicted_Q = None\n",
    "        \n",
    "    def _build_model(self):\n",
    "        input_state = Input(name='input_state', shape=(self.state_shape,), dtype='float32')\n",
    "        input_action = Input(name='input_action', shape=(self.action_shape,), dtype='float32')\n",
    "        x = concatenate([input_state, input_action])\n",
    "        x = Dense(16, activation='relu')(x)\n",
    "        x = Dense(8, activation='relu')(x)\n",
    "        x = Dense(1, activation='linear')(x)\n",
    "        model = Model(inputs=[input_state, input_action], outputs=x)\n",
    "        model.compile(loss='mse')\n",
    "        return model\n",
    "    \n",
    "    def act(self, state):\n",
    "        self.state = state\n",
    "        if np.random.rand() < 0.1:\n",
    "            self.action = np.random.randint(self.action_shape)\n",
    "            return self.action\n",
    "        _state = np.tile(state, (self.action_shape,1))\n",
    "        _action = np.identity(self.action_shape)\n",
    "        predicted_Qs = self.model.predict([_state, _action])\n",
    "        self.action = np.argmax(self.model.predict) \n",
    "        self.predicted_Q = predicted_Qs[self.action]\n",
    "        return self.action\n",
    "    \n",
    "    def train(self, next_state, reward, done):\n",
    "        _next_state = np.tile(next_state, (self.action_shape,1))\n",
    "        _next_action = np.identity(self.action_shape)\n",
    "        predicted_Qs_next_state = self.model.predict([_next_state, _next_action])\n",
    "        predicted_Q_next_state = np.max(predicted_Qs_next_state)\n",
    "        if done is True:\n",
    "            target = reward\n",
    "        else:\n",
    "            target = reward + self.gamma * predicted_Q_next_state\n",
    "        _action = np.zeros(self.action_shape)\n",
    "        _action[self.action] = 1\n",
    "        self.model.fit([self.state.reshape(1,-1),_action.reshape(1,-1)], np.array([target]), batch_size=1, verbose=0, shuffle=False)"
   ]
  },
  {
   "cell_type": "code",
   "execution_count": 14,
   "metadata": {},
   "outputs": [],
   "source": [
    "class AgentDeepQEpsilon2(Agent):\n",
    "    def __init__(self, env, eps = 0.1):\n",
    "        super(AgentDeepQEpsilon2, self).__init__(env)\n",
    "        self.gamma = 0.99    # discount rate\n",
    "        self.eps = eps\n",
    "        self.action_shape = env.action_space.n\n",
    "        self.state_shape = env.observation_space.n #shape[0]\n",
    "        self.model = self._build_model()\n",
    "        \n",
    "        self.state = None\n",
    "        self.action = None\n",
    "        self.predicted_Q = None\n",
    "        \n",
    "    def _build_model(self):\n",
    "        input_state = Input(name='input_state', shape=(self.state_shape,), dtype='float32')\n",
    "        x = Dense(16, activation='relu')(input_state)\n",
    "        x = Dense(self.action_shape, activation='linear')(x)\n",
    "        model = Model(inputs=input_state, outputs=x)\n",
    "        model.compile(loss='mse')\n",
    "        return model\n",
    "    \n",
    "    def act(self, state):\n",
    "        _ = np.zeros(self.state_shape)\n",
    "        _[state] = 1\n",
    "        state = _\n",
    "        self.state = state\n",
    "        self.predicted_Q = self.model.predict(state.reshape(1,-1))[0]\n",
    "        if np.random.rand() < self.eps:\n",
    "            self.action = np.random.randint(self.action_shape)\n",
    "            return self.action\n",
    "        self.action = np.argmax(self.predicted_Q) \n",
    "        return self.action\n",
    "    \n",
    "    def train(self, next_state, reward, done):\n",
    "        _ = np.zeros(self.state_shape)\n",
    "        _[next_state] = 1\n",
    "        next_state = _\n",
    "        predicted_Q_next_state = self.model.predict(next_state.reshape(1,-1))[0]\n",
    "        target = self.predicted_Q\n",
    "        if done is True:\n",
    "            target[self.action] = reward\n",
    "        else:\n",
    "            target[self.action] = reward + self.gamma * max(predicted_Q_next_state)\n",
    "        self.model.fit(self.state.reshape(1,-1), target.reshape(1,-1), batch_size=1, verbose=0, shuffle=False)"
   ]
  },
  {
   "cell_type": "code",
   "execution_count": 15,
   "metadata": {
    "scrolled": false
   },
   "outputs": [],
   "source": [
    "agent_deepQ_epsilon2 = AgentDeepQEpsilon2(env)"
   ]
  },
  {
   "cell_type": "code",
   "execution_count": 16,
   "metadata": {},
   "outputs": [],
   "source": [
    "run = RunAgentEnv(agent_deepQ_epsilon2, env, 20000)"
   ]
  },
  {
   "cell_type": "code",
   "execution_count": 17,
   "metadata": {
    "scrolled": true
   },
   "outputs": [],
   "source": [
    "rewards, ep_rewards = run.run_experiment()"
   ]
  },
  {
   "cell_type": "code",
   "execution_count": 22,
   "metadata": {},
   "outputs": [
    {
     "data": {
      "text/plain": [
       "[<matplotlib.lines.Line2D at 0x7f5a585fc710>]"
      ]
     },
     "execution_count": 22,
     "metadata": {},
     "output_type": "execute_result"
    },
    {
     "data": {
      "image/png": "[encoded data removed]",
      "text/plain": [
       "<Figure size 432x288 with 1 Axes>"
      ]
     },
     "metadata": {},
     "output_type": "display_data"
    }
   ],
   "source": [
    "plt.plot(np.cumsum(ep_rewards))"
   ]
  },
  {
   "cell_type": "code",
   "execution_count": 19,
   "metadata": {},
   "outputs": [
    {
     "data": {
      "text/plain": [
       "[<matplotlib.lines.Line2D at 0x7f5a900a6ef0>]"
      ]
     },
     "execution_count": 19,
     "metadata": {},
     "output_type": "execute_result"
    },
    {
     "data": {
      "image/png": "[encoded data removed]",
      "text/plain": [
       "<Figure size 432x288 with 1 Axes>"
      ]
     },
     "metadata": {},
     "output_type": "display_data"
    }
   ],
   "source": [
    "plt.plot(run.actions)"
   ]
  },
  {
   "cell_type": "code",
   "execution_count": 20,
   "metadata": {},
   "outputs": [
    {
     "data": {
      "text/plain": [
       "(5, 0.0, True, {'prob': 0.3333333333333333})"
      ]
     },
     "execution_count": 20,
     "metadata": {},
     "output_type": "execute_result"
    }
   ],
   "source": [
    "env.step(0)"
   ]
  },
  {
   "cell_type": "code",
   "execution_count": null,
   "metadata": {},
   "outputs": [],
   "source": []
  }
 ],
 "metadata": {
  "kernelspec": {
   "display_name": "Python 3",
   "language": "python",
   "name": "python3"
  },
  "language_info": {
   "codemirror_mode": {
    "name": "ipython",
    "version": 3
   },
   "file_extension": ".py",
   "mimetype": "text/x-python",
   "name": "python",
   "nbconvert_exporter": "python",
   "pygments_lexer": "ipython3",
   "version": "3.6.9"
  }
 },
 "nbformat": 4,
 "nbformat_minor": 2
}
