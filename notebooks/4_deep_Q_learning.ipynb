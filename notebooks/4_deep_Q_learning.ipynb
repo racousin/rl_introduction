{
 "cells": [
  {
   "cell_type": "code",
   "execution_count": 2,
   "metadata": {
    "id": "XsAoBfIC6eR4"
   },
   "outputs": [],
   "source": [
    "import warnings\n",
    "warnings.filterwarnings('ignore')"
   ]
  },
  {
   "cell_type": "markdown",
   "metadata": {
    "id": "6ICq2yRw6eR7"
   },
   "source": [
    "### Run in collab\n",
    "<a href=\"https://colab.research.google.com/github/racousin/rl_introduction/blob/master/notebooks/4_deep_Q_learning.ipynb\" target=\"_parent\"><img src=\"https://colab.research.google.com/assets/colab-badge.svg\" alt=\"Open In Colab\"/></a>"
   ]
  },
  {
   "cell_type": "code",
   "execution_count": 4,
   "metadata": {
    "id": "GnL5oEDK61DI"
   },
   "outputs": [],
   "source": [
    "!git clone https://github.com/racousin/rl_introduction.git > /dev/null 2>&1"
   ]
  },
  {
   "cell_type": "code",
   "execution_count": 5,
   "metadata": {
    "colab": {
     "base_uri": "https://localhost:8080/"
    },
    "id": "7MDSc-Ix6zs7",
    "outputId": "8573b392-ba03-4684-b637-cac89003dd13"
   },
   "outputs": [
    {
     "name": "stdout",
     "output_type": "stream",
     "text": [
      "Imageio: 'ffmpeg-linux64-v3.3.1' was not found on your computer; downloading it now.\n",
      "Try 1. Download from https://github.com/imageio/imageio-binaries/raw/master/ffmpeg/ffmpeg-linux64-v3.3.1 (43.8 MB)\n",
      "Downloading: 8192/45929032 bytes (0.0%)\b\b\b\b\b\b\b\b\b\b\b\b\b\b\b\b\b\b\b\b\b\b\b\b\b\b2891776/45929032 bytes (6.3%)\b\b\b\b\b\b\b\b\b\b\b\b\b\b\b\b\b\b\b\b\b\b\b\b\b\b\b\b\b7208960/45929032 bytes (15.7%)\b\b\b\b\b\b\b\b\b\b\b\b\b\b\b\b\b\b\b\b\b\b\b\b\b\b\b\b\b\b11542528/45929032 bytes (25.1%)\b\b\b\b\b\b\b\b\b\b\b\b\b\b\b\b\b\b\b\b\b\b\b\b\b\b\b\b\b\b\b15777792/45929032 bytes (34.4%)\b\b\b\b\b\b\b\b\b\b\b\b\b\b\b\b\b\b\b\b\b\b\b\b\b\b\b\b\b\b\b20152320/45929032 bytes (43.9%)\b\b\b\b\b\b\b\b\b\b\b\b\b\b\b\b\b\b\b\b\b\b\b\b\b\b\b\b\b\b\b24526848/45929032 bytes (53.4%)\b\b\b\b\b\b\b\b\b\b\b\b\b\b\b\b\b\b\b\b\b\b\b\b\b\b\b\b\b\b\b28844032/45929032 bytes (62.8%)\b\b\b\b\b\b\b\b\b\b\b\b\b\b\b\b\b\b\b\b\b\b\b\b\b\b\b\b\b\b\b33128448/45929032 bytes (72.1%)\b\b\b\b\b\b\b\b\b\b\b\b\b\b\b\b\b\b\b\b\b\b\b\b\b\b\b\b\b\b\b37380096/45929032 bytes (81.4%)\b\b\b\b\b\b\b\b\b\b\b\b\b\b\b\b\b\b\b\b\b\b\b\b\b\b\b\b\b\b\b41746432/45929032 bytes (90.9%)\b\b\b\b\b\b\b\b\b\b\b\b\b\b\b\b\b\b\b\b\b\b\b\b\b\b\b\b\b\b\b45929032/45929032 bytes (100.0%)\n",
      "  Done\n",
      "File saved as /root/.imageio/ffmpeg/ffmpeg-linux64-v3.3.1.\n"
     ]
    }
   ],
   "source": [
    "from rl_introduction.rl_introduction.tools import Agent, DeepAgent, plot_values_lake, policy_improvement, discount_cumsum, run_experiment_episode_train\n",
    "from rl_introduction.rl_introduction.render_colab import gym_render"
   ]
  },
  {
   "cell_type": "markdown",
   "metadata": {
    "id": "A87lCsE46eR-"
   },
   "source": [
    "### Objective\n",
    "In order to tackle difficult problems (large action-state space and complexity), we will use deep Q learning.\n",
    "\n",
    "**Complete the TODO steps! Good luck!**"
   ]
  },
  {
   "cell_type": "code",
   "execution_count": 6,
   "metadata": {
    "id": "Owg16Qjv6eR_"
   },
   "outputs": [],
   "source": [
    "import seaborn as sns\n",
    "import pandas as pd\n",
    "import numpy as np\n",
    "import matplotlib.pyplot as plt\n",
    "import tensorflow as tf\n",
    "from tensorflow.keras.layers import Input, Dense, concatenate, Dropout\n",
    "from tensorflow.keras.optimizers import Adam\n",
    "import random\n",
    "from tensorflow.keras.models import Model, load_model\n",
    "import gym\n",
    "from time import time,sleep\n",
    "import numpy as np\n",
    "import gym\n",
    "import matplotlib.pyplot as plt\n",
    "from collections import deque\n",
    "sns.set_style(\"darkgrid\")"
   ]
  },
  {
   "cell_type": "code",
   "execution_count": 7,
   "metadata": {
    "id": "eXZkZFrF6eSA"
   },
   "outputs": [],
   "source": [
    "# We will experiment our algo with CartPole\n",
    "env = gym.make('CartPole-v0')"
   ]
  },
  {
   "cell_type": "markdown",
   "metadata": {
    "id": "x_wRx7GZ6eSB"
   },
   "source": [
    "# Deep Q-learning"
   ]
  },
  {
   "cell_type": "markdown",
   "metadata": {
    "id": "VQnkKonn6eSC"
   },
   "source": [
    "We will parametrize The Q function.\n",
    "In other words, we are looking for $\\theta \\in \\mathbb{R}^d$ such as \n",
    "$\\forall s, Q_\\theta(s,a) = \\mathbb{E}_\\pi[G_t | S_t = s, A_t = a]$. We follow the same idea as q-learning:\n",
    "we learn and update $Q_\\theta(S_t,A_t)$ using the target $R_{t+1}+\\gamma \\max_a Q_\\theta(S_{t+1},a)$. A natural loss is the mean square error:\n",
    "\n",
    "$L(\\theta) = \\mathbb{E}_{s,a\\sim Q} [(y - Q(s,a,\\theta))^2]$\n",
    "\n",
    "\n",
    "\n",
    "$y = R_{t+1} + \\gamma \\max_a Q(S_{t+1},a,\\theta)$\n",
    "\n",
    "We have 2 ways to write our function:\n",
    "1. $Q_\\theta : S\\times A \\rightarrow \\mathbb{R}$\n",
    "\n",
    "in this case greedy policy looks like $\\pi(.|s) = \\arg\\max([Q_\\theta(s,a_0), Q_\\theta(s,a_1),... Q_\\theta(s,a_{dim(A)}]) $\n",
    "\n",
    "The target is $y = R_{t+1} + \\gamma \\max_a Q(S_{t+1},a,\\theta)$\n",
    "\n",
    "\n",
    "2. $Q_\\theta : S \\rightarrow \\mathbb{R}^{dim(A)}$\n",
    "\n",
    "in this case greedy policy looks like $\\pi(.|s) = \\arg\\max(Q_\\theta(s))$\n",
    "\n",
    "The target is $y_i = R_{t+1} + \\gamma \\max_a Q(S_{t+1},a,\\theta)$ for i corresponding to the played action, $Q_\\theta(s_t)_i$ otherwise.\n",
    "\n",
    "In other words, if we played $a$ (second action) in $s$, and we obseved $r$ and $s'$, our target will be (assuming we have 3 actions):\n",
    "\n",
    "$\\begin{aligned}\n",
    "y_0 =& Q(s,a,\\theta)_0\\\\\n",
    "y_1 =&R_{t+1} + \\gamma \\max_a Q(S_{t+1},a,\\theta)\\\\\n",
    "y_2 =&Q(s,a,\\theta)_2\n",
    "\\end{aligned}$\n",
    "\n",
    "And our loss:\n",
    "\n",
    "$L(\\theta) = (R_{t+1} + \\gamma \\max_a Q(S_{t+1},a,\\theta) - Q(s,a,\\theta)_1)^2$\n",
    "\n",
    "In practice implementation 2 is often easier to implement. So it is what we will do!"
   ]
  },
  {
   "cell_type": "code",
   "execution_count": null,
   "metadata": {
    "id": "Mh6dI0gk8KaQ"
   },
   "outputs": [],
   "source": [
    "#TODO: write a keras model that represent our parametrized Q function\n",
    "# We should be able to run Q.predict([s]) and it should return [[Q(s,a_0), Q(s,a_1) .. Q(s,q_m)]] where m is action size\n",
    "def build_model(state_dim, action_dim):\n",
    "    return model\n",
    "state_dim = env.observation_space.shape[0]\n",
    "action_dim = env.action_space.n\n",
    "model = build_model(state_dim, action_dim)\n",
    "model.predict(np.random.rand(1,state_dim))"
   ]
  },
  {
   "cell_type": "code",
   "execution_count": 9,
   "metadata": {
    "colab": {
     "base_uri": "https://localhost:8080/"
    },
    "id": "QegkDrGY6eSD",
    "outputId": "cc51ade8-1f67-4bbb-a218-8887a6738f20"
   },
   "outputs": [
    {
     "name": "stdout",
     "output_type": "stream",
     "text": [
      "1/1 [==============================] - 4s 4s/step\n"
     ]
    },
    {
     "data": {
      "text/plain": [
       "array([[ 0.09100284, -0.06346741]], dtype=float32)"
      ]
     },
     "execution_count": 9,
     "metadata": {},
     "output_type": "execute_result"
    }
   ],
   "source": [
    "#Done: write a keras model that represent our parametrized Q function\n",
    "# Example of our parametrize Q function (case 2)\n",
    "def build_model(state_dim, action_dim):\n",
    "    input_state = Input(name='input_state', shape=(state_dim,), dtype='float32')\n",
    "    x = Dense(2, activation='relu')(input_state)\n",
    "    x = Dense(2, activation='relu')(x)\n",
    "    x = Dense(action_dim, activation='linear')(x)\n",
    "    model = Model(inputs=input_state, outputs=x)\n",
    "    model.compile(loss='mse',optimizer=Adam(learning_rate=1e-2))\n",
    "    return model\n",
    "state_dim = env.observation_space.shape[0]\n",
    "action_dim = env.action_space.n\n",
    "model = build_model(state_dim, action_dim)\n",
    "model.predict(np.random.rand(1,state_dim))"
   ]
  },
  {
   "cell_type": "markdown",
   "metadata": {
    "id": "E6Dhh9QnABp5"
   },
   "source": [
    "### TODO 0 : write deep Q learning interaction with the environment"
   ]
  },
  {
   "cell_type": "code",
   "execution_count": null,
   "metadata": {
    "id": "z-WQMNCqAJuC"
   },
   "outputs": [],
   "source": [
    "#TODO: write the action choosen by our naive Q learning algorithm.\n",
    "# It should be a = argmax(Q(s))\n",
    "class DeepQAgent(DeepAgent):\n",
    "    def __init__(self, env, compiled_model, gamma = .99, epsilon = .1):\n",
    "        super().__init__(env, gamma, epsilon) \n",
    "        self.model = compiled_model\n",
    "        self.model.summary()\n",
    "    \n",
    "    def act(self, state):\n",
    "      # complete here\n",
    "      pass"
   ]
  },
  {
   "cell_type": "code",
   "execution_count": 10,
   "metadata": {
    "id": "JPSj_lySAtc3"
   },
   "outputs": [],
   "source": [
    "#Done: write the action choosen by our naive Q learning algorithm.\n",
    "# It should be a = argmax(Q(s))\n",
    "class DeepQAgent(DeepAgent):\n",
    "    def __init__(self, env, compiled_model, gamma = .99, epsilon = .1):\n",
    "        super().__init__(env, gamma, epsilon) \n",
    "        self.model = compiled_model\n",
    "        self.model.summary()\n",
    "    \n",
    "    def act(self, state):\n",
    "        if np.random.rand() < self.epsilon:\n",
    "            return np.random.randint(self.env.action_space.n)\n",
    "        else:\n",
    "            predicted_Qs = self.model.predict(state.reshape(1, -1), verbose=0)[0]\n",
    "            return np.argmax(predicted_Qs) "
   ]
  },
  {
   "cell_type": "code",
   "execution_count": 11,
   "metadata": {
    "id": "WWvAWOoPCBIx"
   },
   "outputs": [],
   "source": [
    "def run_experiment_episode(env, agent, nb_episode):\n",
    "    rewards = np.zeros(nb_episode)\n",
    "    for i in range(nb_episode):\n",
    "        state = env.reset()\n",
    "        done = False\n",
    "        rews = []\n",
    "        while done is False:\n",
    "            action = agent.act(state)\n",
    "            current_state = state\n",
    "            state, reward, done, info = env.step(action)\n",
    "            rews.append(reward)\n",
    "        rewards[i] = sum(rews)\n",
    "        print('episode: {} - cum reward {}'.format(i, rewards[i]))\n",
    "    return rewards"
   ]
  },
  {
   "cell_type": "code",
   "execution_count": 24,
   "metadata": {
    "id": "uzyul98vB7gR"
   },
   "outputs": [],
   "source": [
    "#TODO: interact with the environment through episode and display the return"
   ]
  },
  {
   "cell_type": "code",
   "execution_count": 25,
   "metadata": {
    "colab": {
     "base_uri": "https://localhost:8080/",
     "height": 1000
    },
    "id": "J0Su1whqCOY2",
    "outputId": "dbe95e60-a97f-4d43-a65a-e070c67f18ca"
   },
   "outputs": [
    {
     "name": "stdout",
     "output_type": "stream",
     "text": [
      "Model: \"model_3\"\n",
      "_________________________________________________________________\n",
      " Layer (type)                Output Shape              Param #   \n",
      "=================================================================\n",
      " input_state (InputLayer)    [(None, 4)]               0         \n",
      "                                                                 \n",
      " dense_9 (Dense)             (None, 2)                 10        \n",
      "                                                                 \n",
      " dense_10 (Dense)            (None, 2)                 6         \n",
      "                                                                 \n",
      " dense_11 (Dense)            (None, 2)                 6         \n",
      "                                                                 \n",
      "=================================================================\n",
      "Total params: 22\n",
      "Trainable params: 22\n",
      "Non-trainable params: 0\n",
      "_________________________________________________________________\n",
      "episode: 0 - cum reward 9.0\n",
      "episode: 1 - cum reward 8.0\n",
      "episode: 2 - cum reward 9.0\n",
      "episode: 3 - cum reward 9.0\n",
      "episode: 4 - cum reward 10.0\n",
      "episode: 5 - cum reward 10.0\n",
      "episode: 6 - cum reward 9.0\n",
      "episode: 7 - cum reward 9.0\n",
      "episode: 8 - cum reward 9.0\n",
      "episode: 9 - cum reward 8.0\n",
      "episode: 10 - cum reward 9.0\n",
      "episode: 11 - cum reward 8.0\n",
      "episode: 12 - cum reward 10.0\n",
      "episode: 13 - cum reward 10.0\n",
      "episode: 14 - cum reward 14.0\n",
      "episode: 15 - cum reward 11.0\n",
      "episode: 16 - cum reward 9.0\n",
      "episode: 17 - cum reward 10.0\n",
      "episode: 18 - cum reward 11.0\n",
      "episode: 19 - cum reward 10.0\n"
     ]
    },
    {
     "data": {
      "text/plain": [
       "Text(0.5, 1.0, 'cumulative reward per episode - naive_q_agent')"
      ]
     },
     "execution_count": 25,
     "metadata": {},
     "output_type": "execute_result"
    },
    {
     "data": {
      "image/png": "[encoded data removed]",
      "text/plain": [
       "<Figure size 720x720 with 1 Axes>"
      ]
     },
     "metadata": {},
     "output_type": "display_data"
    }
   ],
   "source": [
    "#Done: interact with the environment through episode and display the return\n",
    "state_dim = env.observation_space.shape[0]\n",
    "action_dim = env.action_space.n\n",
    "model = build_model(state_dim, action_dim)\n",
    "naive_q_agent = DeepQAgent(env, model)\n",
    "rewards = run_experiment_episode(env, naive_q_agent, 20)\n",
    "fig,ax = plt.subplots(figsize=(10,10))\n",
    "ax.plot(rewards,'+')\n",
    "ax.set_title('cumulative reward per episode - naive_q_agent')"
   ]
  },
  {
   "cell_type": "code",
   "execution_count": null,
   "metadata": {
    "id": "SbjUrhXEBrDY"
   },
   "outputs": [],
   "source": [
    "gym_render(env_name='CartPole-v0', directory='./video', agent = naive_q_agent, slow_coeff=10)"
   ]
  },
  {
   "cell_type": "markdown",
   "metadata": {
    "id": "tLYD7FJ-6eSD"
   },
   "source": [
    "### TODO 1) : write deep Q learning update"
   ]
  },
  {
   "cell_type": "code",
   "execution_count": 12,
   "metadata": {
    "id": "axeCa9o26eSE"
   },
   "outputs": [],
   "source": [
    "#TODO: write deep Q learning update\n",
    "# Compute the Q target and update the model with keras\n",
    "class DeepQAgent(DeepAgent):\n",
    "    def __init__(self, env, compiled_model, gamma = .99, epsilon = .1):\n",
    "        super().__init__(env, gamma, epsilon) \n",
    "        self.model = compiled_model\n",
    "        self.model.summary()\n",
    "    \n",
    "    def act(self, state):\n",
    "        if np.random.rand() < self.epsilon:\n",
    "            return np.random.randint(self.env.action_space.n)\n",
    "        else:\n",
    "            predicted_Qs = self.model.predict(state.reshape(1, -1), verbose=0)[0]\n",
    "            return np.argmax(predicted_Qs) \n",
    "    \n",
    "    def train(self, current_state, action, reward, next_state, done):\n",
    "        pass #complete here"
   ]
  },
  {
   "cell_type": "code",
   "execution_count": 13,
   "metadata": {
    "id": "EUKEpjmFDQZL"
   },
   "outputs": [],
   "source": [
    "#Done: write deep Q learning update\n",
    "class DeepQAgent(DeepAgent):\n",
    "    def __init__(self, env, compiled_model, gamma = .99, epsilon = .1):\n",
    "        super().__init__(env, gamma, epsilon)\n",
    "        \n",
    "        self.model = compiled_model\n",
    "        self.model.summary()\n",
    "    \n",
    "    def act(self, state):\n",
    "        if np.random.rand() < self.epsilon:\n",
    "            return np.random.randint(self.env.action_space.n)\n",
    "        else:\n",
    "            predicted_Qs = self.model.predict(state.reshape(1, -1), verbose=0)[0]\n",
    "            return np.argmax(predicted_Qs) \n",
    "    \n",
    "    def train(self, current_state, action, reward, next_state, done):\n",
    "        predicted_Q_nexts = self.model.predict(next_state.reshape(1, -1), verbose=0)[0]\n",
    "        target = self.model.predict(current_state.reshape(1, -1), verbose=0)[0]\n",
    "        if done is True:\n",
    "            target[action] = reward\n",
    "        else:\n",
    "            target[action] = reward + self.gamma * np.max(predicted_Q_nexts)\n",
    "        self.model.train_on_batch(current_state.reshape(1, -1), target.reshape(1, -1))"
   ]
  },
  {
   "cell_type": "code",
   "execution_count": 14,
   "metadata": {
    "id": "txZ5Y-pvDXXh"
   },
   "outputs": [],
   "source": [
    "#TODO: train it and display learning using run_experiment_episode_train(env, q_agent, nb_episode)"
   ]
  },
  {
   "cell_type": "code",
   "execution_count": 15,
   "metadata": {
    "colab": {
     "base_uri": "https://localhost:8080/",
     "height": 1000
    },
    "id": "v1Itp8966eSE",
    "outputId": "72828e03-b3d8-4e42-e114-7ec52cc6ac8a",
    "scrolled": true
   },
   "outputs": [
    {
     "name": "stdout",
     "output_type": "stream",
     "text": [
      "Model: \"model_1\"\n",
      "_________________________________________________________________\n",
      " Layer (type)                Output Shape              Param #   \n",
      "=================================================================\n",
      " input_state (InputLayer)    [(None, 4)]               0         \n",
      "                                                                 \n",
      " dense_3 (Dense)             (None, 2)                 10        \n",
      "                                                                 \n",
      " dense_4 (Dense)             (None, 2)                 6         \n",
      "                                                                 \n",
      " dense_5 (Dense)             (None, 2)                 6         \n",
      "                                                                 \n",
      "=================================================================\n",
      "Total params: 22\n",
      "Trainable params: 22\n",
      "Non-trainable params: 0\n",
      "_________________________________________________________________\n",
      "episode: 0 - cum reward 13.0\n",
      "episode: 1 - cum reward 10.0\n",
      "episode: 2 - cum reward 9.0\n",
      "episode: 3 - cum reward 10.0\n",
      "episode: 4 - cum reward 9.0\n",
      "episode: 5 - cum reward 11.0\n",
      "episode: 6 - cum reward 10.0\n",
      "episode: 7 - cum reward 10.0\n",
      "episode: 8 - cum reward 9.0\n",
      "episode: 9 - cum reward 9.0\n",
      "episode: 10 - cum reward 9.0\n",
      "episode: 11 - cum reward 8.0\n",
      "episode: 12 - cum reward 9.0\n",
      "episode: 13 - cum reward 9.0\n",
      "episode: 14 - cum reward 9.0\n",
      "episode: 15 - cum reward 10.0\n",
      "episode: 16 - cum reward 10.0\n",
      "episode: 17 - cum reward 9.0\n",
      "episode: 18 - cum reward 12.0\n",
      "episode: 19 - cum reward 10.0\n",
      "episode: 20 - cum reward 12.0\n",
      "episode: 21 - cum reward 10.0\n",
      "episode: 22 - cum reward 10.0\n",
      "episode: 23 - cum reward 10.0\n",
      "episode: 24 - cum reward 10.0\n",
      "episode: 25 - cum reward 9.0\n",
      "episode: 26 - cum reward 9.0\n",
      "episode: 27 - cum reward 9.0\n",
      "episode: 28 - cum reward 10.0\n",
      "episode: 29 - cum reward 9.0\n",
      "episode: 30 - cum reward 9.0\n",
      "episode: 31 - cum reward 8.0\n",
      "episode: 32 - cum reward 10.0\n",
      "episode: 33 - cum reward 9.0\n",
      "episode: 34 - cum reward 11.0\n",
      "episode: 35 - cum reward 8.0\n",
      "episode: 36 - cum reward 9.0\n",
      "episode: 37 - cum reward 9.0\n",
      "episode: 38 - cum reward 9.0\n",
      "episode: 39 - cum reward 10.0\n",
      "episode: 40 - cum reward 12.0\n",
      "episode: 41 - cum reward 9.0\n",
      "episode: 42 - cum reward 9.0\n",
      "episode: 43 - cum reward 9.0\n",
      "episode: 44 - cum reward 8.0\n",
      "episode: 45 - cum reward 12.0\n",
      "episode: 46 - cum reward 10.0\n",
      "episode: 47 - cum reward 11.0\n",
      "episode: 48 - cum reward 10.0\n",
      "episode: 49 - cum reward 10.0\n",
      "episode: 50 - cum reward 9.0\n",
      "episode: 51 - cum reward 9.0\n",
      "episode: 52 - cum reward 10.0\n",
      "episode: 53 - cum reward 10.0\n",
      "episode: 54 - cum reward 9.0\n",
      "episode: 55 - cum reward 10.0\n",
      "episode: 56 - cum reward 10.0\n",
      "episode: 57 - cum reward 9.0\n",
      "episode: 58 - cum reward 8.0\n",
      "episode: 59 - cum reward 9.0\n",
      "episode: 60 - cum reward 9.0\n",
      "episode: 61 - cum reward 9.0\n",
      "episode: 62 - cum reward 9.0\n",
      "episode: 63 - cum reward 9.0\n",
      "episode: 64 - cum reward 12.0\n",
      "episode: 65 - cum reward 9.0\n",
      "episode: 66 - cum reward 9.0\n",
      "episode: 67 - cum reward 10.0\n",
      "episode: 68 - cum reward 9.0\n",
      "episode: 69 - cum reward 10.0\n",
      "episode: 70 - cum reward 8.0\n",
      "episode: 71 - cum reward 9.0\n",
      "episode: 72 - cum reward 9.0\n",
      "episode: 73 - cum reward 8.0\n",
      "episode: 74 - cum reward 8.0\n",
      "episode: 75 - cum reward 11.0\n",
      "episode: 76 - cum reward 9.0\n",
      "episode: 77 - cum reward 8.0\n",
      "episode: 78 - cum reward 11.0\n",
      "episode: 79 - cum reward 9.0\n",
      "episode: 80 - cum reward 8.0\n",
      "episode: 81 - cum reward 9.0\n",
      "episode: 82 - cum reward 9.0\n",
      "episode: 83 - cum reward 9.0\n",
      "episode: 84 - cum reward 10.0\n",
      "episode: 85 - cum reward 11.0\n",
      "episode: 86 - cum reward 9.0\n",
      "episode: 87 - cum reward 11.0\n",
      "episode: 88 - cum reward 9.0\n",
      "episode: 89 - cum reward 9.0\n",
      "episode: 90 - cum reward 9.0\n",
      "episode: 91 - cum reward 10.0\n",
      "episode: 92 - cum reward 9.0\n",
      "episode: 93 - cum reward 9.0\n",
      "episode: 94 - cum reward 9.0\n",
      "episode: 95 - cum reward 11.0\n",
      "episode: 96 - cum reward 9.0\n",
      "episode: 97 - cum reward 9.0\n",
      "episode: 98 - cum reward 12.0\n",
      "episode: 99 - cum reward 10.0\n",
      "episode: 100 - cum reward 11.0\n",
      "episode: 101 - cum reward 8.0\n",
      "episode: 102 - cum reward 9.0\n",
      "episode: 103 - cum reward 9.0\n",
      "episode: 104 - cum reward 9.0\n",
      "episode: 105 - cum reward 9.0\n",
      "episode: 106 - cum reward 9.0\n",
      "episode: 107 - cum reward 10.0\n",
      "episode: 108 - cum reward 10.0\n",
      "episode: 109 - cum reward 11.0\n",
      "episode: 110 - cum reward 10.0\n",
      "episode: 111 - cum reward 9.0\n",
      "episode: 112 - cum reward 9.0\n",
      "episode: 113 - cum reward 10.0\n",
      "episode: 114 - cum reward 10.0\n",
      "episode: 115 - cum reward 9.0\n",
      "episode: 116 - cum reward 8.0\n",
      "episode: 117 - cum reward 11.0\n",
      "episode: 118 - cum reward 10.0\n",
      "episode: 119 - cum reward 10.0\n",
      "episode: 120 - cum reward 11.0\n",
      "episode: 121 - cum reward 8.0\n",
      "episode: 122 - cum reward 11.0\n",
      "episode: 123 - cum reward 14.0\n",
      "episode: 124 - cum reward 10.0\n",
      "episode: 125 - cum reward 9.0\n",
      "episode: 126 - cum reward 10.0\n",
      "episode: 127 - cum reward 10.0\n",
      "episode: 128 - cum reward 9.0\n",
      "episode: 129 - cum reward 9.0\n",
      "episode: 130 - cum reward 10.0\n",
      "episode: 131 - cum reward 8.0\n",
      "episode: 132 - cum reward 9.0\n",
      "episode: 133 - cum reward 10.0\n",
      "episode: 134 - cum reward 8.0\n",
      "episode: 135 - cum reward 11.0\n",
      "episode: 136 - cum reward 10.0\n",
      "episode: 137 - cum reward 8.0\n",
      "episode: 138 - cum reward 9.0\n",
      "episode: 139 - cum reward 9.0\n",
      "episode: 140 - cum reward 10.0\n",
      "episode: 141 - cum reward 9.0\n",
      "episode: 142 - cum reward 10.0\n",
      "episode: 143 - cum reward 11.0\n",
      "episode: 144 - cum reward 10.0\n",
      "episode: 145 - cum reward 9.0\n",
      "episode: 146 - cum reward 10.0\n",
      "episode: 147 - cum reward 8.0\n",
      "episode: 148 - cum reward 10.0\n",
      "episode: 149 - cum reward 10.0\n",
      "episode: 150 - cum reward 9.0\n",
      "episode: 151 - cum reward 10.0\n",
      "episode: 152 - cum reward 10.0\n",
      "episode: 153 - cum reward 10.0\n",
      "episode: 154 - cum reward 9.0\n",
      "episode: 155 - cum reward 10.0\n",
      "episode: 156 - cum reward 10.0\n",
      "episode: 157 - cum reward 10.0\n",
      "episode: 158 - cum reward 14.0\n",
      "episode: 159 - cum reward 12.0\n",
      "episode: 160 - cum reward 10.0\n",
      "episode: 161 - cum reward 10.0\n",
      "episode: 162 - cum reward 9.0\n",
      "episode: 163 - cum reward 9.0\n",
      "episode: 164 - cum reward 11.0\n",
      "episode: 165 - cum reward 10.0\n",
      "episode: 166 - cum reward 9.0\n",
      "episode: 167 - cum reward 9.0\n",
      "episode: 168 - cum reward 9.0\n",
      "episode: 169 - cum reward 10.0\n",
      "episode: 170 - cum reward 10.0\n",
      "episode: 171 - cum reward 11.0\n",
      "episode: 172 - cum reward 9.0\n",
      "episode: 173 - cum reward 9.0\n",
      "episode: 174 - cum reward 10.0\n",
      "episode: 175 - cum reward 9.0\n",
      "episode: 176 - cum reward 12.0\n",
      "episode: 177 - cum reward 12.0\n",
      "episode: 178 - cum reward 12.0\n",
      "episode: 179 - cum reward 10.0\n",
      "episode: 180 - cum reward 10.0\n",
      "episode: 181 - cum reward 9.0\n",
      "episode: 182 - cum reward 9.0\n",
      "episode: 183 - cum reward 12.0\n",
      "episode: 184 - cum reward 10.0\n",
      "episode: 185 - cum reward 10.0\n",
      "episode: 186 - cum reward 9.0\n",
      "episode: 187 - cum reward 9.0\n",
      "episode: 188 - cum reward 13.0\n",
      "episode: 189 - cum reward 8.0\n",
      "episode: 190 - cum reward 8.0\n",
      "episode: 191 - cum reward 12.0\n",
      "episode: 192 - cum reward 8.0\n",
      "episode: 193 - cum reward 11.0\n",
      "episode: 194 - cum reward 8.0\n",
      "episode: 195 - cum reward 8.0\n",
      "episode: 196 - cum reward 10.0\n",
      "episode: 197 - cum reward 12.0\n",
      "episode: 198 - cum reward 8.0\n",
      "episode: 199 - cum reward 9.0\n",
      "episode: 200 - cum reward 11.0\n",
      "episode: 201 - cum reward 10.0\n",
      "episode: 202 - cum reward 8.0\n",
      "episode: 203 - cum reward 10.0\n",
      "episode: 204 - cum reward 9.0\n",
      "episode: 205 - cum reward 11.0\n",
      "episode: 206 - cum reward 10.0\n",
      "episode: 207 - cum reward 10.0\n",
      "episode: 208 - cum reward 9.0\n",
      "episode: 209 - cum reward 10.0\n",
      "episode: 210 - cum reward 10.0\n",
      "episode: 211 - cum reward 9.0\n",
      "episode: 212 - cum reward 9.0\n",
      "episode: 213 - cum reward 9.0\n",
      "episode: 214 - cum reward 9.0\n",
      "episode: 215 - cum reward 8.0\n",
      "episode: 216 - cum reward 12.0\n",
      "episode: 217 - cum reward 10.0\n",
      "episode: 218 - cum reward 10.0\n",
      "episode: 219 - cum reward 8.0\n",
      "episode: 220 - cum reward 9.0\n",
      "episode: 221 - cum reward 10.0\n",
      "episode: 222 - cum reward 11.0\n",
      "episode: 223 - cum reward 10.0\n",
      "episode: 224 - cum reward 8.0\n",
      "episode: 225 - cum reward 10.0\n",
      "episode: 226 - cum reward 10.0\n",
      "episode: 227 - cum reward 11.0\n",
      "episode: 228 - cum reward 10.0\n",
      "episode: 229 - cum reward 9.0\n",
      "episode: 230 - cum reward 9.0\n",
      "episode: 231 - cum reward 9.0\n",
      "episode: 232 - cum reward 9.0\n",
      "episode: 233 - cum reward 11.0\n",
      "episode: 234 - cum reward 10.0\n",
      "episode: 235 - cum reward 10.0\n",
      "episode: 236 - cum reward 13.0\n",
      "episode: 237 - cum reward 10.0\n",
      "episode: 238 - cum reward 10.0\n",
      "episode: 239 - cum reward 10.0\n",
      "episode: 240 - cum reward 10.0\n",
      "episode: 241 - cum reward 9.0\n",
      "episode: 242 - cum reward 10.0\n",
      "episode: 243 - cum reward 11.0\n",
      "episode: 244 - cum reward 11.0\n",
      "episode: 245 - cum reward 9.0\n",
      "episode: 246 - cum reward 10.0\n",
      "episode: 247 - cum reward 10.0\n",
      "episode: 248 - cum reward 9.0\n",
      "episode: 249 - cum reward 8.0\n",
      "episode: 250 - cum reward 10.0\n",
      "episode: 251 - cum reward 9.0\n",
      "episode: 252 - cum reward 10.0\n",
      "episode: 253 - cum reward 8.0\n",
      "episode: 254 - cum reward 10.0\n",
      "episode: 255 - cum reward 8.0\n",
      "episode: 256 - cum reward 9.0\n",
      "episode: 257 - cum reward 10.0\n",
      "episode: 258 - cum reward 12.0\n",
      "episode: 259 - cum reward 9.0\n",
      "episode: 260 - cum reward 10.0\n",
      "episode: 261 - cum reward 10.0\n",
      "episode: 262 - cum reward 10.0\n",
      "episode: 263 - cum reward 9.0\n",
      "episode: 264 - cum reward 9.0\n",
      "episode: 265 - cum reward 9.0\n",
      "episode: 266 - cum reward 9.0\n",
      "episode: 267 - cum reward 10.0\n",
      "episode: 268 - cum reward 9.0\n",
      "episode: 269 - cum reward 10.0\n",
      "episode: 270 - cum reward 11.0\n",
      "episode: 271 - cum reward 9.0\n",
      "episode: 272 - cum reward 10.0\n",
      "episode: 273 - cum reward 10.0\n",
      "episode: 274 - cum reward 10.0\n",
      "episode: 275 - cum reward 10.0\n",
      "episode: 276 - cum reward 8.0\n",
      "episode: 277 - cum reward 9.0\n",
      "episode: 278 - cum reward 9.0\n",
      "episode: 279 - cum reward 13.0\n",
      "episode: 280 - cum reward 8.0\n",
      "episode: 281 - cum reward 12.0\n",
      "episode: 282 - cum reward 13.0\n",
      "episode: 283 - cum reward 8.0\n",
      "episode: 284 - cum reward 10.0\n",
      "episode: 285 - cum reward 9.0\n",
      "episode: 286 - cum reward 9.0\n",
      "episode: 287 - cum reward 8.0\n",
      "episode: 288 - cum reward 10.0\n",
      "episode: 289 - cum reward 9.0\n",
      "episode: 290 - cum reward 11.0\n",
      "episode: 291 - cum reward 9.0\n",
      "episode: 292 - cum reward 9.0\n",
      "episode: 293 - cum reward 11.0\n",
      "episode: 294 - cum reward 9.0\n",
      "episode: 295 - cum reward 10.0\n",
      "episode: 296 - cum reward 9.0\n",
      "episode: 297 - cum reward 11.0\n",
      "episode: 298 - cum reward 9.0\n",
      "episode: 299 - cum reward 10.0\n"
     ]
    },
    {
     "data": {
      "text/plain": [
       "Text(0.5, 1.0, 'cumulative reward per episode - deep_q_agent')"
      ]
     },
     "execution_count": 15,
     "metadata": {},
     "output_type": "execute_result"
    },
    {
     "data": {
      "image/png": "[encoded data removed]",
      "text/plain": [
       "<Figure size 720x720 with 1 Axes>"
      ]
     },
     "metadata": {},
     "output_type": "display_data"
    }
   ],
   "source": [
    "#Done: train it and display learning using run_experiment_episode_train(env, q_agent, nb_episode) it\n",
    "state_dim = env.observation_space.shape[0]\n",
    "action_dim = env.action_space.n\n",
    "model = build_model(state_dim, action_dim)\n",
    "q_agent = DeepQAgent(env, model)\n",
    "rewards = run_experiment_episode_train(env, q_agent, 300)\n",
    "fig,ax = plt.subplots(figsize=(10,10))\n",
    "ax.plot(rewards,'+')\n",
    "ax.set_title('cumulative reward per episode - deep_q_agent')"
   ]
  },
  {
   "cell_type": "markdown",
   "metadata": {
    "id": "kJ0YNWfE6eSF"
   },
   "source": [
    "### TODO 2) : Try different hyerparamters models (number of layers, nodes) and compare learning"
   ]
  },
  {
   "cell_type": "code",
   "execution_count": 16,
   "metadata": {
    "id": "XyQF_jNo6eSG"
   },
   "outputs": [],
   "source": [
    "### TODO 2) : Try different hyerparamters models (number of layers, nodes, activation) and compare learning\n",
    "def your_build_model(state_dim, action_dim):\n",
    "    input_state = Input(name='input_state', shape=(state_dim,), dtype='float32')\n",
    "    model = Model(inputs=input_state, outputs=input_state)\n",
    "    model.compile(loss='mse',optimizer=Adam(learning_rate=1e-2))\n",
    "    return model"
   ]
  },
  {
   "cell_type": "code",
   "execution_count": 17,
   "metadata": {
    "id": "1ZWTktvl6eSG"
   },
   "outputs": [],
   "source": [
    "### Done 2) : Try different hyerparamters models (number of layers, nodes) and compare learning\n",
    "def your_build_model(state_dim, action_dim):\n",
    "    input_state = Input(name='input_state', shape=(state_dim,), dtype='float32')\n",
    "    x = Dense(32, activation='relu')(input_state)\n",
    "    x = Dense(32, activation='relu')(x)\n",
    "    x = Dense(action_dim, activation='linear')(x)\n",
    "    model = Model(inputs=input_state, outputs=x)\n",
    "    model.compile(loss='mse',optimizer=Adam(learning_rate=1e-2))\n",
    "    return model"
   ]
  },
  {
   "cell_type": "code",
   "execution_count": 18,
   "metadata": {
    "colab": {
     "base_uri": "https://localhost:8080/"
    },
    "id": "B4zzFCNW6eSG",
    "outputId": "d441d829-99a1-4048-b499-a501fed617b7"
   },
   "outputs": [
    {
     "name": "stdout",
     "output_type": "stream",
     "text": [
      "Model: \"model_2\"\n",
      "_________________________________________________________________\n",
      " Layer (type)                Output Shape              Param #   \n",
      "=================================================================\n",
      " input_state (InputLayer)    [(None, 4)]               0         \n",
      "                                                                 \n",
      " dense_6 (Dense)             (None, 32)                160       \n",
      "                                                                 \n",
      " dense_7 (Dense)             (None, 32)                1056      \n",
      "                                                                 \n",
      " dense_8 (Dense)             (None, 2)                 66        \n",
      "                                                                 \n",
      "=================================================================\n",
      "Total params: 1,282\n",
      "Trainable params: 1,282\n",
      "Non-trainable params: 0\n",
      "_________________________________________________________________\n",
      "episode: 0 - cum reward 9.0\n",
      "episode: 1 - cum reward 9.0\n",
      "episode: 2 - cum reward 10.0\n",
      "episode: 3 - cum reward 10.0\n",
      "episode: 4 - cum reward 9.0\n",
      "episode: 5 - cum reward 10.0\n",
      "episode: 6 - cum reward 9.0\n",
      "episode: 7 - cum reward 11.0\n",
      "episode: 8 - cum reward 9.0\n",
      "episode: 9 - cum reward 10.0\n",
      "episode: 10 - cum reward 8.0\n",
      "episode: 11 - cum reward 9.0\n",
      "episode: 12 - cum reward 10.0\n",
      "episode: 13 - cum reward 10.0\n",
      "episode: 14 - cum reward 10.0\n",
      "episode: 15 - cum reward 9.0\n",
      "episode: 16 - cum reward 9.0\n",
      "episode: 17 - cum reward 9.0\n",
      "episode: 18 - cum reward 11.0\n",
      "episode: 19 - cum reward 13.0\n",
      "episode: 20 - cum reward 9.0\n",
      "episode: 21 - cum reward 17.0\n",
      "episode: 22 - cum reward 9.0\n",
      "episode: 23 - cum reward 9.0\n",
      "episode: 24 - cum reward 13.0\n",
      "episode: 25 - cum reward 11.0\n",
      "episode: 26 - cum reward 27.0\n",
      "episode: 27 - cum reward 33.0\n",
      "episode: 28 - cum reward 8.0\n",
      "episode: 29 - cum reward 8.0\n",
      "episode: 30 - cum reward 11.0\n",
      "episode: 31 - cum reward 9.0\n",
      "episode: 32 - cum reward 9.0\n",
      "episode: 33 - cum reward 10.0\n",
      "episode: 34 - cum reward 10.0\n",
      "episode: 35 - cum reward 12.0\n",
      "episode: 36 - cum reward 11.0\n",
      "episode: 37 - cum reward 13.0\n",
      "episode: 38 - cum reward 28.0\n",
      "episode: 39 - cum reward 29.0\n",
      "episode: 40 - cum reward 11.0\n",
      "episode: 41 - cum reward 12.0\n",
      "episode: 42 - cum reward 58.0\n",
      "episode: 43 - cum reward 24.0\n",
      "episode: 44 - cum reward 10.0\n",
      "episode: 45 - cum reward 13.0\n",
      "episode: 46 - cum reward 28.0\n",
      "episode: 47 - cum reward 16.0\n",
      "episode: 48 - cum reward 14.0\n",
      "episode: 49 - cum reward 45.0\n",
      "episode: 50 - cum reward 95.0\n",
      "episode: 51 - cum reward 18.0\n",
      "episode: 52 - cum reward 11.0\n",
      "episode: 53 - cum reward 26.0\n",
      "episode: 54 - cum reward 40.0\n",
      "episode: 55 - cum reward 77.0\n",
      "episode: 56 - cum reward 57.0\n",
      "episode: 57 - cum reward 12.0\n",
      "episode: 58 - cum reward 9.0\n",
      "episode: 59 - cum reward 11.0\n",
      "episode: 60 - cum reward 20.0\n",
      "episode: 61 - cum reward 59.0\n",
      "episode: 62 - cum reward 11.0\n",
      "episode: 63 - cum reward 17.0\n",
      "episode: 64 - cum reward 13.0\n",
      "episode: 65 - cum reward 74.0\n",
      "episode: 66 - cum reward 54.0\n",
      "episode: 67 - cum reward 13.0\n",
      "episode: 68 - cum reward 11.0\n",
      "episode: 69 - cum reward 10.0\n",
      "episode: 70 - cum reward 10.0\n",
      "episode: 71 - cum reward 10.0\n",
      "episode: 72 - cum reward 9.0\n",
      "episode: 73 - cum reward 16.0\n",
      "episode: 74 - cum reward 20.0\n",
      "episode: 75 - cum reward 138.0\n",
      "episode: 76 - cum reward 12.0\n",
      "episode: 77 - cum reward 10.0\n",
      "episode: 78 - cum reward 32.0\n",
      "episode: 79 - cum reward 9.0\n",
      "episode: 80 - cum reward 9.0\n",
      "episode: 81 - cum reward 10.0\n",
      "episode: 82 - cum reward 9.0\n",
      "episode: 83 - cum reward 9.0\n",
      "episode: 84 - cum reward 10.0\n",
      "episode: 85 - cum reward 10.0\n",
      "episode: 86 - cum reward 9.0\n",
      "episode: 87 - cum reward 10.0\n",
      "episode: 88 - cum reward 10.0\n",
      "episode: 89 - cum reward 17.0\n",
      "episode: 90 - cum reward 70.0\n",
      "episode: 91 - cum reward 45.0\n",
      "episode: 92 - cum reward 24.0\n",
      "episode: 93 - cum reward 16.0\n",
      "episode: 94 - cum reward 13.0\n",
      "episode: 95 - cum reward 22.0\n",
      "episode: 96 - cum reward 29.0\n",
      "episode: 97 - cum reward 33.0\n",
      "episode: 98 - cum reward 23.0\n",
      "episode: 99 - cum reward 28.0\n",
      "episode: 100 - cum reward 29.0\n",
      "episode: 101 - cum reward 37.0\n",
      "episode: 102 - cum reward 38.0\n",
      "episode: 103 - cum reward 32.0\n",
      "episode: 104 - cum reward 28.0\n",
      "episode: 105 - cum reward 49.0\n",
      "episode: 106 - cum reward 71.0\n",
      "episode: 107 - cum reward 43.0\n",
      "episode: 108 - cum reward 34.0\n",
      "episode: 109 - cum reward 36.0\n",
      "episode: 110 - cum reward 69.0\n",
      "episode: 111 - cum reward 40.0\n",
      "episode: 112 - cum reward 54.0\n",
      "episode: 113 - cum reward 34.0\n",
      "episode: 114 - cum reward 120.0\n",
      "episode: 115 - cum reward 76.0\n",
      "episode: 116 - cum reward 89.0\n",
      "episode: 117 - cum reward 87.0\n",
      "episode: 118 - cum reward 160.0\n",
      "episode: 119 - cum reward 42.0\n",
      "episode: 120 - cum reward 42.0\n",
      "episode: 121 - cum reward 52.0\n",
      "episode: 122 - cum reward 29.0\n",
      "episode: 123 - cum reward 108.0\n",
      "episode: 124 - cum reward 41.0\n",
      "episode: 125 - cum reward 69.0\n",
      "episode: 126 - cum reward 78.0\n",
      "episode: 127 - cum reward 144.0\n",
      "episode: 128 - cum reward 45.0\n",
      "episode: 129 - cum reward 60.0\n",
      "episode: 130 - cum reward 200.0\n",
      "episode: 131 - cum reward 10.0\n",
      "episode: 132 - cum reward 11.0\n",
      "episode: 133 - cum reward 11.0\n",
      "episode: 134 - cum reward 15.0\n",
      "episode: 135 - cum reward 15.0\n",
      "episode: 136 - cum reward 17.0\n",
      "episode: 137 - cum reward 131.0\n",
      "episode: 138 - cum reward 8.0\n",
      "episode: 139 - cum reward 8.0\n",
      "episode: 140 - cum reward 10.0\n",
      "episode: 141 - cum reward 74.0\n",
      "episode: 142 - cum reward 44.0\n",
      "episode: 143 - cum reward 25.0\n",
      "episode: 144 - cum reward 38.0\n",
      "episode: 145 - cum reward 52.0\n",
      "episode: 146 - cum reward 93.0\n",
      "episode: 147 - cum reward 61.0\n",
      "episode: 148 - cum reward 22.0\n",
      "episode: 149 - cum reward 18.0\n",
      "episode: 150 - cum reward 31.0\n",
      "episode: 151 - cum reward 50.0\n",
      "episode: 152 - cum reward 44.0\n",
      "episode: 153 - cum reward 25.0\n",
      "episode: 154 - cum reward 55.0\n",
      "episode: 155 - cum reward 52.0\n",
      "episode: 156 - cum reward 30.0\n",
      "episode: 157 - cum reward 28.0\n",
      "episode: 158 - cum reward 26.0\n",
      "episode: 159 - cum reward 61.0\n",
      "episode: 160 - cum reward 98.0\n",
      "episode: 161 - cum reward 26.0\n",
      "episode: 162 - cum reward 44.0\n",
      "episode: 163 - cum reward 34.0\n",
      "episode: 164 - cum reward 40.0\n",
      "episode: 165 - cum reward 49.0\n",
      "episode: 166 - cum reward 68.0\n",
      "episode: 167 - cum reward 103.0\n",
      "episode: 168 - cum reward 156.0\n",
      "episode: 169 - cum reward 200.0\n",
      "episode: 170 - cum reward 24.0\n",
      "episode: 171 - cum reward 14.0\n",
      "episode: 172 - cum reward 10.0\n",
      "episode: 173 - cum reward 17.0\n",
      "episode: 174 - cum reward 19.0\n",
      "episode: 175 - cum reward 27.0\n",
      "episode: 176 - cum reward 12.0\n",
      "episode: 177 - cum reward 12.0\n",
      "episode: 178 - cum reward 13.0\n",
      "episode: 179 - cum reward 9.0\n",
      "episode: 180 - cum reward 12.0\n",
      "episode: 181 - cum reward 17.0\n",
      "episode: 182 - cum reward 132.0\n",
      "episode: 183 - cum reward 94.0\n",
      "episode: 184 - cum reward 119.0\n",
      "episode: 185 - cum reward 126.0\n",
      "episode: 186 - cum reward 121.0\n",
      "episode: 187 - cum reward 28.0\n",
      "episode: 188 - cum reward 16.0\n",
      "episode: 189 - cum reward 16.0\n",
      "episode: 190 - cum reward 13.0\n",
      "episode: 191 - cum reward 94.0\n",
      "episode: 192 - cum reward 82.0\n",
      "episode: 193 - cum reward 85.0\n",
      "episode: 194 - cum reward 47.0\n",
      "episode: 195 - cum reward 44.0\n",
      "episode: 196 - cum reward 70.0\n",
      "episode: 197 - cum reward 61.0\n",
      "episode: 198 - cum reward 53.0\n",
      "episode: 199 - cum reward 97.0\n",
      "episode: 200 - cum reward 56.0\n",
      "episode: 201 - cum reward 78.0\n",
      "episode: 202 - cum reward 123.0\n",
      "episode: 203 - cum reward 166.0\n",
      "episode: 204 - cum reward 136.0\n",
      "episode: 205 - cum reward 158.0\n",
      "episode: 206 - cum reward 122.0\n",
      "episode: 207 - cum reward 69.0\n",
      "episode: 208 - cum reward 11.0\n",
      "episode: 209 - cum reward 200.0\n",
      "episode: 210 - cum reward 193.0\n",
      "episode: 211 - cum reward 24.0\n",
      "episode: 212 - cum reward 200.0\n",
      "episode: 213 - cum reward 200.0\n",
      "episode: 214 - cum reward 45.0\n",
      "episode: 215 - cum reward 124.0\n",
      "episode: 216 - cum reward 200.0\n",
      "episode: 217 - cum reward 18.0\n",
      "episode: 218 - cum reward 15.0\n",
      "episode: 219 - cum reward 32.0\n",
      "episode: 220 - cum reward 105.0\n",
      "episode: 221 - cum reward 150.0\n",
      "episode: 222 - cum reward 188.0\n",
      "episode: 223 - cum reward 146.0\n",
      "episode: 224 - cum reward 200.0\n",
      "episode: 225 - cum reward 119.0\n",
      "episode: 226 - cum reward 118.0\n",
      "episode: 227 - cum reward 111.0\n",
      "episode: 228 - cum reward 137.0\n",
      "episode: 229 - cum reward 119.0\n",
      "episode: 230 - cum reward 135.0\n",
      "episode: 231 - cum reward 118.0\n",
      "episode: 232 - cum reward 34.0\n",
      "episode: 233 - cum reward 200.0\n",
      "episode: 234 - cum reward 165.0\n",
      "episode: 235 - cum reward 200.0\n",
      "episode: 236 - cum reward 200.0\n",
      "episode: 237 - cum reward 159.0\n",
      "episode: 238 - cum reward 13.0\n",
      "episode: 239 - cum reward 9.0\n",
      "episode: 240 - cum reward 9.0\n",
      "episode: 241 - cum reward 13.0\n",
      "episode: 242 - cum reward 136.0\n",
      "episode: 243 - cum reward 12.0\n",
      "episode: 244 - cum reward 9.0\n",
      "episode: 245 - cum reward 9.0\n",
      "episode: 246 - cum reward 10.0\n",
      "episode: 247 - cum reward 8.0\n",
      "episode: 248 - cum reward 9.0\n",
      "episode: 249 - cum reward 9.0\n",
      "episode: 250 - cum reward 124.0\n",
      "episode: 251 - cum reward 117.0\n",
      "episode: 252 - cum reward 109.0\n",
      "episode: 253 - cum reward 200.0\n",
      "episode: 254 - cum reward 200.0\n",
      "episode: 255 - cum reward 108.0\n",
      "episode: 256 - cum reward 131.0\n",
      "episode: 257 - cum reward 12.0\n",
      "episode: 258 - cum reward 121.0\n",
      "episode: 259 - cum reward 200.0\n",
      "episode: 260 - cum reward 185.0\n",
      "episode: 261 - cum reward 155.0\n",
      "episode: 262 - cum reward 200.0\n",
      "episode: 263 - cum reward 200.0\n",
      "episode: 264 - cum reward 200.0\n",
      "episode: 265 - cum reward 200.0\n",
      "episode: 266 - cum reward 12.0\n",
      "episode: 267 - cum reward 13.0\n",
      "episode: 268 - cum reward 100.0\n",
      "episode: 269 - cum reward 10.0\n",
      "episode: 270 - cum reward 114.0\n",
      "episode: 271 - cum reward 200.0\n",
      "episode: 272 - cum reward 200.0\n",
      "episode: 273 - cum reward 136.0\n",
      "episode: 274 - cum reward 80.0\n",
      "episode: 275 - cum reward 90.0\n",
      "episode: 276 - cum reward 48.0\n",
      "episode: 277 - cum reward 117.0\n",
      "episode: 278 - cum reward 149.0\n",
      "episode: 279 - cum reward 66.0\n",
      "episode: 280 - cum reward 68.0\n",
      "episode: 281 - cum reward 72.0\n",
      "episode: 282 - cum reward 59.0\n",
      "episode: 283 - cum reward 125.0\n",
      "episode: 284 - cum reward 64.0\n",
      "episode: 285 - cum reward 200.0\n",
      "episode: 286 - cum reward 115.0\n",
      "episode: 287 - cum reward 107.0\n",
      "episode: 288 - cum reward 9.0\n",
      "episode: 289 - cum reward 13.0\n",
      "episode: 290 - cum reward 91.0\n",
      "episode: 291 - cum reward 34.0\n",
      "episode: 292 - cum reward 41.0\n",
      "episode: 293 - cum reward 58.0\n",
      "episode: 294 - cum reward 55.0\n",
      "episode: 295 - cum reward 82.0\n",
      "episode: 296 - cum reward 60.0\n",
      "episode: 297 - cum reward 65.0\n",
      "episode: 298 - cum reward 70.0\n",
      "episode: 299 - cum reward 146.0\n"
     ]
    }
   ],
   "source": [
    "state_dim = env.observation_space.shape[0]\n",
    "action_dim = env.action_space.n\n",
    "your_model = your_build_model(state_dim, action_dim)\n",
    "your_q_agent = DeepQAgent(env, your_model)\n",
    "your_rewards = run_experiment_episode_train(env, your_q_agent, 300)"
   ]
  },
  {
   "cell_type": "code",
   "execution_count": 19,
   "metadata": {
    "colab": {
     "base_uri": "https://localhost:8080/",
     "height": 624
    },
    "id": "yaxVbVWu6eSH",
    "outputId": "4a3e32ad-5b48-45f9-8c48-b36572a207bc"
   },
   "outputs": [
    {
     "data": {
      "text/plain": [
       "<matplotlib.legend.Legend at 0x7f48e019bf40>"
      ]
     },
     "execution_count": 19,
     "metadata": {},
     "output_type": "execute_result"
    },
    {
     "data": {
      "image/png": "[encoded data removed]",
      "text/plain": [
       "<Figure size 720x720 with 1 Axes>"
      ]
     },
     "metadata": {},
     "output_type": "display_data"
    }
   ],
   "source": [
    "fig,ax = plt.subplots(figsize=(10,10))\n",
    "ax.plot(rewards,label='initial_model')\n",
    "ax.plot(your_rewards,label='your_model')\n",
    "ax.set_title('cumulative reward per episode - deep_q_agent')\n",
    "ax.legend()"
   ]
  },
  {
   "cell_type": "markdown",
   "metadata": {
    "id": "hKXNUKAM6eSH"
   },
   "source": [
    "### Experience replay"
   ]
  },
  {
   "cell_type": "markdown",
   "metadata": {
    "id": "BGLQqfMG6eSH"
   },
   "source": [
    "In order to improve stability, we will keep memory of the previous moves and use it to update our model\n",
    "\n",
    "\n",
    "$L_i(\\theta_i) = \\mathbb{E}_{(s, a, r, s') \\sim U(D)} \\left[ \\left(r + \\gamma \\max_{a'} Q(s', a'; \\theta_i^-) - Q(s, a; \\theta_i)\\right)^2 \\right]$"
   ]
  },
  {
   "cell_type": "markdown",
   "metadata": {
    "id": "t4KBSHK36eSH"
   },
   "source": [
    "### TODO 3) : Try different hyerparamters models (number of layers, nodes) and compare learning"
   ]
  },
  {
   "cell_type": "code",
   "execution_count": null,
   "metadata": {
    "id": "w9rDENom6eSI"
   },
   "outputs": [],
   "source": [
    "#TODO: write The function replay that return bacth from memory\n",
    "# self.memory is a queue of size memory_size\n",
    "# (x_batch, y_batch)_i is a random (state, target) from the memory\n",
    "class DeepQAgent_experience_replay(DeepAgent):\n",
    "    def __init__(self, env, compiled_model, gamma = .99, epsilon = .1, memory_size = 2000, batch_size = 100):\n",
    "        super().__init__(env, gamma, epsilon)\n",
    "        \n",
    "        self.model = compiled_model\n",
    "        self.model.summary()\n",
    "        \n",
    "        self.memory_size = memory_size\n",
    "        self.batch_size = batch_size\n",
    "        self.memory = deque(maxlen=memory_size)\n",
    "        \n",
    "    def replay(self, batch_size):\n",
    "        pass #complete here\n",
    "    \n",
    "        \n",
    "    def act(self, state):\n",
    "        if np.random.rand() < self.epsilon:\n",
    "            action = np.random.randint(self.env.action_space.n)\n",
    "            return action\n",
    "        predicted_Qs = self.model.predict(state.reshape(1, -1))[0]\n",
    "        action = np.argmax(predicted_Qs) \n",
    "        return action\n",
    "    \n",
    "    def train(self, current_state, action, reward, next_state, done):\n",
    "        self.memory.append([current_state, action, reward, next_state, done])\n",
    "        x_batch, y_batch = self.replay(self.batch_size)\n",
    "        loss = self.model.train_on_batch(x_batch, y_batch)"
   ]
  },
  {
   "cell_type": "code",
   "execution_count": 23,
   "metadata": {
    "id": "jGv8E1F2F211"
   },
   "outputs": [],
   "source": [
    "#Done: write The function replay that return bacth from memory\n",
    "class DeepQAgent_experience_replay(DeepAgent):\n",
    "    def __init__(self, env, compiled_model, gamma = .99, epsilon = .1, memory_size = 2000, batch_size = 100):\n",
    "        super().__init__(env, gamma, epsilon)\n",
    "        \n",
    "        self.model = compiled_model\n",
    "        self.model.summary()\n",
    "        \n",
    "        self.memory_size = memory_size\n",
    "        self.batch_size = batch_size\n",
    "        self.memory = deque(maxlen=memory_size)\n",
    "    \n",
    "    # easy loop way\n",
    "    #def replay(self, batch_size):\n",
    "    #    x_batch =  np.zeros((batch_size, self.state_size))\n",
    "    #    y_batch =  np.zeros((batch_size, self.action_size))\n",
    "    #    minibatch = random.sample(self.memory, min(len(self.memory), batch_size))\n",
    "    #    for i, (state, action, reward, next_state, done) in enumerate(minibatch):\n",
    "    #        target = self.model.predict(state.reshape(1,-1))[0]\n",
    "    #        if done:\n",
    "    #            target[action] = reward\n",
    "    #        else:\n",
    "    #            target[action] = reward + self.gamma * np.max(self.model.predict(next_state.reshape(1,-1)))\n",
    "    #        x_batch[i] = state\n",
    "    #        y_batch[i] = target\n",
    "    #    return x_batch, y_batch\n",
    "    \n",
    "    #optimize way\n",
    "    def replay(self, batch_size):\n",
    "        minibatch = np.array(random.sample(self.memory, min(len(self.memory), batch_size)))\n",
    "        states = np.vstack(np.array(minibatch)[:,0])\n",
    "        actions = np.array(minibatch)[:,1].astype(int)\n",
    "        rewards = np.array(minibatch)[:,2]\n",
    "        next_states = np.vstack(np.array(minibatch)[:,3])\n",
    "        dones = np.array(minibatch)[:,4]\n",
    "        targets = self.model.predict(states, verbose=0)\n",
    "        targets_next = self.model.predict(next_states, verbose=0)\n",
    "        targets[np.arange(actions.size),actions] = rewards + (1 - dones) * self.gamma * np.max(targets_next, axis=1)\n",
    "        return states, targets\n",
    "    \n",
    "    \n",
    "    def act(self, state):\n",
    "        if np.random.rand() < self.epsilon:\n",
    "            action = np.random.randint(self.env.action_space.n)\n",
    "            return action\n",
    "        predicted_Qs = self.model.predict(state.reshape(1, -1), verbose=0)[0]\n",
    "        action = np.argmax(predicted_Qs) \n",
    "        return action\n",
    "    \n",
    "    def train(self, current_state, action, reward, next_state, done):\n",
    "        self.memory.append([current_state, action, reward, next_state, done])\n",
    "        x_batch, y_batch = self.replay(self.batch_size)\n",
    "        loss = self.model.train_on_batch(x_batch, y_batch)"
   ]
  },
  {
   "cell_type": "code",
   "execution_count": null,
   "metadata": {
    "colab": {
     "base_uri": "https://localhost:8080/"
    },
    "id": "3gqX36md6eSI",
    "outputId": "4490aa2d-7ded-404c-81d0-d5fc4223755d",
    "scrolled": true
   },
   "outputs": [
    {
     "name": "stdout",
     "output_type": "stream",
     "text": [
      "Model: \"model_5\"\n",
      "_________________________________________________________________\n",
      " Layer (type)                Output Shape              Param #   \n",
      "=================================================================\n",
      " input_state (InputLayer)    [(None, 4)]               0         \n",
      "                                                                 \n",
      " dense_15 (Dense)            (None, 32)                160       \n",
      "                                                                 \n",
      " dense_16 (Dense)            (None, 32)                1056      \n",
      "                                                                 \n",
      " dense_17 (Dense)            (None, 2)                 66        \n",
      "                                                                 \n",
      "=================================================================\n",
      "Total params: 1,282\n",
      "Trainable params: 1,282\n",
      "Non-trainable params: 0\n",
      "_________________________________________________________________\n",
      "episode: 0 - cum reward 10.0\n",
      "episode: 1 - cum reward 15.0\n",
      "episode: 2 - cum reward 11.0\n",
      "episode: 3 - cum reward 30.0\n",
      "episode: 4 - cum reward 10.0\n",
      "episode: 5 - cum reward 28.0\n",
      "episode: 6 - cum reward 14.0\n",
      "episode: 7 - cum reward 45.0\n",
      "episode: 8 - cum reward 21.0\n",
      "episode: 9 - cum reward 33.0\n",
      "episode: 10 - cum reward 78.0\n",
      "episode: 11 - cum reward 37.0\n",
      "episode: 12 - cum reward 34.0\n",
      "episode: 13 - cum reward 12.0\n",
      "episode: 14 - cum reward 18.0\n",
      "episode: 15 - cum reward 15.0\n",
      "episode: 16 - cum reward 12.0\n",
      "episode: 17 - cum reward 20.0\n",
      "episode: 18 - cum reward 11.0\n",
      "episode: 19 - cum reward 40.0\n",
      "episode: 20 - cum reward 89.0\n",
      "episode: 21 - cum reward 86.0\n",
      "episode: 22 - cum reward 200.0\n",
      "episode: 23 - cum reward 200.0\n",
      "episode: 24 - cum reward 200.0\n",
      "episode: 25 - cum reward 200.0\n",
      "episode: 26 - cum reward 200.0\n",
      "episode: 27 - cum reward 153.0\n",
      "episode: 28 - cum reward 182.0\n",
      "episode: 29 - cum reward 200.0\n"
     ]
    }
   ],
   "source": [
    "state_dim = env.observation_space.shape[0]\n",
    "action_dim = env.action_space.n\n",
    "model = your_build_model(state_dim, action_dim)\n",
    "\n",
    "q_agent = DeepQAgent_experience_replay(env, model)\n",
    "rewards = run_experiment_episode_train(env, q_agent, 200)\n",
    "fig,ax = plt.subplots(figsize=(10,10))\n",
    "ax.plot(rewards,'+')\n",
    "ax.set_title('cumulative reward per episode - memory_deep_q_agent')"
   ]
  },
  {
   "cell_type": "markdown",
   "metadata": {
    "id": "tYfJLP5O6eSI"
   },
   "source": [
    "# Other improvments"
   ]
  },
  {
   "cell_type": "markdown",
   "metadata": {
    "id": "Q0GlGohj6eSI"
   },
   "source": [
    "### epsilon decay\n",
    "Decay how random you take an action"
   ]
  },
  {
   "cell_type": "markdown",
   "metadata": {
    "id": "JLWXywGU6eSJ"
   },
   "source": [
    "### clipping reward\n",
    "$Q(s,a):=Q(s,a)+\\alpha(clip(r+\\gamma \\arg\\max(Q(s',a'))-Q(s,a), -1, 1))$"
   ]
  },
  {
   "cell_type": "markdown",
   "metadata": {
    "id": "6GGZq-2R6eSJ"
   },
   "source": [
    "### clipping loss\n",
    "tf.keras.losses.Huber(delta=1.)"
   ]
  },
  {
   "cell_type": "markdown",
   "metadata": {
    "id": "kEn6PiOT6eSJ"
   },
   "source": [
    "### Double Q learning"
   ]
  },
  {
   "cell_type": "markdown",
   "metadata": {
    "id": "eghT3WaW6eSJ"
   },
   "source": [
    "DQN: A reinforcement learning algorithm that combines Q-Learning with deep neural networks to let RL work for complex, high-dimensional environments, like video games, or robotics.\n",
    "Double Q Learning: Corrects the stock DQN algorithm’s tendency to sometimes overestimate the values tied to specific actions.\n",
    "Prioritized Replay: Extends DQN’s experience replay function by learning to replay memories where the real reward significantly diverges from the expected reward, letting the agent adjust itself in response to developing incorrect assumptions.\n",
    "Dueling DQN: Splits the neural network into two — one learns to provide an estimate of the value at every timestep, and the other calculates potential advantages of each action, and the two are combined for a single action-advantage Q function."
   ]
  },
  {
   "cell_type": "code",
   "execution_count": null,
   "metadata": {
    "id": "3u7Bhpz46eSJ"
   },
   "outputs": [],
   "source": []
  }
 ],
 "metadata": {
  "accelerator": "GPU",
  "colab": {
   "provenance": []
  },
  "gpuClass": "premium",
  "kernelspec": {
   "display_name": "Python 3 (ipykernel)",
   "language": "python",
   "name": "python3"
  },
  "language_info": {
   "codemirror_mode": {
    "name": "ipython",
    "version": 3
   },
   "file_extension": ".py",
   "mimetype": "text/x-python",
   "name": "python",
   "nbconvert_exporter": "python",
   "pygments_lexer": "ipython3",
   "version": "3.8.10"
  }
 },
 "nbformat": 4,
 "nbformat_minor": 1
}
