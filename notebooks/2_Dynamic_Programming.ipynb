{
  "cells": [
    {
      "cell_type": "code",
      "execution_count": null,
      "metadata": {
        "id": "XOW-UKFUODcB"
      },
      "outputs": [],
      "source": [
        "import warnings\n",
        "warnings.filterwarnings('ignore')"
      ]
    },
    {
      "cell_type": "markdown",
      "metadata": {
        "id": "-SoWByR4ODcD"
      },
      "source": [
        "### Run in collab\n",
        "<a href=\"https://colab.research.google.com/github/racousin/rl_introduction/blob/master/notebooks/2_dynamic-programming.ipynb\" target=\"_parent\"><img src=\"https://colab.research.google.com/assets/colab-badge.svg\" alt=\"Open In Colab\"/></a>"
      ]
    },
    {
      "cell_type": "code",
      "execution_count": null,
      "metadata": {
        "id": "TaM9R9w9ODcE"
      },
      "outputs": [],
      "source": [
        "!apt-get install swig build-essential python-dev python3-dev > /dev/null 2>&1\n",
        "!pip install pygame==2.1.0 > /dev/null 2>&1\n",
        "!pip install box2d-py==2.3.5  > /dev/null 2>&1\n",
        "!pip install gym[Box2d,atari,accept-rom-license]==0.23.1 > /dev/null 2>&1\n",
        "!pip install pyvirtualdisplay > /dev/null 2>&1\n",
        "!apt-get install -y xvfb python-opengl ffmpeg > /dev/null 2>&1\n",
        "!pip install colabgymrender==1.0.2 > /dev/null 2>&1\n",
        "!pip install imageio==2.4.1 > /dev/null 2>&1\n",
        "!git clone https://github.com/racousin/rl_introduction.git > /dev/null 2>&1"
      ]
    },
    {
      "cell_type": "markdown",
      "metadata": {
        "id": "aLHzFR2DODcG"
      },
      "source": [
        "# 2_Dynamic_Programming"
      ]
    },
    {
      "cell_type": "markdown",
      "metadata": {
        "id": "-lzbjlcdODcG"
      },
      "source": [
        "### Objective\n",
        "Before we go any further into RL. We will compute the best agent when the model is perfectly known (MDP). As example, we will solve the FrozenLake problem.\n",
        "\n",
        "**Complete the TODO steps! Good luck!**"
      ]
    },
    {
      "cell_type": "code",
      "execution_count": null,
      "metadata": {
        "id": "kS-4aqgZODcH"
      },
      "outputs": [],
      "source": [
        "import numpy as np\n",
        "import gym\n",
        "import copy\n",
        "import matplotlib.pyplot as plt\n",
        "import seaborn as sns\n",
        "from time import sleep\n",
        "from rl_introduction.rl_introduction.tools import Agent, plot_values_lake\n",
        "from rl_introduction.rl_introduction.render_colab import gym_render\n",
        "env = gym.make('FrozenLake-v1')"
      ]
    },
    {
      "cell_type": "markdown",
      "metadata": {
        "id": "sS3uUIZNODcH"
      },
      "source": [
        "### FrozenLake- environment\n",
        "The agent controls the movement of a character in a grid world. Some tiles of the grid are walkable, and others lead to the agent falling into the water. Additionally, the movement direction of the agent is uncertain and only partially depends on the chosen direction. The agent is rewarded for finding a walkable path to a goal tile."
      ]
    },
    {
      "cell_type": "markdown",
      "metadata": {
        "id": "Cdz5BJh4ODcH"
      },
      "source": [
        "The surface is described using a grid like the following:\n",
        "    \n",
        "SFFF       (S: starting point, safe)\n",
        "\n",
        "FHFH       (F: frozen surface, safe)\n",
        "\n",
        "FFFH       (H: hole, fall to your doom)\n",
        "\n",
        "HFFG       (G: goal, where the frisbee is located)"
      ]
    },
    {
      "cell_type": "markdown",
      "metadata": {
        "id": "IPDBJnfcODcI"
      },
      "source": [
        "There are 16 states"
      ]
    },
    {
      "cell_type": "code",
      "source": [
        "#TODO: Get the state, action size"
      ],
      "metadata": {
        "id": "wy0ert7HRySx"
      },
      "execution_count": null,
      "outputs": []
    },
    {
      "cell_type": "code",
      "source": [
        "#Done: Get the state, action size\n",
        "print(f\"state size {env.observation_space.n}\")\n",
        "print(f\"action size {env.action_space}\")"
      ],
      "metadata": {
        "id": "bA4coAdYR7_J"
      },
      "execution_count": null,
      "outputs": []
    },
    {
      "cell_type": "code",
      "execution_count": null,
      "metadata": {
        "id": "QeZIbHcIODcJ",
        "outputId": "b54de67f-d0b7-4c6e-beb1-41637f0f2532"
      },
      "outputs": [
        {
          "data": {
            "text/plain": [
              "Discrete(4)"
            ]
          },
          "execution_count": 7,
          "metadata": {},
          "output_type": "execute_result"
        }
      ],
      "source": []
    },
    {
      "cell_type": "code",
      "execution_count": null,
      "metadata": {
        "scrolled": true,
        "id": "EOMmNoU2ODcK",
        "outputId": "a948cb72-a42c-4f50-fdd4-a9663017aacd"
      },
      "outputs": [
        {
          "name": "stdout",
          "output_type": "stream",
          "text": [
            "reset with state:5, reward:0.0\n",
            "reset with state:5, reward:0.0\n",
            "reset with state:5, reward:0.0\n",
            "reset with state:12, reward:0.0\n",
            "reset with state:5, reward:0.0\n",
            "reset with state:5, reward:0.0\n",
            "reset with state:5, reward:0.0\n",
            "reset with state:7, reward:0.0\n",
            "reset with state:5, reward:0.0\n",
            "reset with state:12, reward:0.0\n",
            "reset with state:5, reward:0.0\n",
            "reset with state:5, reward:0.0\n",
            "reset with state:5, reward:0.0\n"
          ]
        }
      ],
      "source": [
        "gyn_render(env_name='FrozenLake-v1', directory='./video', agent = 'random', slow_coeff=10)"
      ]
    },
    {
      "cell_type": "markdown",
      "metadata": {
        "id": "jy2eLiUlODcK"
      },
      "source": [
        "## 1) env transition model"
      ]
    },
    {
      "cell_type": "markdown",
      "metadata": {
        "id": "ov-F5CvSODcK"
      },
      "source": [
        "We are access of the transition model, $P(S_{t+1}=s'|S_t = s, A_t=a)$ and the associated reward using <b>env.P[s][a]</b>. For example, the probabilities of each possible reward and next state, if the agent is in state 1 of the gridworld and decides to go left."
      ]
    },
    {
      "cell_type": "code",
      "execution_count": null,
      "metadata": {
        "id": "teqGBzSHODcL"
      },
      "outputs": [],
      "source": [
        "state = 1\n",
        "action = 0 #left"
      ]
    },
    {
      "cell_type": "code",
      "execution_count": null,
      "metadata": {
        "id": "Q0_fiyS1ODcL",
        "outputId": "0ab2dc96-2642-4129-864b-e797318f34f8"
      },
      "outputs": [
        {
          "data": {
            "text/plain": [
              "[(0.3333333333333333, 1, 0.0, False),\n",
              " (0.3333333333333333, 0, 0.0, False),\n",
              " (0.3333333333333333, 5, 0.0, True)]"
            ]
          },
          "execution_count": 10,
          "metadata": {},
          "output_type": "execute_result"
        }
      ],
      "source": [
        "# P(s'|state,action), s', reward, done\n",
        "env.P[state][action]"
      ]
    },
    {
      "cell_type": "markdown",
      "metadata": {
        "id": "ZroahN5wODcL"
      },
      "source": [
        "We see here that there is a $1/3$ probability falling in the hole in state 5 (and finish the episode)."
      ]
    },
    {
      "cell_type": "markdown",
      "metadata": {
        "id": "8RwnG7mNODcM"
      },
      "source": [
        "To resume, we have \n",
        "\n",
        "**States:** $S = \\{0,...,15\\}$\n",
        "\n",
        "**Actions:** $A = \\{0,1,2,3\\}$\n",
        "\n",
        "**Transition model:** $P_{ss'}^a = \\mathbb{P} [S_{t+1} = s' \\vert S_t = s, A_t = a]$ -> env.P[state][action]\n",
        "\n",
        "**Reward function:**\n",
        "$R(s, a) = \\mathbb{E} [R_{t+1} \\vert S_t = s, A_t = a]$\n",
        "\n",
        "$\\forall a \\in {1,2,3} : R(14,a) = 1/3$\n",
        "    \n",
        "$R(14,0) = 0$\n",
        "\n",
        "$\\forall a \\in A \\forall s \\in \\{0,...,13\\} : R(s,a) = 0$"
      ]
    },
    {
      "cell_type": "markdown",
      "metadata": {
        "id": "i7QNaybVODcM"
      },
      "source": [
        "## 2) agent policy\n",
        "We add to our agent its <b>policy</b> $\\pi(a|s)$."
      ]
    },
    {
      "cell_type": "code",
      "execution_count": null,
      "metadata": {
        "id": "FQudtciEODcM"
      },
      "outputs": [],
      "source": [
        "#TODO: write Random Policy (ex uniformly random policy)\n",
        "class MyRandomAgent(Agent):\n",
        "    def __init__(self, env):\n",
        "        super().__init__(env)\n",
        "        self.policy = None#complete here\n",
        "    def act(self, state):\n",
        "        action = np.random.choice(np.arange(self.env.action_space.n),p=self.policy[state])\n",
        "        return action"
      ]
    },
    {
      "cell_type": "code",
      "execution_count": null,
      "metadata": {
        "id": "xBP-mKdaODcN"
      },
      "outputs": [],
      "source": [
        "#Done: write an uniformly random policy\n",
        "class MyRandomAgent(Agent):\n",
        "    def __init__(self, env, is_deterministic = True):\n",
        "        super().__init__(env)\n",
        "        self.policy = np.ones([self.env.observation_space.n, self.env.action_space.n]) / self.env.action_space.n\n",
        "    def act(self, state):\n",
        "        action = np.random.choice(np.arange(self.env.action_space.n),p=self.policy[state])\n",
        "        return action"
      ]
    },
    {
      "cell_type": "code",
      "execution_count": null,
      "metadata": {
        "id": "xFINBom8ODcN",
        "outputId": "00051acf-1603-479f-c1f0-cdacf194b6ce"
      },
      "outputs": [
        {
          "data": {
            "text/plain": [
              "array([[0.25, 0.25, 0.25, 0.25],\n",
              "       [0.25, 0.25, 0.25, 0.25],\n",
              "       [0.25, 0.25, 0.25, 0.25],\n",
              "       [0.25, 0.25, 0.25, 0.25],\n",
              "       [0.25, 0.25, 0.25, 0.25],\n",
              "       [0.25, 0.25, 0.25, 0.25],\n",
              "       [0.25, 0.25, 0.25, 0.25],\n",
              "       [0.25, 0.25, 0.25, 0.25],\n",
              "       [0.25, 0.25, 0.25, 0.25],\n",
              "       [0.25, 0.25, 0.25, 0.25],\n",
              "       [0.25, 0.25, 0.25, 0.25],\n",
              "       [0.25, 0.25, 0.25, 0.25],\n",
              "       [0.25, 0.25, 0.25, 0.25],\n",
              "       [0.25, 0.25, 0.25, 0.25],\n",
              "       [0.25, 0.25, 0.25, 0.25],\n",
              "       [0.25, 0.25, 0.25, 0.25]])"
            ]
          },
          "execution_count": 13,
          "metadata": {},
          "output_type": "execute_result"
        }
      ],
      "source": [
        "agent = MyRandomAgent(env)\n",
        "agent.policy"
      ]
    },
    {
      "cell_type": "code",
      "execution_count": null,
      "metadata": {
        "id": "qmxwf0yjODcN",
        "outputId": "a21290e0-ec87-4be2-b2db-fddcac476eec"
      },
      "outputs": [
        {
          "data": {
            "text/plain": [
              "<BarContainer object of 4 artists>"
            ]
          },
          "execution_count": 14,
          "metadata": {},
          "output_type": "execute_result"
        },
        {
          "data": {
            "image/png": "[encoded data removed]",
            "text/plain": [
              "<Figure size 432x288 with 1 Axes>"
            ]
          },
          "metadata": {
            "needs_background": "light"
          },
          "output_type": "display_data"
        }
      ],
      "source": [
        "# test it\n",
        "agent = MyRandomAgent(env)\n",
        "nb_iter = 100\n",
        "res_action = np.zeros((env.observation_space.n, env.action_space.n))\n",
        "for nb in range(nb_iter):\n",
        "    for state in range(env.observation_space.n):\n",
        "        act = agent.act(state)\n",
        "        res_action[state][act] += 1\n",
        "# plot action by state (for example state 0)\n",
        "plt.bar(np.arange(env.action_space.n),res_action[0])"
      ]
    },
    {
      "cell_type": "markdown",
      "metadata": {
        "id": "W9y_8brHODcO"
      },
      "source": [
        "## 2) Policy Evaluation"
      ]
    },
    {
      "cell_type": "markdown",
      "metadata": {
        "id": "DhchO4xlODcO"
      },
      "source": [
        "The Value Function $V_\\pi(s)$ is the expected return in state $s$, according to $\\pi$.\n",
        "$V_\\pi(s) \n",
        "= \\mathbb{E}_\\pi [r + \\gamma V_\\pi(s_{t+1}) | S_t = s]\n",
        "= \\sum_a \\pi(a \\vert s) \\sum_{s', r} P(s', r \\vert s, a) (r + \\gamma V_\\pi(s'))$\n",
        "\n",
        "We have all the information to resolve linear system for $V_\\pi$:\n",
        "\\begin{equation}\n",
        "V(s_0) =  \\sum_a \\pi(a \\vert s) \\sum_{s', r} P(s', r \\vert s_0, a) (r + \\gamma V(s'))\\\\\n",
        "V(s_1) =  \\sum_a \\pi(a \\vert s) \\sum_{s', r} P(s', r \\vert s_1, a) (r + \\gamma V(s'))\\\\\n",
        "...\\\\\n",
        "V(s_{16}) = \\sum_a \\pi(a \\vert s) \\sum_{s', r} P(s', r \\vert s_{16}, a) (r + \\gamma V(s'))\n",
        "\\end{equation}\n",
        "Even for 16 states it could be complicated. "
      ]
    },
    {
      "cell_type": "markdown",
      "metadata": {
        "id": "mZVgXIIAODcP"
      },
      "source": [
        "So we use an iterative approach.\n",
        "\n",
        "\n",
        "We initialize $V_0$ arbitrarly. And we update it using:\n",
        "\n",
        "\n",
        "$V_{k+1}(s) = \\mathbb{E}_\\pi [r + \\gamma V_k(s_{t+1}) | S_t = s] $ (1).\n",
        "\n",
        "$\\forall s$, $V_\\pi(s)$ is a fix point for (1), so if $(V_k)_{k\\in \\mathbb{N}}$ converges, it converges to $V_\\pi$."
      ]
    },
    {
      "cell_type": "code",
      "execution_count": null,
      "metadata": {
        "id": "-LxWowp4ODcP"
      },
      "outputs": [],
      "source": [
        "#TODO: write the value evaluation update step\n",
        "def policy_evaluation(env, policy, gamma=1, theta=1e-8):\n",
        "    V = np.zeros(env.observation_space.n) # initialization\n",
        "    while True:\n",
        "        delta = 0\n",
        "        for s in range(env.observation_space.n):\n",
        "            Vs = 0\n",
        "            for a, action_prob in enumerate(policy[s]):\n",
        "                # action_prob is $\\pi(a/s)$\n",
        "                for prob, next_state, reward, done in env.P[s][a]:\n",
        "                    # prob is $P(next_state, reward/s,a)$\n",
        "                    Vs += None#complete here\n",
        "            delta = max(delta, np.abs(V[s]-Vs))\n",
        "            V[s] = Vs\n",
        "        if delta < theta: # condition of convergence\n",
        "            break\n",
        "    return V"
      ]
    },
    {
      "cell_type": "code",
      "execution_count": null,
      "metadata": {
        "id": "rt3EAG0WODcP"
      },
      "outputs": [],
      "source": [
        "#Done: write the value evaluation update step\n",
        "def policy_evaluation(env, policy, gamma=1, theta=1e-8):\n",
        "    V = np.zeros(env.observation_space.n) # initialization\n",
        "    while True:\n",
        "        delta = 0\n",
        "        for s in range(env.observation_space.n):\n",
        "            Vs = 0\n",
        "            for a, action_prob in enumerate(policy[s]):\n",
        "                # action_prob is $\\pi(a/s)$\n",
        "                for prob, next_state, reward, done in env.P[s][a]:\n",
        "                    # prob is $P(next_state, reward/s,a)$\n",
        "                    Vs += action_prob * prob * (reward + gamma * V[next_state])\n",
        "            delta = max(delta, np.abs(V[s]-Vs))\n",
        "            V[s] = Vs\n",
        "        if delta < theta: # condition of convergence\n",
        "            break\n",
        "    return V"
      ]
    },
    {
      "cell_type": "code",
      "execution_count": null,
      "metadata": {
        "id": "WiGUNAfqODcQ"
      },
      "outputs": [],
      "source": [
        "my_rand_agent = MyRandomAgent(env)"
      ]
    },
    {
      "cell_type": "code",
      "execution_count": null,
      "metadata": {
        "id": "4O0zdN54ODcQ",
        "outputId": "056089d0-e53c-4a16-9c0b-bf164e7eceb9"
      },
      "outputs": [
        {
          "data": {
            "image/png": "[encoded data removed]",
            "text/plain": [
              "<Figure size 432x432 with 1 Axes>"
            ]
          },
          "metadata": {},
          "output_type": "display_data"
        }
      ],
      "source": [
        "# evaluate the policy \n",
        "V = policy_evaluation(env, my_rand_agent.policy)\n",
        "\n",
        "plot_values_lake(V)"
      ]
    },
    {
      "cell_type": "code",
      "execution_count": null,
      "metadata": {
        "id": "gbeiCmafODcQ",
        "outputId": "e1d7469b-6794-4fad-8870-1431c5891a01"
      },
      "outputs": [
        {
          "data": {
            "text/plain": [
              "0.9941411498416601"
            ]
          },
          "execution_count": 19,
          "metadata": {},
          "output_type": "execute_result"
        }
      ],
      "source": [
        "V.sum()"
      ]
    },
    {
      "cell_type": "markdown",
      "metadata": {
        "id": "o3P9aNi-ODcR"
      },
      "source": [
        "Knowing the transition $\\mathbb{P}(S_{t+1},R_{t+1}|S_t,A_t)$, it is natural to compute the q function from value function."
      ]
    },
    {
      "cell_type": "markdown",
      "metadata": {
        "id": "W85hyLdpODcR"
      },
      "source": [
        "\\begin{aligned}\n",
        "Q(s, a) \n",
        "&= \\mathbb{E} [R_{t+1} + \\gamma V(S_{t+1}) \\mid S_t = s, A_t = a] \\\\\n",
        "&= \\sum_{s'} [r_{t+1} + \\gamma V(s')] P(S_{t+1}=s'|S_t=s,A_t=a)\n",
        "\\end{aligned}"
      ]
    },
    {
      "cell_type": "code",
      "execution_count": null,
      "metadata": {
        "id": "ItTE1INhODcR"
      },
      "outputs": [],
      "source": [
        "#TODO: write the q evaluation update step\n",
        "def q_from_v(env, V, s, gamma=1):\n",
        "    q = np.zeros(env.action_space.n)\n",
        "    for a in range(env.action_space.n):\n",
        "        for prob, next_state, reward, done in env.P[s][a]:\n",
        "            q[a] +=None #TODO complete here \n",
        "    return q"
      ]
    },
    {
      "cell_type": "code",
      "execution_count": null,
      "metadata": {
        "id": "DZUDZ0NLODcS"
      },
      "outputs": [],
      "source": [
        "#Done: write the q evaluation update step\n",
        "def q_from_v(env, V, s, gamma=1):\n",
        "    q = np.zeros(env.action_space.n)\n",
        "    for a in range(env.action_space.n):\n",
        "        for prob, next_state, reward, done in env.P[s][a]:\n",
        "            q[a] += prob * (reward + gamma * V[next_state])\n",
        "    return q"
      ]
    },
    {
      "cell_type": "code",
      "execution_count": null,
      "metadata": {
        "id": "VCF3INfRODcS",
        "outputId": "ffe1e4a9-06ca-41a9-f4b0-0f3208858345"
      },
      "outputs": [
        {
          "name": "stdout",
          "output_type": "stream",
          "text": [
            "Action-Value Function:\n",
            "[[0.0147094  0.01393978 0.01393978 0.01317015]\n",
            " [0.00852356 0.01163091 0.0108613  0.01550788]\n",
            " [0.02444514 0.02095298 0.02406033 0.01435346]\n",
            " [0.01047649 0.01047649 0.00698432 0.01396865]\n",
            " [0.02166487 0.01701828 0.01624865 0.01006281]\n",
            " [0.         0.         0.         0.        ]\n",
            " [0.05433538 0.04735105 0.05433538 0.00698432]\n",
            " [0.         0.         0.         0.        ]\n",
            " [0.01701828 0.04099204 0.03480619 0.04640826]\n",
            " [0.07020885 0.11755991 0.10595784 0.05895312]\n",
            " [0.18940421 0.17582037 0.16001424 0.04297382]\n",
            " [0.         0.         0.         0.        ]\n",
            " [0.         0.         0.         0.        ]\n",
            " [0.08799677 0.20503718 0.23442716 0.17582037]\n",
            " [0.25238823 0.53837051 0.52711478 0.43929118]\n",
            " [0.         0.         0.         0.        ]]\n"
          ]
        }
      ],
      "source": [
        "Q = np.zeros([env.observation_space.n, env.action_space.n])\n",
        "for s in range(env.observation_space.n):\n",
        "    Q[s] = q_from_v(env, V, s)\n",
        "print(\"Action-Value Function:\")\n",
        "print(Q)"
      ]
    },
    {
      "cell_type": "markdown",
      "metadata": {
        "id": "K90-Z5BrODcS"
      },
      "source": [
        "## 3) Policy Improvement"
      ]
    },
    {
      "cell_type": "markdown",
      "metadata": {
        "id": "wNeZXB61ODcT"
      },
      "source": [
        "With the q function, we update our policy from $\\pi$ to $\\pi'$ by acting greedy. That means $\\pi'(.|s) = \\arg\\max_a Q_\\pi(a,s)$.\n",
        "\n",
        "This improvment is given by: $\\forall s, V_\\pi(s) = \\sum_a\\pi(a|s)Q_\\pi(s,a) \\leq \\max_a Q_\\pi(s,a) = V_{\\pi'}(s)$"
      ]
    },
    {
      "cell_type": "code",
      "execution_count": null,
      "metadata": {
        "id": "oNu3cphtODcT"
      },
      "outputs": [],
      "source": [
        "#TODO: write the policy improvment update step\n",
        "def policy_improvement(env, V, gamma=1):\n",
        "    policy = np.zeros([env.observation_space.n, env.action_space.n])\n",
        "    for s in range(env.observation_space.n):\n",
        "        q = q_from_v(env, V, s, gamma)\n",
        "        best_a = None#complete here\n",
        "        policy[s] = None#complete here\n",
        "        \n",
        "    return policy"
      ]
    },
    {
      "cell_type": "code",
      "execution_count": null,
      "metadata": {
        "id": "KT-KcSJMODcT"
      },
      "outputs": [],
      "source": [
        "#Done: write the policy improvment update step\n",
        "def policy_improvement(env, V, gamma=1):\n",
        "    policy = np.zeros([env.observation_space.n, env.action_space.n])\n",
        "    for s in range(env.observation_space.n):\n",
        "        q = q_from_v(env, V, s, gamma)\n",
        "        best_a = np.argwhere(q==np.max(q)).flatten()\n",
        "        policy[s] = np.sum([np.eye(env.action_space.n)[i] for i in best_a], axis=0)/len(best_a)\n",
        "        \n",
        "    return policy"
      ]
    },
    {
      "cell_type": "code",
      "execution_count": null,
      "metadata": {
        "id": "M61ow3VUODcT",
        "outputId": "7cc98db1-1440-4c10-f7dc-4f71bb258892"
      },
      "outputs": [
        {
          "data": {
            "image/png": "[encoded data removed]",
            "text/plain": [
              "<Figure size 432x432 with 1 Axes>"
            ]
          },
          "metadata": {},
          "output_type": "display_data"
        }
      ],
      "source": [
        "# evaluate the policy \n",
        "V = policy_evaluation(env, my_rand_agent.policy)\n",
        "\n",
        "plot_values_lake(V)"
      ]
    },
    {
      "cell_type": "code",
      "execution_count": null,
      "metadata": {
        "id": "F-Qynp7CODcU",
        "outputId": "db0385c1-a332-40e7-ca4d-3c55ff3afa37"
      },
      "outputs": [
        {
          "data": {
            "text/plain": [
              "0.9941411498416601"
            ]
          },
          "execution_count": 26,
          "metadata": {},
          "output_type": "execute_result"
        }
      ],
      "source": [
        "V.sum()"
      ]
    },
    {
      "cell_type": "code",
      "execution_count": null,
      "metadata": {
        "id": "-alws4hzODcU",
        "outputId": "1d51db1a-5207-4f06-f490-9f1a540db87b"
      },
      "outputs": [
        {
          "data": {
            "image/png": "[encoded data removed]",
            "text/plain": [
              "<Figure size 432x432 with 1 Axes>"
            ]
          },
          "metadata": {},
          "output_type": "display_data"
        }
      ],
      "source": [
        "new_policy = policy_improvement(env, V, gamma=1)\n",
        "\n",
        "# evaluate the policy \n",
        "new_V = policy_evaluation(env, new_policy)\n",
        "\n",
        "plot_values_lake(new_V)"
      ]
    },
    {
      "cell_type": "code",
      "execution_count": null,
      "metadata": {
        "id": "_c9vl3cZODcU",
        "outputId": "1a26627d-e278-43d8-f7fe-aa4f2a88a48c"
      },
      "outputs": [
        {
          "data": {
            "text/plain": [
              "7.756096190590658"
            ]
          },
          "execution_count": 28,
          "metadata": {},
          "output_type": "execute_result"
        }
      ],
      "source": [
        "new_V.sum()"
      ]
    },
    {
      "cell_type": "markdown",
      "metadata": {
        "id": "2o1PcaW-ODcV"
      },
      "source": [
        "## 4) Policy iteration "
      ]
    },
    {
      "cell_type": "markdown",
      "metadata": {
        "id": "3Gjn3OlMODcV"
      },
      "source": [
        "$\\pi_0 \\xrightarrow[]{\\text{evaluation}} V_{\\pi_0} \\xrightarrow[]{\\text{improve}}\n",
        "\\pi_1 \\xrightarrow[]{\\text{evaluation}} V_{\\pi_1} \\xrightarrow[]{\\text{improve}}\n",
        "\\pi_2 \\xrightarrow[]{\\text{evaluation}} \\dots \\xrightarrow[]{\\text{improve}}\n",
        "\\pi_* \\xrightarrow[]{\\text{evaluation}} V_*$"
      ]
    },
    {
      "cell_type": "code",
      "execution_count": null,
      "metadata": {
        "id": "lH06UMqvODcV"
      },
      "outputs": [],
      "source": [
        "#TODO: write a condition convergence for the policy iteration\n",
        "def policy_iteration(env, gamma=1, theta=1e-8):\n",
        "    policy = np.ones([env.observation_space.n, env.action_space.n]) / env.action_space.n # init a random policy\n",
        "    while True:\n",
        "        V = policy_evaluation(env, policy, gamma, theta)\n",
        "        new_policy = policy_improvement(env, V)\n",
        "        condition_stop = None # complete here\n",
        "        if condition_stop:\n",
        "            break;\n",
        "    return policy, V"
      ]
    },
    {
      "cell_type": "code",
      "execution_count": null,
      "metadata": {
        "id": "Gvg99D7VODcV"
      },
      "outputs": [],
      "source": [
        "#Done: write a condition convergence for the policy iteration\n",
        "def policy_iteration(env, gamma=1, theta=1e-8):\n",
        "    policy = np.ones([env.observation_space.n, env.action_space.n]) / env.action_space.n\n",
        "    while True:\n",
        "        V = policy_evaluation(env, policy, gamma, theta)\n",
        "        new_policy = policy_improvement(env, V)\n",
        "\n",
        "        if np.max(abs(policy_evaluation(env, policy) - policy_evaluation(env, new_policy))) < theta*1e2:\n",
        "            break;\n",
        "        \n",
        "        policy = copy.copy(new_policy)\n",
        "    return policy, V"
      ]
    },
    {
      "cell_type": "code",
      "execution_count": null,
      "metadata": {
        "id": "sDwyCR9bODcW",
        "outputId": "d8aab35b-2141-4426-dd7c-b8d2a7df0168"
      },
      "outputs": [
        {
          "name": "stdout",
          "output_type": "stream",
          "text": [
            "\n",
            "Optimal Policy (LEFT = 0, DOWN = 1, RIGHT = 2, UP = 3):\n",
            "[[1.   0.   0.   0.  ]\n",
            " [0.   0.   0.   1.  ]\n",
            " [0.   0.   0.   1.  ]\n",
            " [0.   0.   0.   1.  ]\n",
            " [1.   0.   0.   0.  ]\n",
            " [0.25 0.25 0.25 0.25]\n",
            " [0.5  0.   0.5  0.  ]\n",
            " [0.25 0.25 0.25 0.25]\n",
            " [0.   0.   0.   1.  ]\n",
            " [0.   1.   0.   0.  ]\n",
            " [1.   0.   0.   0.  ]\n",
            " [0.25 0.25 0.25 0.25]\n",
            " [0.25 0.25 0.25 0.25]\n",
            " [0.   0.   1.   0.  ]\n",
            " [0.   1.   0.   0.  ]\n",
            " [0.25 0.25 0.25 0.25]] \n",
            "\n"
          ]
        },
        {
          "data": {
            "image/png": "[encoded data removed]",
            "text/plain": [
              "<Figure size 432x432 with 1 Axes>"
            ]
          },
          "metadata": {},
          "output_type": "display_data"
        }
      ],
      "source": [
        "\n",
        "# obtain the optimal policy and optimal state-value function\n",
        "policy_pi, V_pi = policy_iteration(env)\n",
        "\n",
        "# print the optimal policy\n",
        "print(\"\\nOptimal Policy (LEFT = 0, DOWN = 1, RIGHT = 2, UP = 3):\")\n",
        "print(policy_pi,\"\\n\")\n",
        "\n",
        "plot_values_lake(V_pi)"
      ]
    },
    {
      "cell_type": "code",
      "execution_count": null,
      "metadata": {
        "id": "F9OsgMe9ODcW",
        "outputId": "3c29a992-229c-482e-b214-4bd1b5848a49"
      },
      "outputs": [
        {
          "data": {
            "text/plain": [
              "array([[1.  , 0.  , 0.  , 0.  ],\n",
              "       [0.  , 0.  , 0.  , 1.  ],\n",
              "       [0.  , 0.  , 0.  , 1.  ],\n",
              "       [0.  , 0.  , 0.  , 1.  ],\n",
              "       [1.  , 0.  , 0.  , 0.  ],\n",
              "       [0.25, 0.25, 0.25, 0.25],\n",
              "       [0.5 , 0.  , 0.5 , 0.  ],\n",
              "       [0.25, 0.25, 0.25, 0.25],\n",
              "       [0.  , 0.  , 0.  , 1.  ],\n",
              "       [0.  , 1.  , 0.  , 0.  ],\n",
              "       [1.  , 0.  , 0.  , 0.  ],\n",
              "       [0.25, 0.25, 0.25, 0.25],\n",
              "       [0.25, 0.25, 0.25, 0.25],\n",
              "       [0.  , 0.  , 1.  , 0.  ],\n",
              "       [0.  , 1.  , 0.  , 0.  ],\n",
              "       [0.25, 0.25, 0.25, 0.25]])"
            ]
          },
          "execution_count": 32,
          "metadata": {},
          "output_type": "execute_result"
        }
      ],
      "source": [
        "policy_pi"
      ]
    },
    {
      "cell_type": "code",
      "execution_count": null,
      "metadata": {
        "id": "Ynve8ExUODcW",
        "outputId": "9ca48f8c-9a1e-4b49-b50d-b232364db5c0"
      },
      "outputs": [
        {
          "data": {
            "text/plain": [
              "8.88235133583077"
            ]
          },
          "execution_count": 33,
          "metadata": {},
          "output_type": "execute_result"
        }
      ],
      "source": [
        "V_pi.sum()"
      ]
    },
    {
      "cell_type": "markdown",
      "metadata": {
        "id": "nVCEhiXyODcW"
      },
      "source": [
        "## 4) Value iteration "
      ]
    },
    {
      "cell_type": "markdown",
      "metadata": {
        "id": "xjSijEDwODcX"
      },
      "source": [
        "Value iteration consists in directly compute the best policy evaluation.\n",
        "We initialize $V_0$ arbitrarly. And we update it using:\n",
        "\n",
        "$V_{k+1}(s) = \\mathbb{E}_\\pi [r + \\gamma \\max_a Q_k(s_{t+1},a) | S_t = s] $ (2).\n",
        "$\\forall s$, $V_{\\pi^*}(s)$ is a fix point for (2), so if $(V_k)_{k\\in \\mathbb{N}}$ converges, it converges to $V_{\\pi^*}$."
      ]
    },
    {
      "cell_type": "code",
      "execution_count": null,
      "metadata": {
        "id": "9KuZ3ceUODcX"
      },
      "outputs": [],
      "source": [
        "def value_iteration(env, gamma=1, theta=1e-8):\n",
        "    V = np.zeros(env.observation_space.n)\n",
        "    while True:\n",
        "        delta = 0\n",
        "        for s in range(env.observation_space.n):\n",
        "            v = V[s]\n",
        "            V[s] = max(q_from_v(env, V, s, gamma))\n",
        "            delta = max(delta,abs(V[s]-v))\n",
        "        if delta < theta:\n",
        "            break\n",
        "    policy = policy_improvement(env, V, gamma)\n",
        "    return policy, V"
      ]
    },
    {
      "cell_type": "code",
      "execution_count": null,
      "metadata": {
        "id": "g66w4z-QODcX",
        "outputId": "07757d44-d9a1-47a9-c2c9-8aeeb4d4ea0f"
      },
      "outputs": [
        {
          "name": "stdout",
          "output_type": "stream",
          "text": [
            "\n",
            "Optimal Policy (LEFT = 0, DOWN = 1, RIGHT = 2, UP = 3):\n",
            "[[1.   0.   0.   0.  ]\n",
            " [0.   0.   0.   1.  ]\n",
            " [0.   0.   0.   1.  ]\n",
            " [0.   0.   0.   1.  ]\n",
            " [1.   0.   0.   0.  ]\n",
            " [0.25 0.25 0.25 0.25]\n",
            " [0.5  0.   0.5  0.  ]\n",
            " [0.25 0.25 0.25 0.25]\n",
            " [0.   0.   0.   1.  ]\n",
            " [0.   1.   0.   0.  ]\n",
            " [1.   0.   0.   0.  ]\n",
            " [0.25 0.25 0.25 0.25]\n",
            " [0.25 0.25 0.25 0.25]\n",
            " [0.   0.   1.   0.  ]\n",
            " [0.   1.   0.   0.  ]\n",
            " [0.25 0.25 0.25 0.25]] \n",
            "\n"
          ]
        },
        {
          "data": {
            "image/png": "[encoded data removed]",
            "text/plain": [
              "<Figure size 432x432 with 1 Axes>"
            ]
          },
          "metadata": {},
          "output_type": "display_data"
        }
      ],
      "source": [
        "policy_vi, V_vi = value_iteration(env)\n",
        "\n",
        "# print the optimal policy\n",
        "print(\"\\nOptimal Policy (LEFT = 0, DOWN = 1, RIGHT = 2, UP = 3):\")\n",
        "print(policy_vi,\"\\n\")\n",
        "\n",
        "# plot the optimal state-value function\n",
        "plot_values_lake(V_vi)"
      ]
    },
    {
      "cell_type": "code",
      "execution_count": null,
      "metadata": {
        "id": "n3v2e7fmODcY",
        "outputId": "a0c15876-a843-4ad0-e0b5-263055c711ad"
      },
      "outputs": [
        {
          "data": {
            "text/plain": [
              "8.882351322605881"
            ]
          },
          "execution_count": 36,
          "metadata": {},
          "output_type": "execute_result"
        }
      ],
      "source": [
        "V_vi.sum()"
      ]
    },
    {
      "cell_type": "markdown",
      "metadata": {
        "id": "NwwfReIfODcY"
      },
      "source": [
        "## Train agent and Run experiments"
      ]
    },
    {
      "cell_type": "code",
      "execution_count": null,
      "metadata": {
        "id": "ZfP0Bx--ODcY"
      },
      "outputs": [],
      "source": [
        "class MyMDPAgent(Agent):\n",
        "    def __init__(self, env):\n",
        "        super().__init__(env)\n",
        "        self.policy = np.ones([self.env.observation_space.n, self.env.action_space.n]) / self.env.action_space.n\n",
        "    def act(self, state):\n",
        "        action = np.random.choice(np.arange(self.env.action_space.n),p=self.policy[state])\n",
        "        return action\n",
        "    def train(self):\n",
        "        self.policy, _ = value_iteration(self.env)"
      ]
    },
    {
      "cell_type": "code",
      "execution_count": null,
      "metadata": {
        "id": "OiBc20i4ODcY"
      },
      "outputs": [],
      "source": [
        "def run_experiment_episode(env, agent, nb_episode):\n",
        "    rewards = np.zeros(nb_episode)\n",
        "    for i in range(nb_episode):\n",
        "        state = env.reset()\n",
        "        done = False\n",
        "        rews = []\n",
        "        while done is False:\n",
        "            action = agent.act(state)\n",
        "            state, reward, done, info = env.step(action)\n",
        "            rews.append(reward)\n",
        "        rewards[i] = sum(rews)\n",
        "    return rewards"
      ]
    },
    {
      "cell_type": "code",
      "execution_count": null,
      "metadata": {
        "id": "AbabdHCmODcZ",
        "outputId": "86c2255b-e70e-480b-df63-9a4b8f71dfc1"
      },
      "outputs": [
        {
          "data": {
            "text/plain": [
              "Text(0.5, 1.0, 'cumulative reward per episode - rand_agent')"
            ]
          },
          "execution_count": 39,
          "metadata": {},
          "output_type": "execute_result"
        },
        {
          "data": {
            "image/png": "[encoded data removed]",
            "text/plain": [
              "<Figure size 432x288 with 1 Axes>"
            ]
          },
          "metadata": {
            "needs_background": "light"
          },
          "output_type": "display_data"
        }
      ],
      "source": [
        "# compute reward with random agent\n",
        "mdp_agent = MyMDPAgent(env)\n",
        "rewards = run_experiment_episode(env, mdp_agent, 50)\n",
        "plt.plot(rewards, 'o')\n",
        "plt.title('cumulative reward per episode - rand_agent')"
      ]
    },
    {
      "cell_type": "code",
      "execution_count": null,
      "metadata": {
        "scrolled": true,
        "id": "BUxlMhMdODcZ",
        "outputId": "426051d7-4d13-40a9-ab77-275e1e2ea232"
      },
      "outputs": [
        {
          "data": {
            "text/plain": [
              "Text(0.5, 1.0, 'cumulative reward per episode - mdp_agent')"
            ]
          },
          "execution_count": 40,
          "metadata": {},
          "output_type": "execute_result"
        },
        {
          "data": {
            "image/png": "[encoded data removed]",
            "text/plain": [
              "<Figure size 432x288 with 1 Axes>"
            ]
          },
          "metadata": {
            "needs_background": "light"
          },
          "output_type": "display_data"
        }
      ],
      "source": [
        "# compute reward after train the agent\n",
        "mdp_agent.train()\n",
        "rewards = run_experiment_episode(env, mdp_agent, 50)\n",
        "plt.plot(rewards, 'o')\n",
        "plt.title('cumulative reward per episode - mdp_agent')"
      ]
    },
    {
      "cell_type": "code",
      "execution_count": null,
      "metadata": {
        "id": "Sy2Qh-atODcZ",
        "outputId": "d92ee77d-cea4-498b-b268-5edf3ebffa6c"
      },
      "outputs": [
        {
          "name": "stdout",
          "output_type": "stream",
          "text": [
            "reset with state:15, reward:1.0\n"
          ]
        }
      ],
      "source": [
        "time_steps = 100\n",
        "state = env.reset()\n",
        "for _ in range(time_steps):\n",
        "    action = mdp_agent.act(state)\n",
        "    state, reward, done, _ = env.step(action)\n",
        "    if done is True:\n",
        "        print('reset with state:{}, reward:{}'.format(state, reward))\n",
        "        state = env.reset()\n",
        "    env.render()\n",
        "    sleep(0.5)\n",
        "env.close()"
      ]
    },
    {
      "cell_type": "code",
      "execution_count": null,
      "metadata": {
        "id": "KKs6d-o8ODca"
      },
      "outputs": [],
      "source": []
    }
  ],
  "metadata": {
    "kernelspec": {
      "display_name": "Python 3 (ipykernel)",
      "language": "python",
      "name": "python3"
    },
    "language_info": {
      "codemirror_mode": {
        "name": "ipython",
        "version": 3
      },
      "file_extension": ".py",
      "mimetype": "text/x-python",
      "name": "python",
      "nbconvert_exporter": "python",
      "pygments_lexer": "ipython3",
      "version": "3.7.12"
    },
    "colab": {
      "provenance": []
    }
  },
  "nbformat": 4,
  "nbformat_minor": 0
}