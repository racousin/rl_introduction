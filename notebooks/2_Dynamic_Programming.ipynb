{
  "cells": [
    {
      "cell_type": "code",
      "execution_count": 1,
      "metadata": {
        "id": "XOW-UKFUODcB"
      },
      "outputs": [],
      "source": [
        "import warnings\n",
        "warnings.filterwarnings('ignore')"
      ]
    },
    {
      "cell_type": "markdown",
      "metadata": {
        "id": "-SoWByR4ODcD"
      },
      "source": [
        "### Run in collab\n",
        "<a href=\"https://colab.research.google.com/github/racousin/rl_introduction/blob/master/notebooks/2_Dynamic_Programming.ipynb\" target=\"_parent\"><img src=\"https://colab.research.google.com/assets/colab-badge.svg\" alt=\"Open In Colab\"/></a>"
      ]
    },
    {
      "cell_type": "code",
      "execution_count": 2,
      "metadata": {
        "id": "TaM9R9w9ODcE"
      },
      "outputs": [],
      "source": [
        "!apt-get install swig build-essential python-dev python3-dev > /dev/null 2>&1\n",
        "!pip install pygame==2.1.0 > /dev/null 2>&1\n",
        "!pip install gym==0.23.1 > /dev/null 2>&1\n",
        "!pip install pyvirtualdisplay > /dev/null 2>&1\n",
        "!apt-get install -y xvfb python-opengl ffmpeg > /dev/null 2>&1\n",
        "!pip install colabgymrender==1.0.2 > /dev/null 2>&1\n",
        "!pip install imageio==2.4.1 > /dev/null 2>&1\n",
        "!git clone https://github.com/racousin/rl_introduction.git > /dev/null 2>&1"
      ]
    },
    {
      "cell_type": "markdown",
      "metadata": {
        "id": "aLHzFR2DODcG"
      },
      "source": [
        "# 2_Dynamic_Programming"
      ]
    },
    {
      "cell_type": "markdown",
      "metadata": {
        "id": "-lzbjlcdODcG"
      },
      "source": [
        "### Objective\n",
        "Before we go any further into RL. We will compute the best agent when the model is perfectly known (MDP). As example, we will solve the FrozenLake problem.\n",
        "\n",
        "**Complete the TODO steps! Good luck!**"
      ]
    },
    {
      "cell_type": "code",
      "execution_count": 3,
      "metadata": {
        "id": "kS-4aqgZODcH",
        "outputId": "08f36e0f-a5ed-4512-c02e-9f57b909022f",
        "colab": {
          "base_uri": "https://localhost:8080/"
        }
      },
      "outputs": [
        {
          "output_type": "stream",
          "name": "stdout",
          "text": [
            "Imageio: 'ffmpeg-linux64-v3.3.1' was not found on your computer; downloading it now.\n",
            "Try 1. Download from https://github.com/imageio/imageio-binaries/raw/master/ffmpeg/ffmpeg-linux64-v3.3.1 (43.8 MB)\n",
            "Downloading: 8192/45929032 bytes (0.0%)\b\b\b\b\b\b\b\b\b\b\b\b\b\b\b\b\b\b\b\b\b\b\b\b\b\b3497984/45929032 bytes (7.6%)\b\b\b\b\b\b\b\b\b\b\b\b\b\b\b\b\b\b\b\b\b\b\b\b\b\b\b\b\b7192576/45929032 bytes (15.7%)\b\b\b\b\b\b\b\b\b\b\b\b\b\b\b\b\b\b\b\b\b\b\b\b\b\b\b\b\b\b10838016/45929032 bytes (23.6%)\b\b\b\b\b\b\b\b\b\b\b\b\b\b\b\b\b\b\b\b\b\b\b\b\b\b\b\b\b\b\b14671872/45929032 bytes (31.9%)\b\b\b\b\b\b\b\b\b\b\b\b\b\b\b\b\b\b\b\b\b\b\b\b\b\b\b\b\b\b\b18292736/45929032 bytes (39.8%)\b\b\b\b\b\b\b\b\b\b\b\b\b\b\b\b\b\b\b\b\b\b\b\b\b\b\b\b\b\b\b21757952/45929032 bytes (47.4%)\b\b\b\b\b\b\b\b\b\b\b\b\b\b\b\b\b\b\b\b\b\b\b\b\b\b\b\b\b\b\b25706496/45929032 bytes (56.0%)\b\b\b\b\b\b\b\b\b\b\b\b\b\b\b\b\b\b\b\b\b\b\b\b\b\b\b\b\b\b\b29499392/45929032 bytes (64.2%)\b\b\b\b\b\b\b\b\b\b\b\b\b\b\b\b\b\b\b\b\b\b\b\b\b\b\b\b\b\b\b33103872/45929032 bytes (72.1%)\b\b\b\b\b\b\b\b\b\b\b\b\b\b\b\b\b\b\b\b\b\b\b\b\b\b\b\b\b\b\b36831232/45929032 bytes (80.2%)\b\b\b\b\b\b\b\b\b\b\b\b\b\b\b\b\b\b\b\b\b\b\b\b\b\b\b\b\b\b\b40599552/45929032 bytes (88.4%)\b\b\b\b\b\b\b\b\b\b\b\b\b\b\b\b\b\b\b\b\b\b\b\b\b\b\b\b\b\b\b44138496/45929032 bytes (96.1%)\b\b\b\b\b\b\b\b\b\b\b\b\b\b\b\b\b\b\b\b\b\b\b\b\b\b\b\b\b\b\b45929032/45929032 bytes (100.0%)\n",
            "  Done\n",
            "File saved as /root/.imageio/ffmpeg/ffmpeg-linux64-v3.3.1.\n"
          ]
        }
      ],
      "source": [
        "import numpy as np\n",
        "import gym\n",
        "import copy\n",
        "import matplotlib.pyplot as plt\n",
        "import seaborn as sns\n",
        "from time import sleep\n",
        "from rl_introduction.rl_introduction.tools import Agent, plot_values_lake\n",
        "from rl_introduction.rl_introduction.render_colab import gym_render\n",
        "env = gym.make('FrozenLake-v1')"
      ]
    },
    {
      "cell_type": "markdown",
      "metadata": {
        "id": "sS3uUIZNODcH"
      },
      "source": [
        "### FrozenLake- environment\n",
        "The agent controls the movement of a character in a grid world. Some tiles of the grid are walkable, and others lead to the agent falling into the water. Additionally, the movement direction of the agent is uncertain and only partially depends on the chosen direction. The agent is rewarded for finding a walkable path to a goal tile."
      ]
    },
    {
      "cell_type": "markdown",
      "metadata": {
        "id": "Cdz5BJh4ODcH"
      },
      "source": [
        "The surface is described using a grid like the following:\n",
        "    \n",
        "SFFF       (S: starting point, safe)\n",
        "\n",
        "FHFH       (F: frozen surface, safe)\n",
        "\n",
        "FFFH       (H: hole, fall to your doom)\n",
        "\n",
        "HFFG       (G: goal, where the frisbee is located)"
      ]
    },
    {
      "cell_type": "code",
      "source": [
        "#TODO: Get the state, action size"
      ],
      "metadata": {
        "id": "wy0ert7HRySx"
      },
      "execution_count": null,
      "outputs": []
    },
    {
      "cell_type": "code",
      "source": [
        "#Done: Get the state, action size\n",
        "print(f\"state size {env.observation_space.n}\")\n",
        "print(f\"action size {env.action_space}\")"
      ],
      "metadata": {
        "id": "bA4coAdYR7_J",
        "outputId": "735a3cbf-1628-4bab-98ad-d84847b1c65b",
        "colab": {
          "base_uri": "https://localhost:8080/"
        }
      },
      "execution_count": 4,
      "outputs": [
        {
          "output_type": "stream",
          "name": "stdout",
          "text": [
            "state size 16\n",
            "action size Discrete(4)\n"
          ]
        }
      ]
    },
    {
      "cell_type": "code",
      "source": [
        "def run_experiment_episode(env, agent, nb_episode):\n",
        "    rewards = np.zeros(nb_episode)\n",
        "    for i in range(nb_episode):\n",
        "        state = env.reset()\n",
        "        done = False\n",
        "        rews = []\n",
        "        while done is False:\n",
        "            action = agent.act(state)\n",
        "            state, reward, done, info = env.step(action)\n",
        "            rews.append(reward)\n",
        "        rewards[i] = sum(rews)\n",
        "    return rewards"
      ],
      "metadata": {
        "id": "GlUTaaZsUfkg"
      },
      "execution_count": null,
      "outputs": []
    },
    {
      "cell_type": "code",
      "execution_count": 6,
      "metadata": {
        "scrolled": true,
        "id": "EOMmNoU2ODcK",
        "outputId": "f0f585a3-3cf0-48e0-ac87-5eaeebddeb83",
        "colab": {
          "base_uri": "https://localhost:8080/",
          "height": 349
        }
      },
      "outputs": [
        {
          "output_type": "stream",
          "name": "stderr",
          "text": [
            "WARNING:py.warnings:/usr/local/lib/python3.8/dist-packages/moviepy/video/io/ffmpeg_reader.py:145: DeprecationWarning: The binary mode of fromstring is deprecated, as it behaves surprisingly on unicode inputs. Use frombuffer instead\n",
            "  result = np.fromstring(s, dtype='uint8')\n",
            "\n"
          ]
        },
        {
          "output_type": "display_data",
          "data": {
            "text/plain": [
              "<IPython.core.display.Video object>"
            ],
            "text/html": [
              "<video controls  >\n",
              " <source src=\"data:video/mp4;base64,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\" type=\"video/mp4\">\n",
              " Your browser does not support the video tag.\n",
              " </video>"
            ]
          },
          "metadata": {}
        }
      ],
      "source": [
        "gym_render(env_name='FrozenLake-v1', directory='./video', agent = 'random', slow_coeff=10)"
      ]
    },
    {
      "cell_type": "markdown",
      "metadata": {
        "id": "jy2eLiUlODcK"
      },
      "source": [
        "## 1) env transition model"
      ]
    },
    {
      "cell_type": "markdown",
      "metadata": {
        "id": "ov-F5CvSODcK"
      },
      "source": [
        "We are access of the transition model, $P(S_{t+1}=s'|S_t = s, A_t=a)$ and the associated reward using <b>env.P[s][a]</b>. For example, the probabilities of each possible reward and next state, if the agent is in state 1 of the gridworld and decides to go left."
      ]
    },
    {
      "cell_type": "code",
      "execution_count": null,
      "metadata": {
        "id": "teqGBzSHODcL"
      },
      "outputs": [],
      "source": [
        "state = 1\n",
        "action = 0 #left"
      ]
    },
    {
      "cell_type": "code",
      "execution_count": null,
      "metadata": {
        "id": "Q0_fiyS1ODcL",
        "outputId": "0ab2dc96-2642-4129-864b-e797318f34f8"
      },
      "outputs": [
        {
          "data": {
            "text/plain": [
              "[(0.3333333333333333, 1, 0.0, False),\n",
              " (0.3333333333333333, 0, 0.0, False),\n",
              " (0.3333333333333333, 5, 0.0, True)]"
            ]
          },
          "execution_count": 10,
          "metadata": {},
          "output_type": "execute_result"
        }
      ],
      "source": [
        "# P(s'|state,action), s', reward, done\n",
        "env.P[state][action]"
      ]
    },
    {
      "cell_type": "markdown",
      "metadata": {
        "id": "ZroahN5wODcL"
      },
      "source": [
        "We see here that there is a $1/3$ probability falling in the hole in state 5 (and finish the episode)."
      ]
    },
    {
      "cell_type": "markdown",
      "metadata": {
        "id": "8RwnG7mNODcM"
      },
      "source": [
        "To resume, we have \n",
        "\n",
        "**States:** $S = \\{0,...,15\\}$\n",
        "\n",
        "**Actions:** $A = \\{0,1,2,3\\}$\n",
        "\n",
        "**Transition model:** $P_{ss'}^a = \\mathbb{P} [S_{t+1} = s' \\vert S_t = s, A_t = a]$ -> env.P[state][action]\n",
        "\n",
        "**Reward function:**\n",
        "$R(s, a) = \\mathbb{E} [R_{t+1} \\vert S_t = s, A_t = a]$\n",
        "\n",
        "$\\forall a \\in {1,2,3} : R(14,a) = 1/3$\n",
        "    \n",
        "$R(14,0) = 0$\n",
        "\n",
        "$\\forall a \\in A \\forall s \\in \\{0,...,13\\} : R(s,a) = 0$"
      ]
    },
    {
      "cell_type": "markdown",
      "metadata": {
        "id": "i7QNaybVODcM"
      },
      "source": [
        "## 2) agent policy\n",
        "We add to our agent its <b>policy</b> $\\pi(a|s)$."
      ]
    },
    {
      "cell_type": "code",
      "execution_count": null,
      "metadata": {
        "id": "FQudtciEODcM"
      },
      "outputs": [],
      "source": [
        "#TODO: write Random Policy (ex uniformly random policy)\n",
        "class MyRandomAgent(Agent):\n",
        "    def __init__(self, env):\n",
        "        super().__init__(env)\n",
        "        self.policy = None#complete here\n",
        "    def act(self, state):\n",
        "        action = np.random.choice(np.arange(self.env.action_space.n),p=self.policy[state])\n",
        "        return action"
      ]
    },
    {
      "cell_type": "code",
      "execution_count": 9,
      "metadata": {
        "id": "xBP-mKdaODcN"
      },
      "outputs": [],
      "source": [
        "#Done: write an uniformly random policy\n",
        "class MyRandomAgent(Agent):\n",
        "    def __init__(self, env):\n",
        "        super().__init__(env)\n",
        "        self.policy = np.ones([self.env.observation_space.n, self.env.action_space.n]) / self.env.action_space.n\n",
        "    def act(self, state):\n",
        "        action = np.random.choice(np.arange(self.env.action_space.n),p=self.policy[state])\n",
        "        return action"
      ]
    },
    {
      "cell_type": "code",
      "execution_count": null,
      "metadata": {
        "id": "xFINBom8ODcN",
        "outputId": "00051acf-1603-479f-c1f0-cdacf194b6ce"
      },
      "outputs": [
        {
          "data": {
            "text/plain": [
              "array([[0.25, 0.25, 0.25, 0.25],\n",
              "       [0.25, 0.25, 0.25, 0.25],\n",
              "       [0.25, 0.25, 0.25, 0.25],\n",
              "       [0.25, 0.25, 0.25, 0.25],\n",
              "       [0.25, 0.25, 0.25, 0.25],\n",
              "       [0.25, 0.25, 0.25, 0.25],\n",
              "       [0.25, 0.25, 0.25, 0.25],\n",
              "       [0.25, 0.25, 0.25, 0.25],\n",
              "       [0.25, 0.25, 0.25, 0.25],\n",
              "       [0.25, 0.25, 0.25, 0.25],\n",
              "       [0.25, 0.25, 0.25, 0.25],\n",
              "       [0.25, 0.25, 0.25, 0.25],\n",
              "       [0.25, 0.25, 0.25, 0.25],\n",
              "       [0.25, 0.25, 0.25, 0.25],\n",
              "       [0.25, 0.25, 0.25, 0.25],\n",
              "       [0.25, 0.25, 0.25, 0.25]])"
            ]
          },
          "execution_count": 13,
          "metadata": {},
          "output_type": "execute_result"
        }
      ],
      "source": [
        "agent = MyRandomAgent(env)\n",
        "agent.policy"
      ]
    },
    {
      "cell_type": "code",
      "source": [
        "def run_experiment_episode(env, agent, nb_episode):\n",
        "    rewards = np.zeros(nb_episode)\n",
        "    for i in range(nb_episode):\n",
        "        state = env.reset()\n",
        "        done = False\n",
        "        rews = []\n",
        "        while done is False:\n",
        "            action = agent.act(state)\n",
        "            state, reward, done, info = env.step(action)\n",
        "            rews.append(reward)\n",
        "        rewards[i] = sum(rews)\n",
        "    return rewards"
      ],
      "metadata": {
        "id": "Z3kbyqQDVLXF"
      },
      "execution_count": 11,
      "outputs": []
    },
    {
      "cell_type": "code",
      "source": [
        "#TODO: eval Random Policy with run_experiment_episode"
      ],
      "metadata": {
        "id": "5fuZB3IlWGAT"
      },
      "execution_count": null,
      "outputs": []
    },
    {
      "cell_type": "code",
      "source": [
        "#Done: eval Random Policy with run_experiment_episode\n",
        "mdp_agent = MyRandomAgent(env)\n",
        "rewards = run_experiment_episode(env, mdp_agent, 50)\n",
        "plt.plot(rewards, 'o')\n",
        "plt.title('cumulative reward per episode - rand_agent')"
      ],
      "metadata": {
        "id": "vWjpHtkrWZr3",
        "outputId": "636db6a8-a870-4c63-d838-98a723eeb769",
        "colab": {
          "base_uri": "https://localhost:8080/",
          "height": 298
        }
      },
      "execution_count": 12,
      "outputs": [
        {
          "output_type": "execute_result",
          "data": {
            "text/plain": [
              "Text(0.5, 1.0, 'cumulative reward per episode - rand_agent')"
            ]
          },
          "metadata": {},
          "execution_count": 12
        },
        {
          "output_type": "display_data",
          "data": {
            "text/plain": [
              "<Figure size 432x288 with 1 Axes>"
            ],
            "image/png": "[encoded data removed]"
          },
          "metadata": {
            "needs_background": "light"
          }
        }
      ]
    },
    {
      "cell_type": "markdown",
      "metadata": {
        "id": "W9y_8brHODcO"
      },
      "source": [
        "## 2) Policy Evaluation"
      ]
    },
    {
      "cell_type": "markdown",
      "metadata": {
        "id": "DhchO4xlODcO"
      },
      "source": [
        "The Value Function $V_\\pi(s)$ is the expected return in state $s$, according to $\\pi$.\n",
        "$V_\\pi(s) \n",
        "= \\mathbb{E}_\\pi [r + \\gamma V_\\pi(s_{t+1}) | S_t = s]\n",
        "= \\sum_a \\pi(a \\vert s) \\sum_{s', r} P(s', r \\vert s, a) (r + \\gamma V_\\pi(s'))$\n",
        "\n",
        "We have all the information to resolve linear system for $V_\\pi$:\n",
        "\\begin{equation}\n",
        "V(s_0) =  \\sum_a \\pi(a \\vert s) \\sum_{s', r} P(s', r \\vert s_0, a) (r + \\gamma V(s'))\\\\\n",
        "V(s_1) =  \\sum_a \\pi(a \\vert s) \\sum_{s', r} P(s', r \\vert s_1, a) (r + \\gamma V(s'))\\\\\n",
        "...\\\\\n",
        "V(s_{16}) = \\sum_a \\pi(a \\vert s) \\sum_{s', r} P(s', r \\vert s_{16}, a) (r + \\gamma V(s'))\n",
        "\\end{equation}\n",
        "Even for 16 states it could be complicated. "
      ]
    },
    {
      "cell_type": "markdown",
      "metadata": {
        "id": "mZVgXIIAODcP"
      },
      "source": [
        "So we use an iterative approach.\n",
        "\n",
        "\n",
        "We initialize $V_0$ arbitrarly. And we update it using:\n",
        "\n",
        "\n",
        "$V_{k+1}(s) = \\mathbb{E}_\\pi [r + \\gamma V_k(s_{t+1}) | S_t = s] $ (1).\n",
        "\n",
        "$\\forall s$, $V_\\pi(s)$ is a fix point for (1), so if $(V_k)_{k\\in \\mathbb{N}}$ converges, it converges to $V_\\pi$."
      ]
    },
    {
      "cell_type": "code",
      "execution_count": 13,
      "metadata": {
        "id": "-LxWowp4ODcP"
      },
      "outputs": [],
      "source": [
        "#TODO: write the value evaluation from Policy, reward and transition model\n",
        "def policy_evaluation(env, policy, gamma=1, theta=1e-8):\n",
        "    V = np.zeros(env.observation_space.n) # initialization\n",
        "    #complete here\n",
        "    return V"
      ]
    },
    {
      "cell_type": "code",
      "execution_count": 14,
      "metadata": {
        "id": "rt3EAG0WODcP"
      },
      "outputs": [],
      "source": [
        "#Done: write the value evaluation from Policy, reward and transition model\n",
        "def policy_evaluation(env, policy, gamma=1, theta=1e-8):\n",
        "    V = np.zeros(env.observation_space.n) # initialization\n",
        "    while True:\n",
        "        delta = 0\n",
        "        for s in range(env.observation_space.n):\n",
        "            Vs = 0\n",
        "            for a, action_prob in enumerate(policy[s]):\n",
        "                # action_prob is $\\pi(a/s)$\n",
        "                for prob, next_state, reward, done in env.P[s][a]:\n",
        "                    # prob is $P(next_state, reward/s,a)$\n",
        "                    Vs += action_prob * prob * (reward + gamma * V[next_state])\n",
        "            delta = max(delta, np.abs(V[s]-Vs))\n",
        "            V[s] = Vs\n",
        "        if delta < theta: # condition of convergence\n",
        "            break\n",
        "    return V"
      ]
    },
    {
      "cell_type": "code",
      "execution_count": 15,
      "metadata": {
        "id": "WiGUNAfqODcQ"
      },
      "outputs": [],
      "source": [
        "my_rand_agent = MyRandomAgent(env)"
      ]
    },
    {
      "cell_type": "code",
      "execution_count": 16,
      "metadata": {
        "id": "4O0zdN54ODcQ",
        "outputId": "45a06500-b64e-4f51-ab18-f1e8d363a442",
        "colab": {
          "base_uri": "https://localhost:8080/",
          "height": 373
        }
      },
      "outputs": [
        {
          "output_type": "display_data",
          "data": {
            "text/plain": [
              "<Figure size 432x432 with 1 Axes>"
            ],
            "image/png": "[encoded data removed]"
          },
          "metadata": {}
        }
      ],
      "source": [
        "# evaluate the policy \n",
        "V = policy_evaluation(env, my_rand_agent.policy)\n",
        "\n",
        "plot_values_lake(V)"
      ]
    },
    {
      "cell_type": "code",
      "execution_count": null,
      "metadata": {
        "id": "gbeiCmafODcQ",
        "outputId": "e1d7469b-6794-4fad-8870-1431c5891a01"
      },
      "outputs": [
        {
          "data": {
            "text/plain": [
              "0.9941411498416601"
            ]
          },
          "execution_count": 19,
          "metadata": {},
          "output_type": "execute_result"
        }
      ],
      "source": [
        "V.sum()"
      ]
    },
    {
      "cell_type": "markdown",
      "metadata": {
        "id": "o3P9aNi-ODcR"
      },
      "source": [
        "Knowing the transition $\\mathbb{P}(S_{t+1},R_{t+1}|S_t,A_t)$, it is natural to compute the q function from value function."
      ]
    },
    {
      "cell_type": "markdown",
      "metadata": {
        "id": "W85hyLdpODcR"
      },
      "source": [
        "\\begin{aligned}\n",
        "Q(s, a) \n",
        "&= \\mathbb{E} [R_{t+1} + \\gamma V(S_{t+1}) \\mid S_t = s, A_t = a] \\\\\n",
        "&= \\sum_{s'} [r_{t+1} + \\gamma V(s')] P(S_{t+1}=s'|S_t=s,A_t=a)\n",
        "\\end{aligned}"
      ]
    },
    {
      "cell_type": "code",
      "execution_count": null,
      "metadata": {
        "id": "ItTE1INhODcR"
      },
      "outputs": [],
      "source": [
        "#TODO: write the q evaluation from the value function, reward and transition model\n",
        "def q_from_v(env, V, s, gamma=1):\n",
        "    #complete here \n",
        "    return q"
      ]
    },
    {
      "cell_type": "code",
      "execution_count": 20,
      "metadata": {
        "id": "DZUDZ0NLODcS"
      },
      "outputs": [],
      "source": [
        "#Done: write the q evaluation from the value function, reward and transition model\n",
        "def q_from_v(env, V, s, gamma=1):\n",
        "    q = np.zeros(env.action_space.n)\n",
        "    for a in range(env.action_space.n):\n",
        "        for prob, next_state, reward, done in env.P[s][a]:\n",
        "            q[a] += prob * (reward + gamma * V[next_state])\n",
        "    return q"
      ]
    },
    {
      "cell_type": "code",
      "execution_count": 21,
      "metadata": {
        "id": "VCF3INfRODcS",
        "outputId": "1042e209-ccee-41ea-ed42-e85e5af9af76",
        "colab": {
          "base_uri": "https://localhost:8080/"
        }
      },
      "outputs": [
        {
          "output_type": "stream",
          "name": "stdout",
          "text": [
            "Action-Value Function:\n",
            "[[0.0147094  0.01393978 0.01393978 0.01317015]\n",
            " [0.00852356 0.01163091 0.0108613  0.01550788]\n",
            " [0.02444514 0.02095298 0.02406033 0.01435346]\n",
            " [0.01047649 0.01047649 0.00698432 0.01396865]\n",
            " [0.02166487 0.01701828 0.01624865 0.01006281]\n",
            " [0.         0.         0.         0.        ]\n",
            " [0.05433538 0.04735105 0.05433538 0.00698432]\n",
            " [0.         0.         0.         0.        ]\n",
            " [0.01701828 0.04099204 0.03480619 0.04640826]\n",
            " [0.07020885 0.11755991 0.10595784 0.05895312]\n",
            " [0.18940421 0.17582037 0.16001424 0.04297382]\n",
            " [0.         0.         0.         0.        ]\n",
            " [0.         0.         0.         0.        ]\n",
            " [0.08799677 0.20503718 0.23442716 0.17582037]\n",
            " [0.25238823 0.53837051 0.52711478 0.43929118]\n",
            " [0.         0.         0.         0.        ]]\n"
          ]
        }
      ],
      "source": [
        "Q = np.zeros([env.observation_space.n, env.action_space.n])\n",
        "for s in range(env.observation_space.n):\n",
        "    Q[s] = q_from_v(env, V, s)\n",
        "print(\"Action-Value Function:\")\n",
        "print(Q)"
      ]
    },
    {
      "cell_type": "markdown",
      "metadata": {
        "id": "K90-Z5BrODcS"
      },
      "source": [
        "## 3) Policy Improvement"
      ]
    },
    {
      "cell_type": "markdown",
      "metadata": {
        "id": "wNeZXB61ODcT"
      },
      "source": [
        "With the q function, we update our policy from $\\pi$ to $\\pi'$ by acting greedy. That means $\\pi'(.|s) = \\arg\\max_a Q_\\pi(a,s)$.\n",
        "\n",
        "This improvment is given by: $\\forall s, V_\\pi(s) = \\sum_a\\pi(a|s)Q_\\pi(s,a) \\leq \\max_a Q_\\pi(s,a) = V_{\\pi'}(s)$"
      ]
    },
    {
      "cell_type": "code",
      "source": [
        "#TODO: choose the best action in a state s from Q, What the best direction/action on state 1?\n",
        "def best_action_from_Q(env, Q, s):\n",
        "  # Complete\n",
        "  return best_a\n",
        "print(f\"best direction/action on state 1: {best_action_from_Q(env, Q, 1)}\")"
      ],
      "metadata": {
        "id": "OUlr9Js_ZYi8"
      },
      "execution_count": null,
      "outputs": []
    },
    {
      "cell_type": "code",
      "source": [
        "#Done: choose the best action in a state s from Q, What the best direction/action on state 1\n",
        "def best_action_from_Q(env, Q, s):\n",
        "  q = Q[s]\n",
        "  best_a = np.argwhere(q==np.max(q)).flatten()\n",
        "  return best_a\n",
        "print(f\"best direction/action on state 1: {best_action_from_Q(env, Q, 1)}\")"
      ],
      "metadata": {
        "id": "LMlwyLFjX12Z",
        "outputId": "81a1dc51-d698-4905-aaf7-d0c8ae87918e",
        "colab": {
          "base_uri": "https://localhost:8080/"
        }
      },
      "execution_count": 22,
      "outputs": [
        {
          "output_type": "stream",
          "name": "stdout",
          "text": [
            "best direction/action on state 1: [3]\n"
          ]
        }
      ]
    },
    {
      "cell_type": "code",
      "execution_count": null,
      "metadata": {
        "id": "oNu3cphtODcT"
      },
      "outputs": [],
      "source": [
        "#TODO: write the policy improvment update step\n",
        "def policy_improvement(env, V, gamma=1):\n",
        "    policy = np.zeros([env.observation_space.n, env.action_space.n])\n",
        "    #complete here    \n",
        "    return policy"
      ]
    },
    {
      "cell_type": "code",
      "execution_count": 24,
      "metadata": {
        "id": "KT-KcSJMODcT"
      },
      "outputs": [],
      "source": [
        "#Done: write the policy improvment update step\n",
        "def policy_improvement(env, V, gamma=1):\n",
        "    policy = np.zeros([env.observation_space.n, env.action_space.n])\n",
        "    for s in range(env.observation_space.n):\n",
        "        q = q_from_v(env, V, s, gamma)\n",
        "        best_a = np.argwhere(q==np.max(q)).flatten()\n",
        "        policy[s] = np.sum([np.eye(env.action_space.n)[i] for i in best_a], axis=0)/len(best_a)\n",
        "    return policy"
      ]
    },
    {
      "cell_type": "code",
      "execution_count": 25,
      "metadata": {
        "id": "M61ow3VUODcT",
        "outputId": "004a5ead-ea5f-4ceb-cab0-5149cc0651f3",
        "colab": {
          "base_uri": "https://localhost:8080/",
          "height": 373
        }
      },
      "outputs": [
        {
          "output_type": "display_data",
          "data": {
            "text/plain": [
              "<Figure size 432x432 with 1 Axes>"
            ],
            "image/png": "[encoded data removed]"
          },
          "metadata": {}
        }
      ],
      "source": [
        "# evaluate the policy \n",
        "V = policy_evaluation(env, my_rand_agent.policy)\n",
        "\n",
        "plot_values_lake(V)"
      ]
    },
    {
      "cell_type": "code",
      "execution_count": 26,
      "metadata": {
        "id": "F-Qynp7CODcU",
        "outputId": "5bf7a127-bd8d-4b9c-d183-772a53ee36c1",
        "colab": {
          "base_uri": "https://localhost:8080/"
        }
      },
      "outputs": [
        {
          "output_type": "execute_result",
          "data": {
            "text/plain": [
              "0.9941411498416601"
            ]
          },
          "metadata": {},
          "execution_count": 26
        }
      ],
      "source": [
        "V.sum()"
      ]
    },
    {
      "cell_type": "code",
      "source": [
        "#TODO: Improve and evaluate the policy"
      ],
      "metadata": {
        "id": "HnhktSMLZnun"
      },
      "execution_count": null,
      "outputs": []
    },
    {
      "cell_type": "code",
      "source": [
        "#Done: Improve and evaluate the policy\n",
        "new_policy = policy_improvement(env, V, gamma=1)\n",
        "\n",
        "# evaluate the policy \n",
        "new_V = policy_evaluation(env, new_policy)\n",
        "\n",
        "plot_values_lake(new_V)"
      ],
      "metadata": {
        "id": "5nNz2aleZuzG",
        "outputId": "53d9854b-0f0f-4dde-a790-1ec7fd7201aa",
        "colab": {
          "base_uri": "https://localhost:8080/",
          "height": 373
        }
      },
      "execution_count": 27,
      "outputs": [
        {
          "output_type": "display_data",
          "data": {
            "text/plain": [
              "<Figure size 432x432 with 1 Axes>"
            ],
            "image/png": "[encoded data removed]"
          },
          "metadata": {}
        }
      ]
    },
    {
      "cell_type": "code",
      "execution_count": 28,
      "metadata": {
        "id": "_c9vl3cZODcU",
        "outputId": "6bda3729-962d-4e83-99ed-c295addff79a",
        "colab": {
          "base_uri": "https://localhost:8080/"
        }
      },
      "outputs": [
        {
          "output_type": "execute_result",
          "data": {
            "text/plain": [
              "7.756096190590658"
            ]
          },
          "metadata": {},
          "execution_count": 28
        }
      ],
      "source": [
        "new_V.sum()"
      ]
    },
    {
      "cell_type": "markdown",
      "metadata": {
        "id": "2o1PcaW-ODcV"
      },
      "source": [
        "## 4) Policy iteration "
      ]
    },
    {
      "cell_type": "markdown",
      "metadata": {
        "id": "3Gjn3OlMODcV"
      },
      "source": [
        "$\\pi_0 \\xrightarrow[]{\\text{evaluation}} V_{\\pi_0} \\xrightarrow[]{\\text{improve}}\n",
        "\\pi_1 \\xrightarrow[]{\\text{evaluation}} V_{\\pi_1} \\xrightarrow[]{\\text{improve}}\n",
        "\\pi_2 \\xrightarrow[]{\\text{evaluation}} \\dots \\xrightarrow[]{\\text{improve}}\n",
        "\\pi_* \\xrightarrow[]{\\text{evaluation}} V_*$"
      ]
    },
    {
      "cell_type": "code",
      "execution_count": null,
      "metadata": {
        "id": "lH06UMqvODcV"
      },
      "outputs": [],
      "source": [
        "#TODO: write the policy iteration\n",
        "def policy_iteration(env):\n",
        "    policy = np.ones([env.observation_space.n, env.action_space.n]) / env.action_space.n # init a random policy\n",
        "    # complete here\n",
        "    return policy, V"
      ]
    },
    {
      "cell_type": "code",
      "execution_count": 30,
      "metadata": {
        "id": "Gvg99D7VODcV"
      },
      "outputs": [],
      "source": [
        "#Done: write the policy iteration\n",
        "def policy_iteration(env, gamma=1, theta=1e-8):\n",
        "    policy = np.ones([env.observation_space.n, env.action_space.n]) / env.action_space.n\n",
        "    while True:\n",
        "        V = policy_evaluation(env, policy, gamma, theta)\n",
        "        plot_values_lake(V)\n",
        "        new_policy = policy_improvement(env, V)\n",
        "        if np.max(abs(policy_evaluation(env, policy) - policy_evaluation(env, new_policy))) < theta*1e2:\n",
        "            break;\n",
        "        policy = copy.copy(new_policy)\n",
        "    plot_values_lake(V)\n",
        "    return policy, V"
      ]
    },
    {
      "cell_type": "code",
      "execution_count": 31,
      "metadata": {
        "id": "sDwyCR9bODcW",
        "outputId": "e906bf5a-f635-4120-c695-2e7373ce59e6",
        "colab": {
          "base_uri": "https://localhost:8080/",
          "height": 1000
        }
      },
      "outputs": [
        {
          "output_type": "display_data",
          "data": {
            "text/plain": [
              "<Figure size 432x432 with 1 Axes>"
            ],
            "image/png": "[encoded data removed]"
          },
          "metadata": {}
        },
        {
          "output_type": "display_data",
          "data": {
            "text/plain": [
              "<Figure size 432x432 with 1 Axes>"
            ],
            "image/png": "[encoded data removed]"
          },
          "metadata": {}
        },
        {
          "output_type": "display_data",
          "data": {
            "text/plain": [
              "<Figure size 432x432 with 1 Axes>"
            ],
            "image/png": "[encoded data removed]"
          },
          "metadata": {}
        },
        {
          "output_type": "display_data",
          "data": {
            "text/plain": [
              "<Figure size 432x432 with 1 Axes>"
            ],
            "image/png": "[encoded data removed]"
          },
          "metadata": {}
        },
        {
          "output_type": "stream",
          "name": "stdout",
          "text": [
            "\n",
            "Optimal Policy (LEFT = 0, DOWN = 1, RIGHT = 2, UP = 3):\n",
            "[[1.   0.   0.   0.  ]\n",
            " [0.   0.   0.   1.  ]\n",
            " [0.   0.   0.   1.  ]\n",
            " [0.   0.   0.   1.  ]\n",
            " [1.   0.   0.   0.  ]\n",
            " [0.25 0.25 0.25 0.25]\n",
            " [0.5  0.   0.5  0.  ]\n",
            " [0.25 0.25 0.25 0.25]\n",
            " [0.   0.   0.   1.  ]\n",
            " [0.   1.   0.   0.  ]\n",
            " [1.   0.   0.   0.  ]\n",
            " [0.25 0.25 0.25 0.25]\n",
            " [0.25 0.25 0.25 0.25]\n",
            " [0.   0.   1.   0.  ]\n",
            " [0.   1.   0.   0.  ]\n",
            " [0.25 0.25 0.25 0.25]] \n",
            "\n"
          ]
        },
        {
          "output_type": "display_data",
          "data": {
            "text/plain": [
              "<Figure size 432x432 with 1 Axes>"
            ],
            "image/png": "[encoded data removed]"
          },
          "metadata": {}
        }
      ],
      "source": [
        "\n",
        "# obtain the optimal policy and optimal state-value function\n",
        "policy_pi, V_pi = policy_iteration(env)\n",
        "\n",
        "# print the optimal policy\n",
        "print(\"\\nOptimal Policy (LEFT = 0, DOWN = 1, RIGHT = 2, UP = 3):\")\n",
        "print(policy_pi,\"\\n\")\n",
        "\n",
        "plot_values_lake(V_pi)"
      ]
    },
    {
      "cell_type": "code",
      "execution_count": 32,
      "metadata": {
        "id": "F9OsgMe9ODcW",
        "outputId": "2b194227-6159-4001-edae-b59e547d57be",
        "colab": {
          "base_uri": "https://localhost:8080/"
        }
      },
      "outputs": [
        {
          "output_type": "execute_result",
          "data": {
            "text/plain": [
              "array([[1.  , 0.  , 0.  , 0.  ],\n",
              "       [0.  , 0.  , 0.  , 1.  ],\n",
              "       [0.  , 0.  , 0.  , 1.  ],\n",
              "       [0.  , 0.  , 0.  , 1.  ],\n",
              "       [1.  , 0.  , 0.  , 0.  ],\n",
              "       [0.25, 0.25, 0.25, 0.25],\n",
              "       [0.5 , 0.  , 0.5 , 0.  ],\n",
              "       [0.25, 0.25, 0.25, 0.25],\n",
              "       [0.  , 0.  , 0.  , 1.  ],\n",
              "       [0.  , 1.  , 0.  , 0.  ],\n",
              "       [1.  , 0.  , 0.  , 0.  ],\n",
              "       [0.25, 0.25, 0.25, 0.25],\n",
              "       [0.25, 0.25, 0.25, 0.25],\n",
              "       [0.  , 0.  , 1.  , 0.  ],\n",
              "       [0.  , 1.  , 0.  , 0.  ],\n",
              "       [0.25, 0.25, 0.25, 0.25]])"
            ]
          },
          "metadata": {},
          "execution_count": 32
        }
      ],
      "source": [
        "policy_pi"
      ]
    },
    {
      "cell_type": "code",
      "execution_count": null,
      "metadata": {
        "id": "Ynve8ExUODcW",
        "outputId": "9ca48f8c-9a1e-4b49-b50d-b232364db5c0"
      },
      "outputs": [
        {
          "data": {
            "text/plain": [
              "8.88235133583077"
            ]
          },
          "execution_count": 33,
          "metadata": {},
          "output_type": "execute_result"
        }
      ],
      "source": [
        "V_pi.sum()"
      ]
    },
    {
      "cell_type": "markdown",
      "metadata": {
        "id": "nVCEhiXyODcW"
      },
      "source": [
        "## 4) Value iteration "
      ]
    },
    {
      "cell_type": "markdown",
      "metadata": {
        "id": "xjSijEDwODcX"
      },
      "source": [
        "Value iteration consists in directly compute the best policy evaluation.\n",
        "We initialize $V_0$ arbitrarly. And we update it using:\n",
        "\n",
        "$V_{k+1}(s) = \\mathbb{E}_\\pi [r + \\gamma \\max_a Q_k(s_{t+1},a) | S_t = s] $ (2).\n",
        "$\\forall s$, $V_{\\pi^*}(s)$ is a fix point for (2), so if $(V_k)_{k\\in \\mathbb{N}}$ converges, it converges to $V_{\\pi^*}$."
      ]
    },
    {
      "cell_type": "code",
      "execution_count": null,
      "metadata": {
        "id": "9KuZ3ceUODcX"
      },
      "outputs": [],
      "source": [
        "def value_iteration(env, gamma=1, theta=1e-8):\n",
        "    V = np.zeros(env.observation_space.n)\n",
        "    while True:\n",
        "        delta = 0\n",
        "        for s in range(env.observation_space.n):\n",
        "            v = V[s]\n",
        "            V[s] = max(q_from_v(env, V, s, gamma))\n",
        "            delta = max(delta,abs(V[s]-v))\n",
        "        if delta < theta:\n",
        "            break\n",
        "    policy = policy_improvement(env, V, gamma)\n",
        "    return policy, V"
      ]
    },
    {
      "cell_type": "code",
      "execution_count": null,
      "metadata": {
        "id": "g66w4z-QODcX",
        "outputId": "07757d44-d9a1-47a9-c2c9-8aeeb4d4ea0f"
      },
      "outputs": [
        {
          "name": "stdout",
          "output_type": "stream",
          "text": [
            "\n",
            "Optimal Policy (LEFT = 0, DOWN = 1, RIGHT = 2, UP = 3):\n",
            "[[1.   0.   0.   0.  ]\n",
            " [0.   0.   0.   1.  ]\n",
            " [0.   0.   0.   1.  ]\n",
            " [0.   0.   0.   1.  ]\n",
            " [1.   0.   0.   0.  ]\n",
            " [0.25 0.25 0.25 0.25]\n",
            " [0.5  0.   0.5  0.  ]\n",
            " [0.25 0.25 0.25 0.25]\n",
            " [0.   0.   0.   1.  ]\n",
            " [0.   1.   0.   0.  ]\n",
            " [1.   0.   0.   0.  ]\n",
            " [0.25 0.25 0.25 0.25]\n",
            " [0.25 0.25 0.25 0.25]\n",
            " [0.   0.   1.   0.  ]\n",
            " [0.   1.   0.   0.  ]\n",
            " [0.25 0.25 0.25 0.25]] \n",
            "\n"
          ]
        },
        {
          "data": {
            "image/png": "[encoded data removed]",
            "text/plain": [
              "<Figure size 432x432 with 1 Axes>"
            ]
          },
          "metadata": {},
          "output_type": "display_data"
        }
      ],
      "source": [
        "policy_vi, V_vi = value_iteration(env)\n",
        "\n",
        "# print the optimal policy\n",
        "print(\"\\nOptimal Policy (LEFT = 0, DOWN = 1, RIGHT = 2, UP = 3):\")\n",
        "print(policy_vi,\"\\n\")\n",
        "\n",
        "# plot the optimal state-value function\n",
        "plot_values_lake(V_vi)"
      ]
    },
    {
      "cell_type": "code",
      "execution_count": null,
      "metadata": {
        "id": "n3v2e7fmODcY",
        "outputId": "a0c15876-a843-4ad0-e0b5-263055c711ad"
      },
      "outputs": [
        {
          "data": {
            "text/plain": [
              "8.882351322605881"
            ]
          },
          "execution_count": 36,
          "metadata": {},
          "output_type": "execute_result"
        }
      ],
      "source": [
        "V_vi.sum()"
      ]
    },
    {
      "cell_type": "markdown",
      "metadata": {
        "id": "NwwfReIfODcY"
      },
      "source": [
        "## Train agent and Run experiments"
      ]
    },
    {
      "cell_type": "code",
      "execution_count": null,
      "metadata": {
        "id": "ZfP0Bx--ODcY"
      },
      "outputs": [],
      "source": [
        "class MyMDPAgent(Agent):\n",
        "    def __init__(self, env):\n",
        "        super().__init__(env)\n",
        "        self.policy = np.ones([self.env.observation_space.n, self.env.action_space.n]) / self.env.action_space.n\n",
        "    def act(self, state):\n",
        "        action = np.random.choice(np.arange(self.env.action_space.n),p=self.policy[state])\n",
        "        return action\n",
        "    def train(self):\n",
        "        self.policy, _ = value_iteration(self.env)"
      ]
    },
    {
      "cell_type": "code",
      "execution_count": null,
      "metadata": {
        "id": "OiBc20i4ODcY"
      },
      "outputs": [],
      "source": [
        "def run_experiment_episode(env, agent, nb_episode):\n",
        "    rewards = np.zeros(nb_episode)\n",
        "    for i in range(nb_episode):\n",
        "        state = env.reset()\n",
        "        done = False\n",
        "        rews = []\n",
        "        while done is False:\n",
        "            action = agent.act(state)\n",
        "            state, reward, done, info = env.step(action)\n",
        "            rews.append(reward)\n",
        "        rewards[i] = sum(rews)\n",
        "    return rewards"
      ]
    },
    {
      "cell_type": "code",
      "execution_count": null,
      "metadata": {
        "id": "AbabdHCmODcZ",
        "outputId": "86c2255b-e70e-480b-df63-9a4b8f71dfc1"
      },
      "outputs": [
        {
          "data": {
            "text/plain": [
              "Text(0.5, 1.0, 'cumulative reward per episode - rand_agent')"
            ]
          },
          "execution_count": 39,
          "metadata": {},
          "output_type": "execute_result"
        },
        {
          "data": {
            "image/png": "[encoded data removed]",
            "text/plain": [
              "<Figure size 432x288 with 1 Axes>"
            ]
          },
          "metadata": {
            "needs_background": "light"
          },
          "output_type": "display_data"
        }
      ],
      "source": [
        "# compute reward with random agent\n",
        "mdp_agent = MyMDPAgent(env)\n",
        "rewards = run_experiment_episode(env, mdp_agent, 50)\n",
        "plt.plot(rewards, 'o')\n",
        "plt.title('cumulative reward per episode - rand_agent')"
      ]
    },
    {
      "cell_type": "code",
      "execution_count": null,
      "metadata": {
        "scrolled": true,
        "id": "BUxlMhMdODcZ",
        "outputId": "426051d7-4d13-40a9-ab77-275e1e2ea232"
      },
      "outputs": [
        {
          "data": {
            "text/plain": [
              "Text(0.5, 1.0, 'cumulative reward per episode - mdp_agent')"
            ]
          },
          "execution_count": 40,
          "metadata": {},
          "output_type": "execute_result"
        },
        {
          "data": {
            "image/png": "[encoded data removed]",
            "text/plain": [
              "<Figure size 432x288 with 1 Axes>"
            ]
          },
          "metadata": {
            "needs_background": "light"
          },
          "output_type": "display_data"
        }
      ],
      "source": [
        "# compute reward after train the agent\n",
        "mdp_agent.train()\n",
        "rewards = run_experiment_episode(env, mdp_agent, 50)\n",
        "plt.plot(rewards, 'o')\n",
        "plt.title('cumulative reward per episode - mdp_agent')"
      ]
    },
    {
      "cell_type": "code",
      "source": [
        "gym_render(env_name='FrozenLake-v1', directory='./video', agent = mdp_agent, slow_coeff=10)"
      ],
      "metadata": {
        "id": "H4wvwYciauyo"
      },
      "execution_count": null,
      "outputs": []
    }
  ],
  "metadata": {
    "kernelspec": {
      "display_name": "Python 3 (ipykernel)",
      "language": "python",
      "name": "python3"
    },
    "language_info": {
      "codemirror_mode": {
        "name": "ipython",
        "version": 3
      },
      "file_extension": ".py",
      "mimetype": "text/x-python",
      "name": "python",
      "nbconvert_exporter": "python",
      "pygments_lexer": "ipython3",
      "version": "3.7.12"
    },
    "colab": {
      "provenance": []
    }
  },
  "nbformat": 4,
  "nbformat_minor": 0
}